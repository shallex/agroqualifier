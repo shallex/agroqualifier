{
  "cells": [
    {
      "cell_type": "code",
      "execution_count": 1,
      "metadata": {
        "id": "DDPmbHBwnjiZ"
      },
      "outputs": [],
      "source": [
        "import warnings\n",
        "import numpy as np\n",
        "import matplotlib.pyplot as plt\n",
        "import requests\n",
        "from PIL import Image\n",
        "from io import BytesIO\n",
        "from pathlib import Path\n",
        "import tqdm\n",
        "from dataclasses import dataclass\n",
        "import time\n",
        "from datetime import datetime\n",
        "\n",
        "from torch.utils.data import Dataset, DataLoader, random_split\n",
        "from torchvision import transforms\n",
        "import torch\n",
        "from torch import nn\n",
        "import torch.nn.functional as F\n",
        "\n",
        "def set_global_seed(seed: int) -> None:\n",
        "    \"\"\"\n",
        "    Set global seed for reproducibility.\n",
        "    \"\"\"\n",
        "\n",
        "    random.seed(seed)\n",
        "    np.random.seed(seed)\n",
        "    torch.manual_seed(seed)\n",
        "    torch.cuda.manual_seed_all(seed)\n",
        "    torch.backends.cudnn.benchmark = True\n",
        "    torch.backends.cudnn.deterministic = True"
      ]
    },
    {
      "cell_type": "code",
      "execution_count": 1,
      "metadata": {
        "colab": {
          "base_uri": "https://localhost:8080/"
        },
        "id": "G2M-SJVm5vR9",
        "outputId": "e593dcab-69f5-400d-f2a4-a8f3c46912d5"
      },
      "outputs": [
        {
          "name": "stdout",
          "output_type": "stream",
          "text": [
            "Drive already mounted at /content/drive; to attempt to forcibly remount, call drive.mount(\"/content/drive\", force_remount=True).\n"
          ]
        }
      ],
      "source": [
        "from google.colab import drive\n",
        "drive.mount('/content/drive')"
      ]
    },
    {
      "cell_type": "code",
      "execution_count": null,
      "metadata": {
        "colab": {
          "base_uri": "https://localhost:8080/"
        },
        "id": "LQrk9KlEIdfl",
        "outputId": "a0f60fc3-43e3-4001-ea62-dc2addc89678"
      },
      "outputs": [
        {
          "name": "stdout",
          "output_type": "stream",
          "text": [
            "Found existing installation: agroqualifier 0.1\n",
            "Uninstalling agroqualifier-0.1:\n",
            "  Successfully uninstalled agroqualifier-0.1\n"
          ]
        }
      ],
      "source": [
        "# !pip uninstall agroqualifier -y"
      ]
    },
    {
      "cell_type": "code",
      "execution_count": 3,
      "metadata": {
        "colab": {
          "base_uri": "https://localhost:8080/"
        },
        "collapsed": true,
        "id": "xMk3-3IA0mh6",
        "outputId": "67181442-fff0-4d52-f022-8cacf9f658f1"
      },
      "outputs": [
        {
          "name": "stdout",
          "output_type": "stream",
          "text": [
            "Requirement already satisfied: wandb in /usr/local/lib/python3.10/dist-packages (0.17.0)\n",
            "Requirement already satisfied: click!=8.0.0,>=7.1 in /usr/local/lib/python3.10/dist-packages (from wandb) (8.1.7)\n",
            "Requirement already satisfied: docker-pycreds>=0.4.0 in /usr/local/lib/python3.10/dist-packages (from wandb) (0.4.0)\n",
            "Requirement already satisfied: gitpython!=3.1.29,>=1.0.0 in /usr/local/lib/python3.10/dist-packages (from wandb) (3.1.43)\n",
            "Requirement already satisfied: platformdirs in /usr/local/lib/python3.10/dist-packages (from wandb) (4.2.2)\n",
            "Requirement already satisfied: protobuf!=4.21.0,<5,>=3.19.0 in /usr/local/lib/python3.10/dist-packages (from wandb) (3.20.3)\n",
            "Requirement already satisfied: psutil>=5.0.0 in /usr/local/lib/python3.10/dist-packages (from wandb) (5.9.5)\n",
            "Requirement already satisfied: pyyaml in /usr/local/lib/python3.10/dist-packages (from wandb) (6.0.1)\n",
            "Requirement already satisfied: requests<3,>=2.0.0 in /usr/local/lib/python3.10/dist-packages (from wandb) (2.31.0)\n",
            "Requirement already satisfied: sentry-sdk>=1.0.0 in /usr/local/lib/python3.10/dist-packages (from wandb) (2.3.0)\n",
            "Requirement already satisfied: setproctitle in /usr/local/lib/python3.10/dist-packages (from wandb) (1.3.3)\n",
            "Requirement already satisfied: setuptools in /usr/local/lib/python3.10/dist-packages (from wandb) (67.7.2)\n",
            "Requirement already satisfied: six>=1.4.0 in /usr/local/lib/python3.10/dist-packages (from docker-pycreds>=0.4.0->wandb) (1.16.0)\n",
            "Requirement already satisfied: gitdb<5,>=4.0.1 in /usr/local/lib/python3.10/dist-packages (from gitpython!=3.1.29,>=1.0.0->wandb) (4.0.11)\n",
            "Requirement already satisfied: charset-normalizer<4,>=2 in /usr/local/lib/python3.10/dist-packages (from requests<3,>=2.0.0->wandb) (3.3.2)\n",
            "Requirement already satisfied: idna<4,>=2.5 in /usr/local/lib/python3.10/dist-packages (from requests<3,>=2.0.0->wandb) (3.7)\n",
            "Requirement already satisfied: urllib3<3,>=1.21.1 in /usr/local/lib/python3.10/dist-packages (from requests<3,>=2.0.0->wandb) (2.0.7)\n",
            "Requirement already satisfied: certifi>=2017.4.17 in /usr/local/lib/python3.10/dist-packages (from requests<3,>=2.0.0->wandb) (2024.2.2)\n",
            "Requirement already satisfied: smmap<6,>=3.0.1 in /usr/local/lib/python3.10/dist-packages (from gitdb<5,>=4.0.1->gitpython!=3.1.29,>=1.0.0->wandb) (5.0.1)\n"
          ]
        }
      ],
      "source": [
        "# !pip install git+https://@github.com/shallex/agroqualifier.git\n",
        "!pip install wandb"
      ]
    },
    {
      "cell_type": "markdown",
      "metadata": {
        "id": "wEqAY5Z9yjdX"
      },
      "source": [
        "# Crop Dataset"
      ]
    },
    {
      "cell_type": "markdown",
      "metadata": {
        "id": "cDiKlWaFyg3v"
      },
      "source": [
        "## Test"
      ]
    },
    {
      "cell_type": "code",
      "execution_count": null,
      "metadata": {
        "colab": {
          "base_uri": "https://localhost:8080/",
          "height": 1000
        },
        "collapsed": true,
        "id": "ZNgBr81rnHb-",
        "outputId": "06115ecf-6cb4-4069-b366-14b605610f93"
      },
      "outputs": [
        {
          "name": "stdout",
          "output_type": "stream",
          "text": [
            "Collecting git+https://github.com/luca-medeiros/lang-segment-anything.git\n",
            "  Cloning https://github.com/luca-medeiros/lang-segment-anything.git to /tmp/pip-req-build-a1k_sads\n",
            "  Running command git clone --filter=blob:none --quiet https://github.com/luca-medeiros/lang-segment-anything.git /tmp/pip-req-build-a1k_sads\n",
            "  Resolved https://github.com/luca-medeiros/lang-segment-anything.git to commit 831cdc10906a23aabe4591a4be06f4c989e4ee30\n",
            "  Installing build dependencies ... \u001b[?25l\u001b[?25hdone\n",
            "  Getting requirements to build wheel ... \u001b[?25l\u001b[?25hdone\n",
            "  Preparing metadata (pyproject.toml) ... \u001b[?25l\u001b[?25hdone\n",
            "Collecting groundingdino@ git+https://github.com/IDEA-Research/GroundingDINO.git (from lang-sam==0.1.0)\n",
            "  Cloning https://github.com/IDEA-Research/GroundingDINO.git to /tmp/pip-install-ep31u_lw/groundingdino_9d5cbf5e18004b16999d2d0e76f841c2\n",
            "  Running command git clone --filter=blob:none --quiet https://github.com/IDEA-Research/GroundingDINO.git /tmp/pip-install-ep31u_lw/groundingdino_9d5cbf5e18004b16999d2d0e76f841c2\n",
            "  Resolved https://github.com/IDEA-Research/GroundingDINO.git to commit 16e0ccdb7da40613591666abe2cb06f91f961503\n",
            "  Preparing metadata (setup.py) ... \u001b[?25l\u001b[?25hdone\n",
            "Collecting segment-anything@ git+https://github.com/facebookresearch/segment-anything.git (from lang-sam==0.1.0)\n",
            "  Cloning https://github.com/facebookresearch/segment-anything.git to /tmp/pip-install-ep31u_lw/segment-anything_5e5b7b17ce2b44de8f30ce7ccfa16556\n",
            "  Running command git clone --filter=blob:none --quiet https://github.com/facebookresearch/segment-anything.git /tmp/pip-install-ep31u_lw/segment-anything_5e5b7b17ce2b44de8f30ce7ccfa16556\n",
            "  Resolved https://github.com/facebookresearch/segment-anything.git to commit 6fdee8f2727f4506cfbbe553e23b895e27956588\n",
            "  Preparing metadata (setup.py) ... \u001b[?25l\u001b[?25hdone\n",
            "Collecting Pillow==9.3.0 (from lang-sam==0.1.0)\n",
            "  Downloading Pillow-9.3.0-cp310-cp310-manylinux_2_28_x86_64.whl (3.3 MB)\n",
            "\u001b[2K     \u001b[90m━━━━━━━━━━━━━━━━━━━━━━━━━━━━━━━━━━━━━━━━\u001b[0m \u001b[32m3.3/3.3 MB\u001b[0m \u001b[31m12.6 MB/s\u001b[0m eta \u001b[36m0:00:00\u001b[0m\n",
            "\u001b[?25hCollecting gradio<4.0.0,>=3.24.1 (from lang-sam==0.1.0)\n",
            "  Downloading gradio-3.50.2-py3-none-any.whl (20.3 MB)\n",
            "\u001b[2K     \u001b[90m━━━━━━━━━━━━━━━━━━━━━━━━━━━━━━━━━━━━━━━━\u001b[0m \u001b[32m20.3/20.3 MB\u001b[0m \u001b[31m16.8 MB/s\u001b[0m eta \u001b[36m0:00:00\u001b[0m\n",
            "\u001b[?25hCollecting huggingface-hub<0.17.0,>=0.16.4 (from lang-sam==0.1.0)\n",
            "  Downloading huggingface_hub-0.16.4-py3-none-any.whl (268 kB)\n",
            "\u001b[2K     \u001b[90m━━━━━━━━━━━━━━━━━━━━━━━━━━━━━━━━━━━━━━━━\u001b[0m \u001b[32m268.8/268.8 kB\u001b[0m \u001b[31m30.7 MB/s\u001b[0m eta \u001b[36m0:00:00\u001b[0m\n",
            "\u001b[?25hCollecting lightning<3.0.0,>=2.0.1 (from lang-sam==0.1.0)\n",
            "  Downloading lightning-2.2.4-py3-none-any.whl (2.0 MB)\n",
            "\u001b[2K     \u001b[90m━━━━━━━━━━━━━━━━━━━━━━━━━━━━━━━━━━━━━━━━\u001b[0m \u001b[32m2.0/2.0 MB\u001b[0m \u001b[31m88.6 MB/s\u001b[0m eta \u001b[36m0:00:00\u001b[0m\n",
            "\u001b[?25hRequirement already satisfied: numpy<2.0.0,>=1.24.2 in /usr/local/lib/python3.10/dist-packages (from lang-sam==0.1.0) (1.25.2)\n",
            "Requirement already satisfied: opencv_python<5.0.0.0,>=4.7.0.72 in /usr/local/lib/python3.10/dist-packages (from lang-sam==0.1.0) (4.8.0.76)\n",
            "Requirement already satisfied: transformers<5.0.0,>=4.27.4 in /usr/local/lib/python3.10/dist-packages (from lang-sam==0.1.0) (4.40.2)\n",
            "Collecting aiofiles<24.0,>=22.0 (from gradio<4.0.0,>=3.24.1->lang-sam==0.1.0)\n",
            "  Downloading aiofiles-23.2.1-py3-none-any.whl (15 kB)\n",
            "Requirement already satisfied: altair<6.0,>=4.2.0 in /usr/local/lib/python3.10/dist-packages (from gradio<4.0.0,>=3.24.1->lang-sam==0.1.0) (4.2.2)\n",
            "Collecting fastapi (from gradio<4.0.0,>=3.24.1->lang-sam==0.1.0)\n",
            "  Downloading fastapi-0.111.0-py3-none-any.whl (91 kB)\n",
            "\u001b[2K     \u001b[90m━━━━━━━━━━━━━━━━━━━━━━━━━━━━━━━━━━━━━━━━\u001b[0m \u001b[32m92.0/92.0 kB\u001b[0m \u001b[31m12.8 MB/s\u001b[0m eta \u001b[36m0:00:00\u001b[0m\n",
            "\u001b[?25hCollecting ffmpy (from gradio<4.0.0,>=3.24.1->lang-sam==0.1.0)\n",
            "  Downloading ffmpy-0.3.2.tar.gz (5.5 kB)\n",
            "  Preparing metadata (setup.py) ... \u001b[?25l\u001b[?25hdone\n",
            "Collecting gradio-client==0.6.1 (from gradio<4.0.0,>=3.24.1->lang-sam==0.1.0)\n",
            "  Downloading gradio_client-0.6.1-py3-none-any.whl (299 kB)\n",
            "\u001b[2K     \u001b[90m━━━━━━━━━━━━━━━━━━━━━━━━━━━━━━━━━━━━━━━━\u001b[0m \u001b[32m299.2/299.2 kB\u001b[0m \u001b[31m37.2 MB/s\u001b[0m eta \u001b[36m0:00:00\u001b[0m\n",
            "\u001b[?25hCollecting httpx (from gradio<4.0.0,>=3.24.1->lang-sam==0.1.0)\n",
            "  Downloading httpx-0.27.0-py3-none-any.whl (75 kB)\n",
            "\u001b[2K     \u001b[90m━━━━━━━━━━━━━━━━━━━━━━━━━━━━━━━━━━━━━━━━\u001b[0m \u001b[32m75.6/75.6 kB\u001b[0m \u001b[31m10.9 MB/s\u001b[0m eta \u001b[36m0:00:00\u001b[0m\n",
            "\u001b[?25hRequirement already satisfied: importlib-resources<7.0,>=1.3 in /usr/local/lib/python3.10/dist-packages (from gradio<4.0.0,>=3.24.1->lang-sam==0.1.0) (6.4.0)\n",
            "Requirement already satisfied: jinja2<4.0 in /usr/local/lib/python3.10/dist-packages (from gradio<4.0.0,>=3.24.1->lang-sam==0.1.0) (3.1.4)\n",
            "Requirement already satisfied: markupsafe~=2.0 in /usr/local/lib/python3.10/dist-packages (from gradio<4.0.0,>=3.24.1->lang-sam==0.1.0) (2.1.5)\n",
            "Requirement already satisfied: matplotlib~=3.0 in /usr/local/lib/python3.10/dist-packages (from gradio<4.0.0,>=3.24.1->lang-sam==0.1.0) (3.7.1)\n",
            "Collecting orjson~=3.0 (from gradio<4.0.0,>=3.24.1->lang-sam==0.1.0)\n",
            "  Downloading orjson-3.10.3-cp310-cp310-manylinux_2_17_x86_64.manylinux2014_x86_64.whl (142 kB)\n",
            "\u001b[2K     \u001b[90m━━━━━━━━━━━━━━━━━━━━━━━━━━━━━━━━━━━━━━━━\u001b[0m \u001b[32m142.5/142.5 kB\u001b[0m \u001b[31m18.5 MB/s\u001b[0m eta \u001b[36m0:00:00\u001b[0m\n",
            "\u001b[?25hRequirement already satisfied: packaging in /usr/local/lib/python3.10/dist-packages (from gradio<4.0.0,>=3.24.1->lang-sam==0.1.0) (24.0)\n",
            "Requirement already satisfied: pandas<3.0,>=1.0 in /usr/local/lib/python3.10/dist-packages (from gradio<4.0.0,>=3.24.1->lang-sam==0.1.0) (2.0.3)\n",
            "Requirement already satisfied: pydantic!=1.8,!=1.8.1,!=2.0.0,!=2.0.1,<3.0.0,>=1.7.4 in /usr/local/lib/python3.10/dist-packages (from gradio<4.0.0,>=3.24.1->lang-sam==0.1.0) (2.7.1)\n",
            "Collecting pydub (from gradio<4.0.0,>=3.24.1->lang-sam==0.1.0)\n",
            "  Downloading pydub-0.25.1-py2.py3-none-any.whl (32 kB)\n",
            "Collecting python-multipart (from gradio<4.0.0,>=3.24.1->lang-sam==0.1.0)\n",
            "  Downloading python_multipart-0.0.9-py3-none-any.whl (22 kB)\n",
            "Requirement already satisfied: pyyaml<7.0,>=5.0 in /usr/local/lib/python3.10/dist-packages (from gradio<4.0.0,>=3.24.1->lang-sam==0.1.0) (6.0.1)\n",
            "Requirement already satisfied: requests~=2.0 in /usr/local/lib/python3.10/dist-packages (from gradio<4.0.0,>=3.24.1->lang-sam==0.1.0) (2.31.0)\n",
            "Collecting semantic-version~=2.0 (from gradio<4.0.0,>=3.24.1->lang-sam==0.1.0)\n",
            "  Downloading semantic_version-2.10.0-py2.py3-none-any.whl (15 kB)\n",
            "Requirement already satisfied: typing-extensions~=4.0 in /usr/local/lib/python3.10/dist-packages (from gradio<4.0.0,>=3.24.1->lang-sam==0.1.0) (4.11.0)\n",
            "Collecting uvicorn>=0.14.0 (from gradio<4.0.0,>=3.24.1->lang-sam==0.1.0)\n",
            "  Downloading uvicorn-0.29.0-py3-none-any.whl (60 kB)\n",
            "\u001b[2K     \u001b[90m━━━━━━━━━━━━━━━━━━━━━━━━━━━━━━━━━━━━━━━━\u001b[0m \u001b[32m60.8/60.8 kB\u001b[0m \u001b[31m7.4 MB/s\u001b[0m eta \u001b[36m0:00:00\u001b[0m\n",
            "\u001b[?25hCollecting websockets<12.0,>=10.0 (from gradio<4.0.0,>=3.24.1->lang-sam==0.1.0)\n",
            "  Downloading websockets-11.0.3-cp310-cp310-manylinux_2_5_x86_64.manylinux1_x86_64.manylinux_2_17_x86_64.manylinux2014_x86_64.whl (129 kB)\n",
            "\u001b[2K     \u001b[90m━━━━━━━━━━━━━━━━━━━━━━━━━━━━━━━━━━━━━━━━\u001b[0m \u001b[32m129.9/129.9 kB\u001b[0m \u001b[31m14.4 MB/s\u001b[0m eta \u001b[36m0:00:00\u001b[0m\n",
            "\u001b[?25hRequirement already satisfied: fsspec in /usr/local/lib/python3.10/dist-packages (from gradio-client==0.6.1->gradio<4.0.0,>=3.24.1->lang-sam==0.1.0) (2023.6.0)\n",
            "Requirement already satisfied: filelock in /usr/local/lib/python3.10/dist-packages (from huggingface-hub<0.17.0,>=0.16.4->lang-sam==0.1.0) (3.14.0)\n",
            "Requirement already satisfied: tqdm>=4.42.1 in /usr/local/lib/python3.10/dist-packages (from huggingface-hub<0.17.0,>=0.16.4->lang-sam==0.1.0) (4.66.4)\n",
            "Collecting lightning-utilities<2.0,>=0.8.0 (from lightning<3.0.0,>=2.0.1->lang-sam==0.1.0)\n",
            "  Downloading lightning_utilities-0.11.2-py3-none-any.whl (26 kB)\n",
            "Requirement already satisfied: torch<4.0,>=1.13.0 in /usr/local/lib/python3.10/dist-packages (from lightning<3.0.0,>=2.0.1->lang-sam==0.1.0) (2.2.1+cu121)\n",
            "Collecting torchmetrics<3.0,>=0.7.0 (from lightning<3.0.0,>=2.0.1->lang-sam==0.1.0)\n",
            "  Downloading torchmetrics-1.4.0-py3-none-any.whl (868 kB)\n",
            "\u001b[2K     \u001b[90m━━━━━━━━━━━━━━━━━━━━━━━━━━━━━━━━━━━━━━━━\u001b[0m \u001b[32m868.8/868.8 kB\u001b[0m \u001b[31m68.1 MB/s\u001b[0m eta \u001b[36m0:00:00\u001b[0m\n",
            "\u001b[?25hCollecting pytorch-lightning (from lightning<3.0.0,>=2.0.1->lang-sam==0.1.0)\n",
            "  Downloading pytorch_lightning-2.2.4-py3-none-any.whl (802 kB)\n",
            "\u001b[2K     \u001b[90m━━━━━━━━━━━━━━━━━━━━━━━━━━━━━━━━━━━━━━━━\u001b[0m \u001b[32m802.2/802.2 kB\u001b[0m \u001b[31m57.7 MB/s\u001b[0m eta \u001b[36m0:00:00\u001b[0m\n",
            "\u001b[?25hINFO: pip is looking at multiple versions of transformers to determine which version is compatible with other requirements. This could take a while.\n",
            "Collecting transformers<5.0.0,>=4.27.4 (from lang-sam==0.1.0)\n",
            "  Downloading transformers-4.40.1-py3-none-any.whl (9.0 MB)\n",
            "\u001b[2K     \u001b[90m━━━━━━━━━━━━━━━━━━━━━━━━━━━━━━━━━━━━━━━━\u001b[0m \u001b[32m9.0/9.0 MB\u001b[0m \u001b[31m53.5 MB/s\u001b[0m eta \u001b[36m0:00:00\u001b[0m\n",
            "\u001b[?25h  Downloading transformers-4.40.0-py3-none-any.whl (9.0 MB)\n",
            "\u001b[2K     \u001b[90m━━━━━━━━━━━━━━━━━━━━━━━━━━━━━━━━━━━━━━━━\u001b[0m \u001b[32m9.0/9.0 MB\u001b[0m \u001b[31m59.4 MB/s\u001b[0m eta \u001b[36m0:00:00\u001b[0m\n",
            "\u001b[?25h  Downloading transformers-4.39.3-py3-none-any.whl (8.8 MB)\n",
            "\u001b[2K     \u001b[90m━━━━━━━━━━━━━━━━━━━━━━━━━━━━━━━━━━━━━━━━\u001b[0m \u001b[32m8.8/8.8 MB\u001b[0m \u001b[31m57.1 MB/s\u001b[0m eta \u001b[36m0:00:00\u001b[0m\n",
            "\u001b[?25h  Downloading transformers-4.39.2-py3-none-any.whl (8.8 MB)\n",
            "\u001b[2K     \u001b[90m━━━━━━━━━━━━━━━━━━━━━━━━━━━━━━━━━━━━━━━━\u001b[0m \u001b[32m8.8/8.8 MB\u001b[0m \u001b[31m54.6 MB/s\u001b[0m eta \u001b[36m0:00:00\u001b[0m\n",
            "\u001b[?25h  Downloading transformers-4.39.1-py3-none-any.whl (8.8 MB)\n",
            "\u001b[2K     \u001b[90m━━━━━━━━━━━━━━━━━━━━━━━━━━━━━━━━━━━━━━━━\u001b[0m \u001b[32m8.8/8.8 MB\u001b[0m \u001b[31m59.4 MB/s\u001b[0m eta \u001b[36m0:00:00\u001b[0m\n",
            "\u001b[?25h  Downloading transformers-4.39.0-py3-none-any.whl (8.8 MB)\n",
            "\u001b[2K     \u001b[90m━━━━━━━━━━━━━━━━━━━━━━━━━━━━━━━━━━━━━━━━\u001b[0m \u001b[32m8.8/8.8 MB\u001b[0m \u001b[31m57.4 MB/s\u001b[0m eta \u001b[36m0:00:00\u001b[0m\n",
            "\u001b[?25h  Downloading transformers-4.38.2-py3-none-any.whl (8.5 MB)\n",
            "\u001b[2K     \u001b[90m━━━━━━━━━━━━━━━━━━━━━━━━━━━━━━━━━━━━━━━━\u001b[0m \u001b[32m8.5/8.5 MB\u001b[0m \u001b[31m53.4 MB/s\u001b[0m eta \u001b[36m0:00:00\u001b[0m\n",
            "\u001b[?25hINFO: pip is looking at multiple versions of transformers to determine which version is compatible with other requirements. This could take a while.\n",
            "  Downloading transformers-4.38.1-py3-none-any.whl (8.5 MB)\n",
            "\u001b[2K     \u001b[90m━━━━━━━━━━━━━━━━━━━━━━━━━━━━━━━━━━━━━━━━\u001b[0m \u001b[32m8.5/8.5 MB\u001b[0m \u001b[31m55.5 MB/s\u001b[0m eta \u001b[36m0:00:00\u001b[0m\n",
            "\u001b[?25h  Downloading transformers-4.38.0-py3-none-any.whl (8.5 MB)\n",
            "\u001b[2K     \u001b[90m━━━━━━━━━━━━━━━━━━━━━━━━━━━━━━━━━━━━━━━━\u001b[0m \u001b[32m8.5/8.5 MB\u001b[0m \u001b[31m57.5 MB/s\u001b[0m eta \u001b[36m0:00:00\u001b[0m\n",
            "\u001b[?25h  Downloading transformers-4.37.2-py3-none-any.whl (8.4 MB)\n",
            "\u001b[2K     \u001b[90m━━━━━━━━━━━━━━━━━━━━━━━━━━━━━━━━━━━━━━━━\u001b[0m \u001b[32m8.4/8.4 MB\u001b[0m \u001b[31m52.5 MB/s\u001b[0m eta \u001b[36m0:00:00\u001b[0m\n",
            "\u001b[?25h  Downloading transformers-4.37.1-py3-none-any.whl (8.4 MB)\n",
            "\u001b[2K     \u001b[90m━━━━━━━━━━━━━━━━━━━━━━━━━━━━━━━━━━━━━━━━\u001b[0m \u001b[32m8.4/8.4 MB\u001b[0m \u001b[31m14.3 MB/s\u001b[0m eta \u001b[36m0:00:00\u001b[0m\n",
            "\u001b[?25h  Downloading transformers-4.37.0-py3-none-any.whl (8.4 MB)\n",
            "\u001b[2K     \u001b[90m━━━━━━━━━━━━━━━━━━━━━━━━━━━━━━━━━━━━━━━━\u001b[0m \u001b[32m8.4/8.4 MB\u001b[0m \u001b[31m57.1 MB/s\u001b[0m eta \u001b[36m0:00:00\u001b[0m\n",
            "\u001b[?25hINFO: This is taking longer than usual. You might need to provide the dependency resolver with stricter constraints to reduce runtime. See https://pip.pypa.io/warnings/backtracking for guidance. If you want to abort this run, press Ctrl + C.\n",
            "  Downloading transformers-4.36.2-py3-none-any.whl (8.2 MB)\n",
            "\u001b[2K     \u001b[90m━━━━━━━━━━━━━━━━━━━━━━━━━━━━━━━━━━━━━━━━\u001b[0m \u001b[32m8.2/8.2 MB\u001b[0m \u001b[31m53.2 MB/s\u001b[0m eta \u001b[36m0:00:00\u001b[0m\n",
            "\u001b[?25h  Downloading transformers-4.36.1-py3-none-any.whl (8.3 MB)\n",
            "\u001b[2K     \u001b[90m━━━━━━━━━━━━━━━━━━━━━━━━━━━━━━━━━━━━━━━━\u001b[0m \u001b[32m8.3/8.3 MB\u001b[0m \u001b[31m54.2 MB/s\u001b[0m eta \u001b[36m0:00:00\u001b[0m\n",
            "\u001b[?25h  Downloading transformers-4.36.0-py3-none-any.whl (8.2 MB)\n",
            "\u001b[2K     \u001b[90m━━━━━━━━━━━━━━━━━━━━━━━━━━━━━━━━━━━━━━━━\u001b[0m \u001b[32m8.2/8.2 MB\u001b[0m \u001b[31m56.5 MB/s\u001b[0m eta \u001b[36m0:00:00\u001b[0m\n",
            "\u001b[?25h  Downloading transformers-4.35.2-py3-none-any.whl (7.9 MB)\n",
            "\u001b[2K     \u001b[90m━━━━━━━━━━━━━━━━━━━━━━━━━━━━━━━━━━━━━━━━\u001b[0m \u001b[32m7.9/7.9 MB\u001b[0m \u001b[31m45.3 MB/s\u001b[0m eta \u001b[36m0:00:00\u001b[0m\n",
            "\u001b[?25hRequirement already satisfied: regex!=2019.12.17 in /usr/local/lib/python3.10/dist-packages (from transformers<5.0.0,>=4.27.4->lang-sam==0.1.0) (2023.12.25)\n",
            "Collecting tokenizers<0.19,>=0.14 (from transformers<5.0.0,>=4.27.4->lang-sam==0.1.0)\n",
            "  Downloading tokenizers-0.15.2-cp310-cp310-manylinux_2_17_x86_64.manylinux2014_x86_64.whl (3.6 MB)\n",
            "\u001b[2K     \u001b[90m━━━━━━━━━━━━━━━━━━━━━━━━━━━━━━━━━━━━━━━━\u001b[0m \u001b[32m3.6/3.6 MB\u001b[0m \u001b[31m40.3 MB/s\u001b[0m eta \u001b[36m0:00:00\u001b[0m\n",
            "\u001b[?25hRequirement already satisfied: safetensors>=0.3.1 in /usr/local/lib/python3.10/dist-packages (from transformers<5.0.0,>=4.27.4->lang-sam==0.1.0) (0.4.3)\n",
            "Requirement already satisfied: torchvision in /usr/local/lib/python3.10/dist-packages (from groundingdino@ git+https://github.com/IDEA-Research/GroundingDINO.git->lang-sam==0.1.0) (0.17.1+cu121)\n",
            "Collecting addict (from groundingdino@ git+https://github.com/IDEA-Research/GroundingDINO.git->lang-sam==0.1.0)\n",
            "  Downloading addict-2.4.0-py3-none-any.whl (3.8 kB)\n",
            "Collecting yapf (from groundingdino@ git+https://github.com/IDEA-Research/GroundingDINO.git->lang-sam==0.1.0)\n",
            "  Downloading yapf-0.40.2-py3-none-any.whl (254 kB)\n",
            "\u001b[2K     \u001b[90m━━━━━━━━━━━━━━━━━━━━━━━━━━━━━━━━━━━━━━━━\u001b[0m \u001b[32m254.7/254.7 kB\u001b[0m \u001b[31m31.8 MB/s\u001b[0m eta \u001b[36m0:00:00\u001b[0m\n",
            "\u001b[?25hCollecting timm (from groundingdino@ git+https://github.com/IDEA-Research/GroundingDINO.git->lang-sam==0.1.0)\n",
            "  Downloading timm-0.9.16-py3-none-any.whl (2.2 MB)\n",
            "\u001b[2K     \u001b[90m━━━━━━━━━━━━━━━━━━━━━━━━━━━━━━━━━━━━━━━━\u001b[0m \u001b[32m2.2/2.2 MB\u001b[0m \u001b[31m84.4 MB/s\u001b[0m eta \u001b[36m0:00:00\u001b[0m\n",
            "\u001b[?25hCollecting supervision (from groundingdino@ git+https://github.com/IDEA-Research/GroundingDINO.git->lang-sam==0.1.0)\n",
            "  Downloading supervision-0.20.0-py3-none-any.whl (110 kB)\n",
            "\u001b[2K     \u001b[90m━━━━━━━━━━━━━━━━━━━━━━━━━━━━━━━━━━━━━━━━\u001b[0m \u001b[32m111.0/111.0 kB\u001b[0m \u001b[31m16.4 MB/s\u001b[0m eta \u001b[36m0:00:00\u001b[0m\n",
            "\u001b[?25hRequirement already satisfied: pycocotools in /usr/local/lib/python3.10/dist-packages (from groundingdino@ git+https://github.com/IDEA-Research/GroundingDINO.git->lang-sam==0.1.0) (2.0.7)\n",
            "Requirement already satisfied: entrypoints in /usr/local/lib/python3.10/dist-packages (from altair<6.0,>=4.2.0->gradio<4.0.0,>=3.24.1->lang-sam==0.1.0) (0.4)\n",
            "Requirement already satisfied: jsonschema>=3.0 in /usr/local/lib/python3.10/dist-packages (from altair<6.0,>=4.2.0->gradio<4.0.0,>=3.24.1->lang-sam==0.1.0) (4.19.2)\n",
            "Requirement already satisfied: toolz in /usr/local/lib/python3.10/dist-packages (from altair<6.0,>=4.2.0->gradio<4.0.0,>=3.24.1->lang-sam==0.1.0) (0.12.1)\n",
            "Requirement already satisfied: aiohttp!=4.0.0a0,!=4.0.0a1 in /usr/local/lib/python3.10/dist-packages (from fsspec->gradio-client==0.6.1->gradio<4.0.0,>=3.24.1->lang-sam==0.1.0) (3.9.5)\n",
            "Requirement already satisfied: setuptools in /usr/local/lib/python3.10/dist-packages (from lightning-utilities<2.0,>=0.8.0->lightning<3.0.0,>=2.0.1->lang-sam==0.1.0) (67.7.2)\n",
            "Requirement already satisfied: contourpy>=1.0.1 in /usr/local/lib/python3.10/dist-packages (from matplotlib~=3.0->gradio<4.0.0,>=3.24.1->lang-sam==0.1.0) (1.2.1)\n",
            "Requirement already satisfied: cycler>=0.10 in /usr/local/lib/python3.10/dist-packages (from matplotlib~=3.0->gradio<4.0.0,>=3.24.1->lang-sam==0.1.0) (0.12.1)\n",
            "Requirement already satisfied: fonttools>=4.22.0 in /usr/local/lib/python3.10/dist-packages (from matplotlib~=3.0->gradio<4.0.0,>=3.24.1->lang-sam==0.1.0) (4.51.0)\n",
            "Requirement already satisfied: kiwisolver>=1.0.1 in /usr/local/lib/python3.10/dist-packages (from matplotlib~=3.0->gradio<4.0.0,>=3.24.1->lang-sam==0.1.0) (1.4.5)\n",
            "Requirement already satisfied: pyparsing>=2.3.1 in /usr/local/lib/python3.10/dist-packages (from matplotlib~=3.0->gradio<4.0.0,>=3.24.1->lang-sam==0.1.0) (3.1.2)\n",
            "Requirement already satisfied: python-dateutil>=2.7 in /usr/local/lib/python3.10/dist-packages (from matplotlib~=3.0->gradio<4.0.0,>=3.24.1->lang-sam==0.1.0) (2.8.2)\n",
            "Requirement already satisfied: pytz>=2020.1 in /usr/local/lib/python3.10/dist-packages (from pandas<3.0,>=1.0->gradio<4.0.0,>=3.24.1->lang-sam==0.1.0) (2023.4)\n",
            "Requirement already satisfied: tzdata>=2022.1 in /usr/local/lib/python3.10/dist-packages (from pandas<3.0,>=1.0->gradio<4.0.0,>=3.24.1->lang-sam==0.1.0) (2024.1)\n",
            "Requirement already satisfied: annotated-types>=0.4.0 in /usr/local/lib/python3.10/dist-packages (from pydantic!=1.8,!=1.8.1,!=2.0.0,!=2.0.1,<3.0.0,>=1.7.4->gradio<4.0.0,>=3.24.1->lang-sam==0.1.0) (0.6.0)\n",
            "Requirement already satisfied: pydantic-core==2.18.2 in /usr/local/lib/python3.10/dist-packages (from pydantic!=1.8,!=1.8.1,!=2.0.0,!=2.0.1,<3.0.0,>=1.7.4->gradio<4.0.0,>=3.24.1->lang-sam==0.1.0) (2.18.2)\n",
            "Requirement already satisfied: charset-normalizer<4,>=2 in /usr/local/lib/python3.10/dist-packages (from requests~=2.0->gradio<4.0.0,>=3.24.1->lang-sam==0.1.0) (3.3.2)\n",
            "Requirement already satisfied: idna<4,>=2.5 in /usr/local/lib/python3.10/dist-packages (from requests~=2.0->gradio<4.0.0,>=3.24.1->lang-sam==0.1.0) (3.7)\n",
            "Requirement already satisfied: urllib3<3,>=1.21.1 in /usr/local/lib/python3.10/dist-packages (from requests~=2.0->gradio<4.0.0,>=3.24.1->lang-sam==0.1.0) (2.0.7)\n",
            "Requirement already satisfied: certifi>=2017.4.17 in /usr/local/lib/python3.10/dist-packages (from requests~=2.0->gradio<4.0.0,>=3.24.1->lang-sam==0.1.0) (2024.2.2)\n",
            "Requirement already satisfied: sympy in /usr/local/lib/python3.10/dist-packages (from torch<4.0,>=1.13.0->lightning<3.0.0,>=2.0.1->lang-sam==0.1.0) (1.12)\n",
            "Requirement already satisfied: networkx in /usr/local/lib/python3.10/dist-packages (from torch<4.0,>=1.13.0->lightning<3.0.0,>=2.0.1->lang-sam==0.1.0) (3.3)\n",
            "Collecting nvidia-cuda-nvrtc-cu12==12.1.105 (from torch<4.0,>=1.13.0->lightning<3.0.0,>=2.0.1->lang-sam==0.1.0)\n",
            "  Using cached nvidia_cuda_nvrtc_cu12-12.1.105-py3-none-manylinux1_x86_64.whl (23.7 MB)\n",
            "Collecting nvidia-cuda-runtime-cu12==12.1.105 (from torch<4.0,>=1.13.0->lightning<3.0.0,>=2.0.1->lang-sam==0.1.0)\n",
            "  Using cached nvidia_cuda_runtime_cu12-12.1.105-py3-none-manylinux1_x86_64.whl (823 kB)\n",
            "Collecting nvidia-cuda-cupti-cu12==12.1.105 (from torch<4.0,>=1.13.0->lightning<3.0.0,>=2.0.1->lang-sam==0.1.0)\n",
            "  Using cached nvidia_cuda_cupti_cu12-12.1.105-py3-none-manylinux1_x86_64.whl (14.1 MB)\n",
            "Collecting nvidia-cudnn-cu12==8.9.2.26 (from torch<4.0,>=1.13.0->lightning<3.0.0,>=2.0.1->lang-sam==0.1.0)\n",
            "  Using cached nvidia_cudnn_cu12-8.9.2.26-py3-none-manylinux1_x86_64.whl (731.7 MB)\n",
            "Collecting nvidia-cublas-cu12==12.1.3.1 (from torch<4.0,>=1.13.0->lightning<3.0.0,>=2.0.1->lang-sam==0.1.0)\n",
            "  Using cached nvidia_cublas_cu12-12.1.3.1-py3-none-manylinux1_x86_64.whl (410.6 MB)\n",
            "Collecting nvidia-cufft-cu12==11.0.2.54 (from torch<4.0,>=1.13.0->lightning<3.0.0,>=2.0.1->lang-sam==0.1.0)\n",
            "  Using cached nvidia_cufft_cu12-11.0.2.54-py3-none-manylinux1_x86_64.whl (121.6 MB)\n",
            "Collecting nvidia-curand-cu12==10.3.2.106 (from torch<4.0,>=1.13.0->lightning<3.0.0,>=2.0.1->lang-sam==0.1.0)\n",
            "  Using cached nvidia_curand_cu12-10.3.2.106-py3-none-manylinux1_x86_64.whl (56.5 MB)\n",
            "Collecting nvidia-cusolver-cu12==11.4.5.107 (from torch<4.0,>=1.13.0->lightning<3.0.0,>=2.0.1->lang-sam==0.1.0)\n",
            "  Using cached nvidia_cusolver_cu12-11.4.5.107-py3-none-manylinux1_x86_64.whl (124.2 MB)\n",
            "Collecting nvidia-cusparse-cu12==12.1.0.106 (from torch<4.0,>=1.13.0->lightning<3.0.0,>=2.0.1->lang-sam==0.1.0)\n",
            "  Using cached nvidia_cusparse_cu12-12.1.0.106-py3-none-manylinux1_x86_64.whl (196.0 MB)\n",
            "Collecting nvidia-nccl-cu12==2.19.3 (from torch<4.0,>=1.13.0->lightning<3.0.0,>=2.0.1->lang-sam==0.1.0)\n",
            "  Using cached nvidia_nccl_cu12-2.19.3-py3-none-manylinux1_x86_64.whl (166.0 MB)\n",
            "Collecting nvidia-nvtx-cu12==12.1.105 (from torch<4.0,>=1.13.0->lightning<3.0.0,>=2.0.1->lang-sam==0.1.0)\n",
            "  Using cached nvidia_nvtx_cu12-12.1.105-py3-none-manylinux1_x86_64.whl (99 kB)\n",
            "Requirement already satisfied: triton==2.2.0 in /usr/local/lib/python3.10/dist-packages (from torch<4.0,>=1.13.0->lightning<3.0.0,>=2.0.1->lang-sam==0.1.0) (2.2.0)\n",
            "Collecting nvidia-nvjitlink-cu12 (from nvidia-cusolver-cu12==11.4.5.107->torch<4.0,>=1.13.0->lightning<3.0.0,>=2.0.1->lang-sam==0.1.0)\n",
            "  Using cached nvidia_nvjitlink_cu12-12.4.127-py3-none-manylinux2014_x86_64.whl (21.1 MB)\n",
            "Collecting pretty-errors==1.2.25 (from torchmetrics<3.0,>=0.7.0->lightning<3.0.0,>=2.0.1->lang-sam==0.1.0)\n",
            "  Downloading pretty_errors-1.2.25-py3-none-any.whl (17 kB)\n",
            "Collecting colorama (from pretty-errors==1.2.25->torchmetrics<3.0,>=0.7.0->lightning<3.0.0,>=2.0.1->lang-sam==0.1.0)\n",
            "  Downloading colorama-0.4.6-py2.py3-none-any.whl (25 kB)\n",
            "Requirement already satisfied: click>=7.0 in /usr/local/lib/python3.10/dist-packages (from uvicorn>=0.14.0->gradio<4.0.0,>=3.24.1->lang-sam==0.1.0) (8.1.7)\n",
            "Collecting h11>=0.8 (from uvicorn>=0.14.0->gradio<4.0.0,>=3.24.1->lang-sam==0.1.0)\n",
            "  Downloading h11-0.14.0-py3-none-any.whl (58 kB)\n",
            "\u001b[2K     \u001b[90m━━━━━━━━━━━━━━━━━━━━━━━━━━━━━━━━━━━━━━━━\u001b[0m \u001b[32m58.3/58.3 kB\u001b[0m \u001b[31m5.8 MB/s\u001b[0m eta \u001b[36m0:00:00\u001b[0m\n",
            "\u001b[?25hCollecting starlette<0.38.0,>=0.37.2 (from fastapi->gradio<4.0.0,>=3.24.1->lang-sam==0.1.0)\n",
            "  Downloading starlette-0.37.2-py3-none-any.whl (71 kB)\n",
            "\u001b[2K     \u001b[90m━━━━━━━━━━━━━━━━━━━━━━━━━━━━━━━━━━━━━━━━\u001b[0m \u001b[32m71.9/71.9 kB\u001b[0m \u001b[31m11.2 MB/s\u001b[0m eta \u001b[36m0:00:00\u001b[0m\n",
            "\u001b[?25hCollecting fastapi-cli>=0.0.2 (from fastapi->gradio<4.0.0,>=3.24.1->lang-sam==0.1.0)\n",
            "  Downloading fastapi_cli-0.0.3-py3-none-any.whl (9.2 kB)\n",
            "Collecting ujson!=4.0.2,!=4.1.0,!=4.2.0,!=4.3.0,!=5.0.0,!=5.1.0,>=4.0.1 (from fastapi->gradio<4.0.0,>=3.24.1->lang-sam==0.1.0)\n",
            "  Downloading ujson-5.9.0-cp310-cp310-manylinux_2_17_x86_64.manylinux2014_x86_64.whl (53 kB)\n",
            "\u001b[2K     \u001b[90m━━━━━━━━━━━━━━━━━━━━━━━━━━━━━━━━━━━━━━━━\u001b[0m \u001b[32m53.2/53.2 kB\u001b[0m \u001b[31m7.8 MB/s\u001b[0m eta \u001b[36m0:00:00\u001b[0m\n",
            "\u001b[?25hCollecting email_validator>=2.0.0 (from fastapi->gradio<4.0.0,>=3.24.1->lang-sam==0.1.0)\n",
            "  Downloading email_validator-2.1.1-py3-none-any.whl (30 kB)\n",
            "Requirement already satisfied: anyio in /usr/local/lib/python3.10/dist-packages (from httpx->gradio<4.0.0,>=3.24.1->lang-sam==0.1.0) (3.7.1)\n",
            "Collecting httpcore==1.* (from httpx->gradio<4.0.0,>=3.24.1->lang-sam==0.1.0)\n",
            "  Downloading httpcore-1.0.5-py3-none-any.whl (77 kB)\n",
            "\u001b[2K     \u001b[90m━━━━━━━━━━━━━━━━━━━━━━━━━━━━━━━━━━━━━━━━\u001b[0m \u001b[32m77.9/77.9 kB\u001b[0m \u001b[31m11.1 MB/s\u001b[0m eta \u001b[36m0:00:00\u001b[0m\n",
            "\u001b[?25hRequirement already satisfied: sniffio in /usr/local/lib/python3.10/dist-packages (from httpx->gradio<4.0.0,>=3.24.1->lang-sam==0.1.0) (1.3.1)\n",
            "Requirement already satisfied: defusedxml<0.8.0,>=0.7.1 in /usr/local/lib/python3.10/dist-packages (from supervision->groundingdino@ git+https://github.com/IDEA-Research/GroundingDINO.git->lang-sam==0.1.0) (0.7.1)\n",
            "Requirement already satisfied: opencv-python-headless>=4.5.5.64 in /usr/local/lib/python3.10/dist-packages (from supervision->groundingdino@ git+https://github.com/IDEA-Research/GroundingDINO.git->lang-sam==0.1.0) (4.9.0.80)\n",
            "INFO: pip is looking at multiple versions of supervision to determine which version is compatible with other requirements. This could take a while.\n",
            "Collecting supervision (from groundingdino@ git+https://github.com/IDEA-Research/GroundingDINO.git->lang-sam==0.1.0)\n",
            "  Downloading supervision-0.19.0-py3-none-any.whl (97 kB)\n",
            "\u001b[2K     \u001b[90m━━━━━━━━━━━━━━━━━━━━━━━━━━━━━━━━━━━━━━━━\u001b[0m \u001b[32m97.1/97.1 kB\u001b[0m \u001b[31m14.1 MB/s\u001b[0m eta \u001b[36m0:00:00\u001b[0m\n",
            "\u001b[?25h  Downloading supervision-0.18.0-py3-none-any.whl (86 kB)\n",
            "\u001b[2K     \u001b[90m━━━━━━━━━━━━━━━━━━━━━━━━━━━━━━━━━━━━━━━━\u001b[0m \u001b[32m86.7/86.7 kB\u001b[0m \u001b[31m13.4 MB/s\u001b[0m eta \u001b[36m0:00:00\u001b[0m\n",
            "\u001b[?25hRequirement already satisfied: scipy<2.0.0,>=1.10.0 in /usr/local/lib/python3.10/dist-packages (from supervision->groundingdino@ git+https://github.com/IDEA-Research/GroundingDINO.git->lang-sam==0.1.0) (1.11.4)\n",
            "Requirement already satisfied: importlib-metadata>=6.6.0 in /usr/local/lib/python3.10/dist-packages (from yapf->groundingdino@ git+https://github.com/IDEA-Research/GroundingDINO.git->lang-sam==0.1.0) (7.1.0)\n",
            "Requirement already satisfied: platformdirs>=3.5.1 in /usr/local/lib/python3.10/dist-packages (from yapf->groundingdino@ git+https://github.com/IDEA-Research/GroundingDINO.git->lang-sam==0.1.0) (4.2.1)\n",
            "Requirement already satisfied: tomli>=2.0.1 in /usr/local/lib/python3.10/dist-packages (from yapf->groundingdino@ git+https://github.com/IDEA-Research/GroundingDINO.git->lang-sam==0.1.0) (2.0.1)\n",
            "Requirement already satisfied: aiosignal>=1.1.2 in /usr/local/lib/python3.10/dist-packages (from aiohttp!=4.0.0a0,!=4.0.0a1->fsspec->gradio-client==0.6.1->gradio<4.0.0,>=3.24.1->lang-sam==0.1.0) (1.3.1)\n",
            "Requirement already satisfied: attrs>=17.3.0 in /usr/local/lib/python3.10/dist-packages (from aiohttp!=4.0.0a0,!=4.0.0a1->fsspec->gradio-client==0.6.1->gradio<4.0.0,>=3.24.1->lang-sam==0.1.0) (23.2.0)\n",
            "Requirement already satisfied: frozenlist>=1.1.1 in /usr/local/lib/python3.10/dist-packages (from aiohttp!=4.0.0a0,!=4.0.0a1->fsspec->gradio-client==0.6.1->gradio<4.0.0,>=3.24.1->lang-sam==0.1.0) (1.4.1)\n",
            "Requirement already satisfied: multidict<7.0,>=4.5 in /usr/local/lib/python3.10/dist-packages (from aiohttp!=4.0.0a0,!=4.0.0a1->fsspec->gradio-client==0.6.1->gradio<4.0.0,>=3.24.1->lang-sam==0.1.0) (6.0.5)\n",
            "Requirement already satisfied: yarl<2.0,>=1.0 in /usr/local/lib/python3.10/dist-packages (from aiohttp!=4.0.0a0,!=4.0.0a1->fsspec->gradio-client==0.6.1->gradio<4.0.0,>=3.24.1->lang-sam==0.1.0) (1.9.4)\n",
            "Requirement already satisfied: async-timeout<5.0,>=4.0 in /usr/local/lib/python3.10/dist-packages (from aiohttp!=4.0.0a0,!=4.0.0a1->fsspec->gradio-client==0.6.1->gradio<4.0.0,>=3.24.1->lang-sam==0.1.0) (4.0.3)\n",
            "Collecting dnspython>=2.0.0 (from email_validator>=2.0.0->fastapi->gradio<4.0.0,>=3.24.1->lang-sam==0.1.0)\n",
            "  Downloading dnspython-2.6.1-py3-none-any.whl (307 kB)\n",
            "\u001b[2K     \u001b[90m━━━━━━━━━━━━━━━━━━━━━━━━━━━━━━━━━━━━━━━━\u001b[0m \u001b[32m307.7/307.7 kB\u001b[0m \u001b[31m38.9 MB/s\u001b[0m eta \u001b[36m0:00:00\u001b[0m\n",
            "\u001b[?25hCollecting typer>=0.12.3 (from fastapi-cli>=0.0.2->fastapi->gradio<4.0.0,>=3.24.1->lang-sam==0.1.0)\n",
            "  Downloading typer-0.12.3-py3-none-any.whl (47 kB)\n",
            "\u001b[2K     \u001b[90m━━━━━━━━━━━━━━━━━━━━━━━━━━━━━━━━━━━━━━━━\u001b[0m \u001b[32m47.2/47.2 kB\u001b[0m \u001b[31m6.7 MB/s\u001b[0m eta \u001b[36m0:00:00\u001b[0m\n",
            "\u001b[?25hRequirement already satisfied: zipp>=0.5 in /usr/local/lib/python3.10/dist-packages (from importlib-metadata>=6.6.0->yapf->groundingdino@ git+https://github.com/IDEA-Research/GroundingDINO.git->lang-sam==0.1.0) (3.18.1)\n",
            "Requirement already satisfied: jsonschema-specifications>=2023.03.6 in /usr/local/lib/python3.10/dist-packages (from jsonschema>=3.0->altair<6.0,>=4.2.0->gradio<4.0.0,>=3.24.1->lang-sam==0.1.0) (2023.12.1)\n",
            "Requirement already satisfied: referencing>=0.28.4 in /usr/local/lib/python3.10/dist-packages (from jsonschema>=3.0->altair<6.0,>=4.2.0->gradio<4.0.0,>=3.24.1->lang-sam==0.1.0) (0.35.1)\n",
            "Requirement already satisfied: rpds-py>=0.7.1 in /usr/local/lib/python3.10/dist-packages (from jsonschema>=3.0->altair<6.0,>=4.2.0->gradio<4.0.0,>=3.24.1->lang-sam==0.1.0) (0.18.1)\n",
            "Requirement already satisfied: six>=1.5 in /usr/local/lib/python3.10/dist-packages (from python-dateutil>=2.7->matplotlib~=3.0->gradio<4.0.0,>=3.24.1->lang-sam==0.1.0) (1.16.0)\n",
            "Requirement already satisfied: exceptiongroup in /usr/local/lib/python3.10/dist-packages (from anyio->httpx->gradio<4.0.0,>=3.24.1->lang-sam==0.1.0) (1.2.1)\n",
            "Collecting httptools>=0.5.0 (from uvicorn>=0.14.0->gradio<4.0.0,>=3.24.1->lang-sam==0.1.0)\n",
            "  Downloading httptools-0.6.1-cp310-cp310-manylinux_2_5_x86_64.manylinux1_x86_64.manylinux_2_17_x86_64.manylinux2014_x86_64.whl (341 kB)\n",
            "\u001b[2K     \u001b[90m━━━━━━━━━━━━━━━━━━━━━━━━━━━━━━━━━━━━━━━━\u001b[0m \u001b[32m341.4/341.4 kB\u001b[0m \u001b[31m41.0 MB/s\u001b[0m eta \u001b[36m0:00:00\u001b[0m\n",
            "\u001b[?25hCollecting python-dotenv>=0.13 (from uvicorn>=0.14.0->gradio<4.0.0,>=3.24.1->lang-sam==0.1.0)\n",
            "  Downloading python_dotenv-1.0.1-py3-none-any.whl (19 kB)\n",
            "Collecting uvloop!=0.15.0,!=0.15.1,>=0.14.0 (from uvicorn>=0.14.0->gradio<4.0.0,>=3.24.1->lang-sam==0.1.0)\n",
            "  Downloading uvloop-0.19.0-cp310-cp310-manylinux_2_17_x86_64.manylinux2014_x86_64.whl (3.4 MB)\n",
            "\u001b[2K     \u001b[90m━━━━━━━━━━━━━━━━━━━━━━━━━━━━━━━━━━━━━━━━\u001b[0m \u001b[32m3.4/3.4 MB\u001b[0m \u001b[31m45.6 MB/s\u001b[0m eta \u001b[36m0:00:00\u001b[0m\n",
            "\u001b[?25hCollecting watchfiles>=0.13 (from uvicorn>=0.14.0->gradio<4.0.0,>=3.24.1->lang-sam==0.1.0)\n",
            "  Downloading watchfiles-0.21.0-cp310-cp310-manylinux_2_17_x86_64.manylinux2014_x86_64.whl (1.3 MB)\n",
            "\u001b[2K     \u001b[90m━━━━━━━━━━━━━━━━━━━━━━━━━━━━━━━━━━━━━━━━\u001b[0m \u001b[32m1.3/1.3 MB\u001b[0m \u001b[31m43.8 MB/s\u001b[0m eta \u001b[36m0:00:00\u001b[0m\n",
            "\u001b[?25hRequirement already satisfied: mpmath>=0.19 in /usr/local/lib/python3.10/dist-packages (from sympy->torch<4.0,>=1.13.0->lightning<3.0.0,>=2.0.1->lang-sam==0.1.0) (1.3.0)\n",
            "Collecting shellingham>=1.3.0 (from typer>=0.12.3->fastapi-cli>=0.0.2->fastapi->gradio<4.0.0,>=3.24.1->lang-sam==0.1.0)\n",
            "  Downloading shellingham-1.5.4-py2.py3-none-any.whl (9.8 kB)\n",
            "Requirement already satisfied: rich>=10.11.0 in /usr/local/lib/python3.10/dist-packages (from typer>=0.12.3->fastapi-cli>=0.0.2->fastapi->gradio<4.0.0,>=3.24.1->lang-sam==0.1.0) (13.7.1)\n",
            "Requirement already satisfied: markdown-it-py>=2.2.0 in /usr/local/lib/python3.10/dist-packages (from rich>=10.11.0->typer>=0.12.3->fastapi-cli>=0.0.2->fastapi->gradio<4.0.0,>=3.24.1->lang-sam==0.1.0) (3.0.0)\n",
            "Requirement already satisfied: pygments<3.0.0,>=2.13.0 in /usr/local/lib/python3.10/dist-packages (from rich>=10.11.0->typer>=0.12.3->fastapi-cli>=0.0.2->fastapi->gradio<4.0.0,>=3.24.1->lang-sam==0.1.0) (2.16.1)\n",
            "Requirement already satisfied: mdurl~=0.1 in /usr/local/lib/python3.10/dist-packages (from markdown-it-py>=2.2.0->rich>=10.11.0->typer>=0.12.3->fastapi-cli>=0.0.2->fastapi->gradio<4.0.0,>=3.24.1->lang-sam==0.1.0) (0.1.2)\n",
            "Building wheels for collected packages: lang-sam, groundingdino, segment-anything, ffmpy\n",
            "  Building wheel for lang-sam (pyproject.toml) ... \u001b[?25l\u001b[?25hdone\n",
            "  Created wheel for lang-sam: filename=lang_sam-0.1.0-py3-none-any.whl size=9895 sha256=5293098a6a3ad054dfb89b111dc1409bf68d2c4aebaf3019036397fac4123f3e\n",
            "  Stored in directory: /tmp/pip-ephem-wheel-cache-n5g7oxd1/wheels/c7/1d/cd/6f34f8ca4fbc01b7a1f522cf9c4654cbe4fcd4268069d6e739\n",
            "  Building wheel for groundingdino (setup.py) ... \u001b[?25l\u001b[?25hdone\n",
            "  Created wheel for groundingdino: filename=groundingdino-0.1.0-cp310-cp310-linux_x86_64.whl size=2852494 sha256=218f91adf8b81412695879e76b175fd7a75f30479a6b5af87c7124afa15cad49\n",
            "  Stored in directory: /tmp/pip-ephem-wheel-cache-n5g7oxd1/wheels/6b/06/d7/b57f601a4df56af41d262a5b1b496359b13c323bf5ef0434b2\n",
            "  Building wheel for segment-anything (setup.py) ... \u001b[?25l\u001b[?25hdone\n",
            "  Created wheel for segment-anything: filename=segment_anything-1.0-py3-none-any.whl size=36590 sha256=cc9b7f4b97b01f9644f5f6dfc0f3994ede6db7292bfc92c341b8d311684d78f3\n",
            "  Stored in directory: /tmp/pip-ephem-wheel-cache-n5g7oxd1/wheels/10/cf/59/9ccb2f0a1bcc81d4fbd0e501680b5d088d690c6cfbc02dc99d\n",
            "  Building wheel for ffmpy (setup.py) ... \u001b[?25l\u001b[?25hdone\n",
            "  Created wheel for ffmpy: filename=ffmpy-0.3.2-py3-none-any.whl size=5584 sha256=1055d0dc43ec030e0d84700592a71e31ea187e2352befe65243f45761ed6af72\n",
            "  Stored in directory: /root/.cache/pip/wheels/bd/65/9a/671fc6dcde07d4418df0c592f8df512b26d7a0029c2a23dd81\n",
            "Successfully built lang-sam groundingdino segment-anything ffmpy\n",
            "Installing collected packages: segment-anything, pydub, ffmpy, addict, websockets, uvloop, ujson, shellingham, semantic-version, python-multipart, python-dotenv, Pillow, orjson, nvidia-nvtx-cu12, nvidia-nvjitlink-cu12, nvidia-nccl-cu12, nvidia-curand-cu12, nvidia-cufft-cu12, nvidia-cuda-runtime-cu12, nvidia-cuda-nvrtc-cu12, nvidia-cuda-cupti-cu12, nvidia-cublas-cu12, lightning-utilities, httptools, h11, dnspython, colorama, aiofiles, yapf, watchfiles, uvicorn, starlette, pretty-errors, nvidia-cusparse-cu12, nvidia-cudnn-cu12, huggingface-hub, httpcore, email_validator, typer, tokenizers, supervision, nvidia-cusolver-cu12, httpx, transformers, gradio-client, torchmetrics, timm, pytorch-lightning, lightning, groundingdino, fastapi-cli, fastapi, gradio, lang-sam\n",
            "  Attempting uninstall: Pillow\n",
            "    Found existing installation: Pillow 9.4.0\n",
            "    Uninstalling Pillow-9.4.0:\n",
            "      Successfully uninstalled Pillow-9.4.0\n",
            "  Attempting uninstall: huggingface-hub\n",
            "    Found existing installation: huggingface-hub 0.20.3\n",
            "    Uninstalling huggingface-hub-0.20.3:\n",
            "      Successfully uninstalled huggingface-hub-0.20.3\n",
            "  Attempting uninstall: typer\n",
            "    Found existing installation: typer 0.9.4\n",
            "    Uninstalling typer-0.9.4:\n",
            "      Successfully uninstalled typer-0.9.4\n",
            "  Attempting uninstall: tokenizers\n",
            "    Found existing installation: tokenizers 0.19.1\n",
            "    Uninstalling tokenizers-0.19.1:\n",
            "      Successfully uninstalled tokenizers-0.19.1\n",
            "  Attempting uninstall: transformers\n",
            "    Found existing installation: transformers 4.40.2\n",
            "    Uninstalling transformers-4.40.2:\n",
            "      Successfully uninstalled transformers-4.40.2\n",
            "\u001b[31mERROR: pip's dependency resolver does not currently take into account all the packages that are installed. This behaviour is the source of the following dependency conflicts.\n",
            "spacy 3.7.4 requires typer<0.10.0,>=0.3.0, but you have typer 0.12.3 which is incompatible.\n",
            "weasel 0.3.4 requires typer<0.10.0,>=0.3.0, but you have typer 0.12.3 which is incompatible.\u001b[0m\u001b[31m\n",
            "\u001b[0mSuccessfully installed Pillow-9.3.0 addict-2.4.0 aiofiles-23.2.1 colorama-0.4.6 dnspython-2.6.1 email_validator-2.1.1 fastapi-0.111.0 fastapi-cli-0.0.3 ffmpy-0.3.2 gradio-3.50.2 gradio-client-0.6.1 groundingdino-0.1.0 h11-0.14.0 httpcore-1.0.5 httptools-0.6.1 httpx-0.27.0 huggingface-hub-0.16.4 lang-sam-0.1.0 lightning-2.2.4 lightning-utilities-0.11.2 nvidia-cublas-cu12-12.1.3.1 nvidia-cuda-cupti-cu12-12.1.105 nvidia-cuda-nvrtc-cu12-12.1.105 nvidia-cuda-runtime-cu12-12.1.105 nvidia-cudnn-cu12-8.9.2.26 nvidia-cufft-cu12-11.0.2.54 nvidia-curand-cu12-10.3.2.106 nvidia-cusolver-cu12-11.4.5.107 nvidia-cusparse-cu12-12.1.0.106 nvidia-nccl-cu12-2.19.3 nvidia-nvjitlink-cu12-12.4.127 nvidia-nvtx-cu12-12.1.105 orjson-3.10.3 pretty-errors-1.2.25 pydub-0.25.1 python-dotenv-1.0.1 python-multipart-0.0.9 pytorch-lightning-2.2.4 segment-anything-1.0 semantic-version-2.10.0 shellingham-1.5.4 starlette-0.37.2 supervision-0.18.0 timm-0.9.16 tokenizers-0.15.2 torchmetrics-1.4.0 transformers-4.35.2 typer-0.12.3 ujson-5.9.0 uvicorn-0.29.0 uvloop-0.19.0 watchfiles-0.21.0 websockets-11.0.3 yapf-0.40.2\n"
          ]
        },
        {
          "data": {
            "application/vnd.colab-display-data+json": {
              "id": "9ad048f73c914a1f8460acb53c9b0a06",
              "pip_warning": {
                "packages": [
                  "PIL"
                ]
              }
            }
          },
          "metadata": {},
          "output_type": "display_data"
        }
      ],
      "source": [
        "!pip install -U git+https://github.com/luca-medeiros/lang-segment-anything.git\n",
        "from lang_sam import LangSAM"
      ]
    },
    {
      "cell_type": "code",
      "execution_count": null,
      "metadata": {
        "id": "8Nz-HcgJniGf"
      },
      "outputs": [],
      "source": [
        "def display_image_with_masks(image, masks):\n",
        "    num_masks = len(masks)\n",
        "\n",
        "    fig, axes = plt.subplots(1, num_masks + 1, figsize=(15, 5))\n",
        "    axes[0].imshow(image)\n",
        "    axes[0].set_title(\"Original Image\")\n",
        "    axes[0].axis('off')\n",
        "\n",
        "    for i, mask_np in enumerate(masks):\n",
        "        axes[i+1].imshow(mask_np, cmap='gray')\n",
        "        axes[i+1].set_title(f\"Mask {i+1}\")\n",
        "        axes[i+1].axis('off')\n",
        "\n",
        "    plt.tight_layout()\n",
        "    plt.show()\n",
        "\n",
        "def display_image_with_boxes(image, boxes, logits):\n",
        "    fig, ax = plt.subplots()\n",
        "    ax.imshow(image)\n",
        "    ax.set_title(\"Image with Bounding Boxes\")\n",
        "    ax.axis('off')\n",
        "\n",
        "    for box, logit in zip(boxes, logits):\n",
        "        x_min, y_min, x_max, y_max = box\n",
        "        confidence_score = round(logit.item(), 2)  # Convert logit to a scalar before rounding\n",
        "        box_width = x_max - x_min\n",
        "        box_height = y_max - y_min\n",
        "\n",
        "        # Draw bounding box\n",
        "        rect = plt.Rectangle((x_min, y_min), box_width, box_height, fill=False, edgecolor='red', linewidth=2)\n",
        "        ax.add_patch(rect)\n",
        "\n",
        "        # Add confidence score as text\n",
        "        ax.text(x_min, y_min, f\"Confidence: {confidence_score}\", fontsize=8, color='red', verticalalignment='top')\n",
        "\n",
        "    plt.show()\n",
        "\n",
        "def print_bounding_boxes(boxes):\n",
        "    print(\"Bounding Boxes:\")\n",
        "    for i, box in enumerate(boxes):\n",
        "        print(f\"Box {i+1}: {box}\")"
      ]
    },
    {
      "cell_type": "code",
      "execution_count": null,
      "metadata": {
        "colab": {
          "base_uri": "https://localhost:8080/",
          "height": 486,
          "referenced_widgets": [
            "f3483b0eeea34a998408fa7aecb5f9b4",
            "bfb16cc04bd748da83009f47425bcb53",
            "a2cb271e59414dc49555063dfbb6f08d",
            "a354a0d29f454e2eaf34a76df2aaf074",
            "32434952a1054d93b2204d5157edfc15",
            "7fa957dc37124c02b9eda14bb9e8df4d",
            "be5b2b7d17624cc3a18bc2f32a1cd2a1",
            "b68df3e3387d40c3928c0b56f8de4238",
            "2aeebe3cb6704d18aceae448b8e6a5e4",
            "dc8fac21b56b4345894f32bcf1a2a49d",
            "5e15ff47a8a84348a44108bafbfcf4bf",
            "90e74a8c4e2745ceb2caee260d150277",
            "fb52f023784e4a018aad04c4bdaab092",
            "6beff9146bf646ccbce842bfae09b88f",
            "786b26dc721840cdb88e4fb6bdab0247",
            "7517d3e3025a4ee6a18172ba8df3b3ce",
            "d2df08c2c0a144e7a63809a2b674eb19",
            "1cf55da003654a9c96277acd5b6baa61",
            "89bab6c56c18438281781b5d9cda98e8",
            "56c0df414d69485d9eb79042e622e29e",
            "7a1d091165824b7787e3fdd5f8e661b3",
            "3f899168848d4ae8aa68fcc7fe289229",
            "15a14549049b472d9914f0b50f96c960",
            "497fb82eba48467b94608eb338ee2ad8",
            "c206f3dc42d54352a0f85e8c8addf489",
            "b4ae08ea90c84eafb0bd6b78541dac88",
            "df4fd94e0dc74b96a2676033e7905d95",
            "13e2e01166d243e892aee7d2515f25c8",
            "2a19a78fd87f43be82a0c5eb1f7d336d",
            "5ec9a3ecba0a49f699f93c46aefea107",
            "5494d740190f410da26d73319ded1141",
            "61a027088c2b445c8d0e37258defc6fd",
            "ec3ea8e97f0248ac97dbb6bc6c4a2121",
            "9042cd4b44b8438281c7f6be18ecaf73",
            "ef987ed3bf7246648dbd37474afcb93c",
            "5099bd9dadc04cc9be3777f85980b8d6",
            "7369a874be6b4ad4977fdddedf51b897",
            "3110bdaf7720454f87aa24f809f03170",
            "7ebfd2205fe3421d957d3ce096185172",
            "8f977b2ba5d8488a9cb34ee4c93e958b",
            "744baef762154d4abe2ac07a4c9c45bc",
            "91699b8046d24f6eae4d0aaaf79f3fcd",
            "1713c918f55049998d2947df2a477fab",
            "e2012a2f6c8045a18d53ee6e9ec51e4a",
            "d4bddf4c37394bd388e5ffd120704989",
            "ffd32e73a8b24908914579b7a1553f18",
            "56d9cc117db845348061c5a96dba1079",
            "e7d4646547c941d59bb6fc9714fb7a76",
            "eda6a48cbb0b420e92943e08a23d9706",
            "1672c47004054eaab80ddcb4c46cdc12",
            "9f4c07d66d1a4aafabfeee82a0b243a5",
            "b564dc5293084445b5e29af16ddbfa41",
            "a9fd82db72f54eddb3f69cc317817a33",
            "e08da01f3ce4456ba74f575359b3e6c7",
            "b86c5296e9e143b9903073e7ef233bed",
            "7fc4f520a5214be1a645b364296d575e",
            "62b4278f39f54eb3a1e042ee465ae1a1",
            "a0c5b775135b4de484b34c5e4701bd19",
            "ba500c20bd9643fa98c654caf1640205",
            "a7b547eb989b402ca6910210f3813576",
            "4125f306450c4debad65dbf163cc5100",
            "bc10b10c91e841d789ca22e5d2b8355d",
            "0f569a01e4d44549beafbcd0819139c4",
            "686bb7bdff51418ba6e5f3e6ba9d7621",
            "2deb328156144b6aa4af572844306e5f",
            "d0f69d2616b34cd09c029a8da94a6f0f",
            "f19e7b432082464a91bee00d9fb79f66",
            "366e163dc31447948515359b1393bb38",
            "f1a42e795c074afd8ca3deb7b58142bc",
            "c265275c247847569a0044c32794a5a1",
            "f3b1a2a48418480e9756aa1dd1111811",
            "e5acc96389284cf19c6abadf119209db",
            "d6475beb35834773bbf0600ef59ca74d",
            "7df80f3da3734ac4b2147e6bdc4e4c46",
            "9713be1011be49cd80fee8b54fefb635",
            "08f5dd902166489da9f6f53a3a7e7998",
            "0e5b02b940e24f828a012fad2eabc416"
          ]
        },
        "id": "Fbimz-jhnNvo",
        "outputId": "81a3d2f3-89f7-41b3-8d78-889278d8eb2d"
      },
      "outputs": [
        {
          "data": {
            "application/vnd.jupyter.widget-view+json": {
              "model_id": "f3483b0eeea34a998408fa7aecb5f9b4",
              "version_major": 2,
              "version_minor": 0
            },
            "text/plain": [
              "Downloading (…)ingDINO_SwinB.cfg.py:   0%|          | 0.00/1.01k [00:00<?, ?B/s]"
            ]
          },
          "metadata": {},
          "output_type": "display_data"
        },
        {
          "name": "stderr",
          "output_type": "stream",
          "text": [
            "/usr/local/lib/python3.10/dist-packages/torch/functional.py:507: UserWarning: torch.meshgrid: in an upcoming release, it will be required to pass the indexing argument. (Triggered internally at ../aten/src/ATen/native/TensorShape.cpp:3549.)\n",
            "  return _VF.meshgrid(tensors, **kwargs)  # type: ignore[attr-defined]\n"
          ]
        },
        {
          "name": "stdout",
          "output_type": "stream",
          "text": [
            "final text_encoder_type: bert-base-uncased\n"
          ]
        },
        {
          "data": {
            "application/vnd.jupyter.widget-view+json": {
              "model_id": "90e74a8c4e2745ceb2caee260d150277",
              "version_major": 2,
              "version_minor": 0
            },
            "text/plain": [
              "Downloading tokenizer_config.json:   0%|          | 0.00/48.0 [00:00<?, ?B/s]"
            ]
          },
          "metadata": {},
          "output_type": "display_data"
        },
        {
          "data": {
            "application/vnd.jupyter.widget-view+json": {
              "model_id": "15a14549049b472d9914f0b50f96c960",
              "version_major": 2,
              "version_minor": 0
            },
            "text/plain": [
              "Downloading config.json:   0%|          | 0.00/570 [00:00<?, ?B/s]"
            ]
          },
          "metadata": {},
          "output_type": "display_data"
        },
        {
          "data": {
            "application/vnd.jupyter.widget-view+json": {
              "model_id": "9042cd4b44b8438281c7f6be18ecaf73",
              "version_major": 2,
              "version_minor": 0
            },
            "text/plain": [
              "Downloading vocab.txt:   0%|          | 0.00/232k [00:00<?, ?B/s]"
            ]
          },
          "metadata": {},
          "output_type": "display_data"
        },
        {
          "data": {
            "application/vnd.jupyter.widget-view+json": {
              "model_id": "d4bddf4c37394bd388e5ffd120704989",
              "version_major": 2,
              "version_minor": 0
            },
            "text/plain": [
              "Downloading tokenizer.json:   0%|          | 0.00/466k [00:00<?, ?B/s]"
            ]
          },
          "metadata": {},
          "output_type": "display_data"
        },
        {
          "data": {
            "application/vnd.jupyter.widget-view+json": {
              "model_id": "7fc4f520a5214be1a645b364296d575e",
              "version_major": 2,
              "version_minor": 0
            },
            "text/plain": [
              "Downloading model.safetensors:   0%|          | 0.00/440M [00:00<?, ?B/s]"
            ]
          },
          "metadata": {},
          "output_type": "display_data"
        },
        {
          "data": {
            "application/vnd.jupyter.widget-view+json": {
              "model_id": "f19e7b432082464a91bee00d9fb79f66",
              "version_major": 2,
              "version_minor": 0
            },
            "text/plain": [
              "Downloading (…)no_swinb_cogcoor.pth:   0%|          | 0.00/938M [00:00<?, ?B/s]"
            ]
          },
          "metadata": {},
          "output_type": "display_data"
        },
        {
          "name": "stdout",
          "output_type": "stream",
          "text": [
            "Model loaded from /root/.cache/huggingface/hub/models--ShilongLiu--GroundingDINO/snapshots/a94c9b567a2a374598f05c584e96798a170c56fb/groundingdino_swinb_cogcoor.pth \n",
            " => _IncompatibleKeys(missing_keys=[], unexpected_keys=['label_enc.weight', 'bert.embeddings.position_ids'])\n"
          ]
        },
        {
          "name": "stderr",
          "output_type": "stream",
          "text": [
            "Downloading: \"https://dl.fbaipublicfiles.com/segment_anything/sam_vit_h_4b8939.pth\" to /root/.cache/torch/hub/checkpoints/sam_vit_h_4b8939.pth\n",
            "100%|██████████| 2.39G/2.39G [00:14<00:00, 182MB/s]\n",
            "/usr/local/lib/python3.10/dist-packages/transformers/modeling_utils.py:907: FutureWarning: The `device` argument is deprecated and will be removed in v5 of Transformers.\n",
            "  warnings.warn(\n",
            "/usr/local/lib/python3.10/dist-packages/torch/utils/checkpoint.py:460: UserWarning: torch.utils.checkpoint: please pass in use_reentrant=True or use_reentrant=False explicitly. The default value of use_reentrant will be updated to be False in the future. To maintain current behavior, pass use_reentrant=True. It is recommended that you use use_reentrant=False. Refer to docs for more details on the differences between the two variants.\n",
            "  warnings.warn(\n",
            "/usr/local/lib/python3.10/dist-packages/torch/utils/checkpoint.py:90: UserWarning: None of the inputs have requires_grad=True. Gradients will be None\n",
            "  warnings.warn(\n"
          ]
        }
      ],
      "source": [
        "model = LangSAM()\n",
        "image_pil = Image.open(\"2024-03-14 18:51:58.361526.png\").convert(\"RGB\")\n",
        "text_prompt = \"mandarin\"\n",
        "masks, boxes, phrases, logits = model.predict(image_pil, text_prompt)"
      ]
    },
    {
      "cell_type": "code",
      "execution_count": null,
      "metadata": {
        "colab": {
          "base_uri": "https://localhost:8080/"
        },
        "id": "5jweOzyuomlp",
        "outputId": "5587b2c0-a515-4803-c727-e1692003748b"
      },
      "outputs": [
        {
          "name": "stdout",
          "output_type": "stream",
          "text": [
            "Bounding Boxes:\n",
            "Box 1: tensor([ 225.0022,  765.4800,  552.1116, 1030.6552])\n",
            "Box 2: tensor([ 550.4935,  788.4086,  752.7982, 1004.0515])\n",
            "Box 3: tensor([ 950.6475,  789.1759, 1205.5977, 1061.4535])\n",
            "Box 4: tensor([1392.2854,  828.0313, 1616.4078, 1047.9584])\n"
          ]
        }
      ],
      "source": [
        "print_bounding_boxes(boxes)"
      ]
    },
    {
      "cell_type": "code",
      "execution_count": null,
      "metadata": {
        "colab": {
          "base_uri": "https://localhost:8080/",
          "height": 338
        },
        "id": "8iSlOmk3pILR",
        "outputId": "e8822fbb-17a6-470a-f0c9-d61d360ea445"
      },
      "outputs": [
        {
          "data": {
            "image/png": "[encoded data removed]",
            "text/plain": [
              "<Figure size 640x480 with 1 Axes>"
            ]
          },
          "metadata": {},
          "output_type": "display_data"
        }
      ],
      "source": [
        "display_image_with_boxes(image_pil, boxes, logits)"
      ]
    },
    {
      "cell_type": "code",
      "execution_count": null,
      "metadata": {
        "colab": {
          "base_uri": "https://localhost:8080/"
        },
        "id": "M0WVMAsytP4x",
        "outputId": "7b0f5f53-3427-4f83-933a-b6e678682909"
      },
      "outputs": [
        {
          "data": {
            "text/plain": [
              "(2304, 1296)"
            ]
          },
          "execution_count": 20,
          "metadata": {},
          "output_type": "execute_result"
        }
      ],
      "source": [
        "image_pil._size"
      ]
    },
    {
      "cell_type": "code",
      "execution_count": null,
      "metadata": {
        "colab": {
          "base_uri": "https://localhost:8080/"
        },
        "id": "6jSEp38arxjI",
        "outputId": "a3d0ffaf-4395-4b63-9ad2-98840915345c"
      },
      "outputs": [
        {
          "data": {
            "text/plain": [
              "tensor([ 225.0022,  765.4800,  552.1116, 1030.6552])"
            ]
          },
          "execution_count": 9,
          "metadata": {},
          "output_type": "execute_result"
        }
      ],
      "source": [
        "box = boxes[0]\n",
        "box"
      ]
    },
    {
      "cell_type": "code",
      "execution_count": null,
      "metadata": {
        "colab": {
          "base_uri": "https://localhost:8080/"
        },
        "id": "2kLwitABr1L9",
        "outputId": "e30bbf0f-7fbd-4b10-bee0-fb94279f6b86"
      },
      "outputs": [
        {
          "data": {
            "text/plain": [
              "225.00217"
            ]
          },
          "execution_count": 15,
          "metadata": {},
          "output_type": "execute_result"
        }
      ],
      "source": [
        "x_min, y_min, x_max, y_max = box.numpy()\n",
        "x_min"
      ]
    },
    {
      "cell_type": "code",
      "execution_count": null,
      "metadata": {
        "colab": {
          "base_uri": "https://localhost:8080/",
          "height": 283
        },
        "id": "MALubhJprmv8",
        "outputId": "56fe1120-0c5a-41a7-81d1-88a497a2cf47"
      },
      "outputs": [
        {
          "data": {
            "image/png": "[encoded data removed]",
            "text/plain": [
              "<PIL.Image.Image image mode=RGB size=347x266>"
            ]
          },
          "execution_count": 18,
          "metadata": {},
          "output_type": "execute_result"
        }
      ],
      "source": [
        "cropped_image = image_pil.crop((x_min - 20, y_min, x_max, y_max))\n",
        "cropped_image"
      ]
    },
    {
      "cell_type": "code",
      "execution_count": null,
      "metadata": {
        "id": "9H0ztqJHsxfS"
      },
      "outputs": [],
      "source": [
        "cropped_image.save(\"cropped_mandarin_1.png\")"
      ]
    },
    {
      "cell_type": "markdown",
      "metadata": {
        "id": "phRzc3z0m-3k"
      },
      "source": [
        "## Crop dataset"
      ]
    },
    {
      "cell_type": "code",
      "execution_count": null,
      "metadata": {
        "id": "xmMEAUhUAmdu"
      },
      "outputs": [],
      "source": [
        "from PIL import ImageFile\n",
        "ImageFile.LOAD_TRUNCATED_IMAGES = True"
      ]
    },
    {
      "cell_type": "code",
      "execution_count": null,
      "metadata": {
        "colab": {
          "base_uri": "https://localhost:8080/"
        },
        "id": "KwI9neo2pUq1",
        "outputId": "8da41f4b-f735-447c-8567-a84a7c1907ac"
      },
      "outputs": [
        {
          "name": "stdout",
          "output_type": "stream",
          "text": [
            "/content/drive/MyDrive/Датасеты/Мандарины/mandarin/Infra_Red_damaged\n"
          ]
        },
        {
          "name": "stderr",
          "output_type": "stream",
          "text": [
            "100%|██████████| 256/256 [00:00<00:00, 2997.70it/s]\n"
          ]
        },
        {
          "name": "stdout",
          "output_type": "stream",
          "text": [
            "/content/drive/MyDrive/Датасеты/Мандарины/mandarin/NO_IR_Healthy\n"
          ]
        },
        {
          "name": "stderr",
          "output_type": "stream",
          "text": [
            "100%|██████████| 262/262 [00:00<00:00, 2157.79it/s]\n"
          ]
        },
        {
          "name": "stdout",
          "output_type": "stream",
          "text": [
            "/content/drive/MyDrive/Датасеты/Мандарины/mandarin/Infra_Red_Healthy\n"
          ]
        },
        {
          "name": "stderr",
          "output_type": "stream",
          "text": [
            "\r  0%|          | 0/262 [00:00<?, ?it/s]/usr/local/lib/python3.10/dist-packages/transformers/modeling_utils.py:907: FutureWarning: The `device` argument is deprecated and will be removed in v5 of Transformers.\n",
            "  warnings.warn(\n",
            "/usr/local/lib/python3.10/dist-packages/torch/utils/checkpoint.py:460: UserWarning: torch.utils.checkpoint: please pass in use_reentrant=True or use_reentrant=False explicitly. The default value of use_reentrant will be updated to be False in the future. To maintain current behavior, pass use_reentrant=True. It is recommended that you use use_reentrant=False. Refer to docs for more details on the differences between the two variants.\n",
            "  warnings.warn(\n",
            "/usr/local/lib/python3.10/dist-packages/torch/utils/checkpoint.py:90: UserWarning: None of the inputs have requires_grad=True. Gradients will be None\n",
            "  warnings.warn(\n",
            "100%|██████████| 262/262 [02:10<00:00,  2.01it/s]\n"
          ]
        },
        {
          "name": "stdout",
          "output_type": "stream",
          "text": [
            "/content/drive/MyDrive/Датасеты/Мандарины/mandarin/NO_IR_damaged\n"
          ]
        },
        {
          "name": "stderr",
          "output_type": "stream",
          "text": [
            "100%|██████████| 256/256 [11:20<00:00,  2.66s/it]\n"
          ]
        }
      ],
      "source": [
        "def crop_save_image(image, img_path, boxes):\n",
        "  if (len(boxes) == 4) or (len(boxes) == 3 and img_path.parent.name in [\"NO_IR_Healthy\", \"Infra_Red_Healthy\"]):\n",
        "    for i, box in enumerate(boxes):\n",
        "        x_min, y_min, x_max, y_max = box.numpy()\n",
        "        cropped_image = image.crop((x_min - 20, y_min - 20, x_max + 20, y_max + 20))\n",
        "\n",
        "        new_path = f\"/content/drive/MyDrive/Датасеты/Мандарины/cropped_mandarins/{img_path.parent.name}/{img_path.stem}_{i}.png\"\n",
        "        cropped_image.save(new_path)\n",
        "  else:\n",
        "    print(f\"\\n[Warning] Image {img_path} has {len(boxes)} boxes\\n\")\n",
        "    return img_path\n",
        "  return None\n",
        "\n",
        "def crop_dataset(dir_path: Path, model, text_prompt):\n",
        "  bad_paths = []\n",
        "  for subdir in dir_path.iterdir():\n",
        "    if subdir.is_dir():\n",
        "      print(subdir)\n",
        "      for image_path in tqdm.tqdm(list(subdir.glob(\"*.png\"))):\n",
        "        new_path = Path(f\"/content/drive/MyDrive/Датасеты/Мандарины/cropped_mandarins/{image_path.parent.name}/{image_path.stem}_2.png\")\n",
        "        if new_path.exists():\n",
        "          continue\n",
        "        image_pil = Image.open(image_path).convert(\"RGB\")\n",
        "\n",
        "        masks, boxes, _, _ = model.predict(image_pil, text_prompt)\n",
        "        bad_img_path = crop_save_image(image_pil, image_path, boxes)\n",
        "        if bad_img_path is not None:\n",
        "          bad_paths.append(bad_img_path)\n",
        "  return bad_paths\n",
        "\n",
        "# model = LangSAM()\n",
        "text_prompt = \"mandarin\"\n",
        "dir_path = Path(\"/content/drive/MyDrive/Датасеты/Мандарины/mandarin\")\n",
        "\n",
        "bad_paths = crop_dataset(dir_path, model, text_prompt)\n"
      ]
    },
    {
      "cell_type": "code",
      "execution_count": null,
      "metadata": {
        "id": "8uIIId5rzJa8"
      },
      "outputs": [],
      "source": [
        "len(bad_paths)"
      ]
    },
    {
      "cell_type": "code",
      "execution_count": null,
      "metadata": {
        "colab": {
          "base_uri": "https://localhost:8080/"
        },
        "id": "Y4LLX5nhK5Mi",
        "outputId": "d7e80a48-72dd-47b6-a938-7947e780f1c5"
      },
      "outputs": [
        {
          "data": {
            "text/plain": [
              "1024"
            ]
          },
          "execution_count": 19,
          "metadata": {},
          "output_type": "execute_result"
        }
      ],
      "source": [
        "len(list(Path(\"/content/drive/MyDrive/Датасеты/Мандарины/cropped_mandarins/NO_IR_damaged\").glob(\"*.png\")))"
      ]
    },
    {
      "cell_type": "markdown",
      "metadata": {
        "id": "pNNdpevHnZFG"
      },
      "source": [
        "# Dataset info"
      ]
    },
    {
      "cell_type": "code",
      "execution_count": 3,
      "metadata": {
        "colab": {
          "base_uri": "https://localhost:8080/"
        },
        "id": "bSMLRl7lntXN",
        "outputId": "22ef80a8-c48b-4bf8-98db-1691b2ee35e5"
      },
      "outputs": [
        {
          "data": {
            "text/plain": [
              "{'2024-03-14': 1856,\n",
              " '2024-03-29': 312,\n",
              " '2024-03-30': 568,\n",
              " '2024-04-04': 128,\n",
              " '2024-04-05': 560,\n",
              " '2024-04-06': 630}"
            ]
          },
          "execution_count": 3,
          "metadata": {},
          "output_type": "execute_result"
        }
      ],
      "source": [
        "dates = {}\n",
        "\n",
        "dir = Path(\"/content/drive/MyDrive/Датасеты/Мандарины/cropped_mandarins/\")\n",
        "for subdir in dir.iterdir():\n",
        "  for img_path in subdir.glob(\"*.png\"):\n",
        "    name = img_path.stem\n",
        "    date = name.split(\" \")[0]\n",
        "    if dates.get(date):\n",
        "      dates[date] += 1\n",
        "    else:\n",
        "      dates[date] = 1\n",
        "\n",
        "dates"
      ]
    },
    {
      "cell_type": "code",
      "execution_count": 6,
      "metadata": {
        "id": "ftbMbtdVy54u"
      },
      "outputs": [],
      "source": [
        "dates_full = dates.copy()"
      ]
    },
    {
      "cell_type": "code",
      "execution_count": 7,
      "metadata": {
        "colab": {
          "base_uri": "https://localhost:8080/"
        },
        "id": "FTCNnMp-o4ng",
        "outputId": "91c858e0-80eb-438c-c7a3-06110bfcbeb1"
      },
      "outputs": [
        {
          "data": {
            "text/plain": [
              "{'2024-03-14': 60,\n",
              " '2024-03-29': 156,\n",
              " '2024-03-30': 284,\n",
              " '2024-04-04': 64,\n",
              " '2024-04-05': 280,\n",
              " '2024-04-06': 180}"
            ]
          },
          "execution_count": 7,
          "metadata": {},
          "output_type": "execute_result"
        }
      ],
      "source": [
        "\n",
        "\n",
        "dates = {}\n",
        "\n",
        "dir = Path(\"/content/drive/MyDrive/Датасеты/Мандарины/cropped_mandarins/Infra_Red_damaged\")\n",
        "\n",
        "for img_path in dir.glob(\"*.png\"):\n",
        "  name = img_path.stem\n",
        "  date = name.split(\" \")[0]\n",
        "  if dates.get(date):\n",
        "    dates[date] += 1\n",
        "  else:\n",
        "    dates[date] = 1\n",
        "\n",
        "dates\n"
      ]
    },
    {
      "cell_type": "code",
      "execution_count": 2,
      "metadata": {
        "id": "MC7dyfRrFzSk"
      },
      "outputs": [],
      "source": []
    },
    {
      "cell_type": "code",
      "execution_count": 12,
      "metadata": {
        "id": "1FNfZa8FF3Li"
      },
      "outputs": [],
      "source": [
        "s = \"2024-03-30 06:20:38.713108\"\n",
        "\n",
        "# 2024-03-30 06:26:35.306508"
      ]
    },
    {
      "cell_type": "code",
      "execution_count": 19,
      "metadata": {
        "colab": {
          "base_uri": "https://localhost:8080/"
        },
        "id": "WzMMWwXjGKI_",
        "outputId": "01cedb04-c14a-4da2-c00b-dfaa0c0c36ff"
      },
      "outputs": [
        {
          "data": {
            "text/plain": [
              "True"
            ]
          },
          "execution_count": 19,
          "metadata": {},
          "output_type": "execute_result"
        }
      ],
      "source": [
        "from datetime import datetime\n",
        "\n",
        "date_str1 = \"2024-03-30 06:20:38.713108\"\n",
        "date_str2 = \"2024-03-30 06:26:35.306508\"\n",
        "\n",
        "date_format = \"%Y-%m-%d %H:%M:%S.%f\"\n",
        "date1 = datetime.strptime(date_str1, date_format)\n",
        "date2 = datetime.strptime(date_str2, date_format)\n",
        "\n",
        "date1 < date2"
      ]
    },
    {
      "cell_type": "code",
      "execution_count": 23,
      "metadata": {
        "colab": {
          "base_uri": "https://localhost:8080/"
        },
        "id": "0YXzSa8lGHxv",
        "outputId": "2fea5cf4-ffce-4e02-c1c7-942779f7f20f"
      },
      "outputs": [
        {
          "data": {
            "text/plain": [
              "0.09888888888888889"
            ]
          },
          "execution_count": 23,
          "metadata": {},
          "output_type": "execute_result"
        }
      ],
      "source": [
        "(date2 - date1).seconds / (60 * 60)"
      ]
    },
    {
      "cell_type": "code",
      "execution_count": null,
      "metadata": {
        "id": "efNcML4_GH0B"
      },
      "outputs": [],
      "source": []
    },
    {
      "cell_type": "code",
      "execution_count": null,
      "metadata": {
        "id": "pqo4usV-zQZj"
      },
      "outputs": [],
      "source": [
        "mandarin_tries = {\n",
        "    1: \"2024-03-14 18:51:58.361526\",\n",
        "    2: \"2024-03-30 06:26:35.306508\",\n",
        "    3: \"2024-04-04 19:40:13.735124\",\n",
        "    4: \"2024-04-05 10:42:12.116010\"\n",
        "}"
      ]
    },
    {
      "cell_type": "markdown",
      "metadata": {
        "id": "gA9PqsPOnEOS"
      },
      "source": [
        "## Work with Dataset"
      ]
    },
    {
      "cell_type": "markdown",
      "metadata": {
        "id": "-bCPcqNWwr1x"
      },
      "source": [
        "### Binary Classification dataset"
      ]
    },
    {
      "cell_type": "code",
      "execution_count": null,
      "metadata": {
        "id": "3HUS7JdOnJrw"
      },
      "outputs": [],
      "source": [
        "class MandarinDataset(Dataset):\n",
        "  def __init__(\n",
        "      self,\n",
        "      data_dir: Path,\n",
        "      original_light: bool,\n",
        "      IR_lamp_light: bool,\n",
        "      train: bool,\n",
        "      size=(300, 300),\n",
        "      transform=None\n",
        "  ):\n",
        "    \"\"\"Mandarin Dataset.\n",
        "\n",
        "    Arguments:\n",
        "      data_dir: Path - path to dataset directory, contained 4 folders with images\n",
        "      original_light: bool - whether to use images made without Infra-Red lamp, only environmental light\n",
        "      IR_lamp_light: bool - whether to use images made with Infra-Red lamp\n",
        "      train: bool - is it train dataset or not, at train dataset use augmentations\n",
        "      size: Tuple[int] - size for resizing images\n",
        "      transform: training augmentation transforms\n",
        "    \"\"\"\n",
        "    assert original_light or IR_lamp_light\n",
        "    self.original_light = original_light\n",
        "    self.IR_lamp_light = IR_lamp_light\n",
        "    self.data_dir = data_dir\n",
        "    self.resize = transforms.Resize(size)\n",
        "    self.train = train\n",
        "    self.transform = transform\n",
        "\n",
        "    self.subdirs = {subdir.name: subdir for subdir in data_dir.iterdir() if subdir.is_dir()}\n",
        "    self.subdirs_names = list(self.subdirs.keys())\n",
        "\n",
        "    assert len(self.subdirs) == 4\n",
        "    self.subdir_images_paths = {}\n",
        "\n",
        "    for subdir_name, subdir in self.subdirs.items():\n",
        "      self.subdir_images_paths[subdir_name] = list(subdir.glob(\"*.png\"))\n",
        "\n",
        "    self.images_paths = {\"original_light\": [], \"IR_lamp_light\": []}\n",
        "\n",
        "    for subdir_name in self.subdirs_names:\n",
        "      if subdir_name.startswith(\"Infra\"):\n",
        "        self.images_paths[\"IR_lamp_light\"].extend(self.subdir_images_paths[subdir_name])\n",
        "\n",
        "    for img_path in self.images_paths[\"IR_lamp_light\"]:\n",
        "      subdir = img_path.parent\n",
        "      original_lamp_path = subdir.parent / f\"NO_IR_{subdir.name.split('_')[-1]}\" / img_path.name\n",
        "      assert original_lamp_path.exists()\n",
        "      self.images_paths[\"original_light\"].append(original_lamp_path)\n",
        "\n",
        "    for i in range(len(self.images_paths[\"original_light\"])):\n",
        "      assert self.images_paths[\"original_light\"][i].name == self.images_paths[\"IR_lamp_light\"][i].name\n",
        "\n",
        "  def __len__(self):\n",
        "    return len(self.images_paths[\"original_light\"])\n",
        "\n",
        "  def __getitem__(self, idx):\n",
        "    if self.original_light:\n",
        "      image = Image.open(self.images_paths[\"original_light\"][idx]).convert(\"RGB\")\n",
        "      is_damaged = self.images_paths[\"original_light\"][idx].parent.name.endswith(\"damaged\")\n",
        "      image = transforms.functional.pil_to_tensor(image)\n",
        "      image = self.resize(image)\n",
        "\n",
        "    if self.IR_lamp_light:\n",
        "      ir_image = Image.open(self.images_paths[\"IR_lamp_light\"][idx]).convert(\"RGB\")\n",
        "      is_damaged = self.images_paths[\"original_light\"][idx].parent.name.endswith(\"damaged\")\n",
        "      ir_image = transforms.functional.pil_to_tensor(ir_image)\n",
        "      ir_image = self.resize(ir_image)\n",
        "\n",
        "    if self.original_light and self.IR_lamp_light:\n",
        "      image = torch.cat((image, ir_image))\n",
        "    elif not self.original_light and self.IR_lamp_light:\n",
        "      image = ir_image\n",
        "\n",
        "    # TODO: idk can we apply transforms to 6 channels image or not?\n",
        "    if self.transform and self.train:\n",
        "        image = self.transform(image)\n",
        "\n",
        "    return image, torch.as_tensor(is_damaged).long()"
      ]
    },
    {
      "cell_type": "markdown",
      "metadata": {
        "id": "I6aerlYrwtpq"
      },
      "source": [
        "### Predict time of spoil"
      ]
    },
    {
      "cell_type": "code",
      "execution_count": 2,
      "metadata": {
        "id": "GB9vFr5MwxMK"
      },
      "outputs": [],
      "source": [
        "date_format = \"%Y-%m-%d %H:%M:%S.%f\"\n",
        "\n",
        "class MandarinDatasetTime(Dataset):\n",
        "  def __init__(\n",
        "      self,\n",
        "      data_dir: Path,\n",
        "      original_light: bool,\n",
        "      IR_lamp_light: bool,\n",
        "      train: bool,\n",
        "      size=(300, 300),\n",
        "      transform=None\n",
        "  ):\n",
        "    \"\"\"Mandarin Dataset.\n",
        "\n",
        "    Arguments:\n",
        "      data_dir: Path - path to dataset directory, contained 4 folders with images\n",
        "      original_light: bool - whether to use images made without Infra-Red lamp, only environmental light\n",
        "      IR_lamp_light: bool - whether to use images made with Infra-Red lamp\n",
        "      train: bool - is it train dataset or not, at train dataset use augmentations\n",
        "      size: Tuple[int] - size for resizing images\n",
        "      transform: training augmentation transforms\n",
        "    \"\"\"\n",
        "    assert original_light or IR_lamp_light\n",
        "    self.original_light = original_light\n",
        "    self.IR_lamp_light = IR_lamp_light\n",
        "    self.data_dir = data_dir\n",
        "    self.resize = transforms.Resize(size)\n",
        "    self.train = train\n",
        "    self.transform = transform\n",
        "\n",
        "    self.mandarin_tries = {\n",
        "        1: \"2024-03-14 18:51:58.361526\",\n",
        "        2: \"2024-03-30 06:26:35.306508\", # \"2024-04-04 19:40:13.735124\" - перестановка\n",
        "        3: \"2024-04-05 10:42:12.116010\"\n",
        "    }\n",
        "\n",
        "    self.subdirs = {subdir.name: subdir for subdir in data_dir.iterdir() if subdir.is_dir()}\n",
        "    self.subdirs_names = list(self.subdirs.keys())\n",
        "\n",
        "    assert len(self.subdirs) == 4\n",
        "    self.subdir_images_paths = {}\n",
        "\n",
        "    for subdir_name, subdir in self.subdirs.items():\n",
        "      self.subdir_images_paths[subdir_name] = list(subdir.glob(\"*.png\"))\n",
        "\n",
        "    self.images_paths = {\"original_light\": [], \"IR_lamp_light\": []}\n",
        "\n",
        "    for subdir_name in self.subdirs_names:\n",
        "      if subdir_name.startswith(\"Infra\"):\n",
        "        self.images_paths[\"IR_lamp_light\"].extend(self.subdir_images_paths[subdir_name])\n",
        "\n",
        "    for img_path in self.images_paths[\"IR_lamp_light\"]:\n",
        "      subdir = img_path.parent\n",
        "      original_lamp_path = subdir.parent / f\"NO_IR_{subdir.name.split('_')[-1]}\" / img_path.name\n",
        "      assert original_lamp_path.exists()\n",
        "      self.images_paths[\"original_light\"].append(original_lamp_path)\n",
        "\n",
        "    for i in range(len(self.images_paths[\"original_light\"])):\n",
        "      assert self.images_paths[\"original_light\"][i].name == self.images_paths[\"IR_lamp_light\"][i].name\n",
        "\n",
        "  def __len__(self):\n",
        "    return len(self.images_paths[\"original_light\"])\n",
        "\n",
        "  def _get_lay_time(self, image_path):\n",
        "    if image_path.parent.name.endswith(\"damaged\"):\n",
        "      date = image_path.stem.split(\"_\")[0]\n",
        "      date = datetime.strptime(date, date_format)\n",
        "\n",
        "      num_try = len(self.mandarin_tries)\n",
        "      for i in range(2, len(self.mandarin_tries) + 1):\n",
        "        start_date = datetime.strptime(self.mandarin_tries[i], date_format)\n",
        "        if date < start_date:\n",
        "          num_try = i - 1\n",
        "          break\n",
        "\n",
        "      start_date = datetime.strptime(self.mandarin_tries[num_try], date_format)\n",
        "      diff = (date - start_date).seconds / (60 * 60)\n",
        "      return diff\n",
        "\n",
        "    else:\n",
        "      return 0\n",
        "\n",
        "  def __getitem__(self, idx):\n",
        "    if self.original_light:\n",
        "      image = Image.open(self.images_paths[\"original_light\"][idx]).convert(\"RGB\")\n",
        "\n",
        "      lay_time_hours = self._get_lay_time(self.images_paths[\"original_light\"][idx])\n",
        "\n",
        "      image = transforms.functional.pil_to_tensor(image)\n",
        "      image = self.resize(image)\n",
        "\n",
        "    if self.IR_lamp_light:\n",
        "      ir_image = Image.open(self.images_paths[\"IR_lamp_light\"][idx]).convert(\"RGB\")\n",
        "\n",
        "      lay_time_hours = self._get_lay_time(self.images_paths[\"IR_lamp_light\"][idx])\n",
        "\n",
        "      ir_image = transforms.functional.pil_to_tensor(ir_image)\n",
        "      ir_image = self.resize(ir_image)\n",
        "\n",
        "    if self.original_light and self.IR_lamp_light:\n",
        "      image = torch.cat((image, ir_image))\n",
        "    elif not self.original_light and self.IR_lamp_light:\n",
        "      image = ir_image\n",
        "\n",
        "    # TODO: idk can we apply transforms to 6 channels image or not?\n",
        "    if self.transform and self.train:\n",
        "        image = self.transform(image)\n",
        "\n",
        "    return image, torch.as_tensor(lay_time_hours).float()"
      ]
    },
    {
      "cell_type": "markdown",
      "metadata": {
        "id": "DNNLlhtOwnqO"
      },
      "source": [
        "## Params"
      ]
    },
    {
      "cell_type": "code",
      "execution_count": 3,
      "metadata": {
        "id": "Na_8hYaEK9BP"
      },
      "outputs": [],
      "source": [
        "@dataclass\n",
        "class DatasetParams:\n",
        "  data_dir = Path(\"/content/drive/MyDrive/Датасеты/Мандарины/cropped_mandarins\")\n",
        "  original_light = True\n",
        "  IR_lamp_light = False\n",
        "  mean, std = [0.485, 0.456, 0.406], [0.229, 0.224, 0.225]\n",
        "\n",
        "  train_transforms = transforms.Compose([\n",
        "      transforms.RandomHorizontalFlip(),\n",
        "      transforms.Normalize(mean=mean, std=std),\n",
        "  ])\n",
        "  size = (300, 300)\n",
        "  val_ratio = 0.1\n",
        "  test_ratio = 0.1\n",
        "\n",
        "\n",
        "@dataclass\n",
        "class TrainingParams:\n",
        "  num_epochs = 10\n",
        "  l_rate = 1e-3\n",
        "  train_batch_size = 32\n",
        "  val_batch_size = 16\n",
        "  test_batch_size = 16\n",
        "  device = \"cuda\"\n",
        "\n",
        "  criterion = nn.CrossEntropyLoss()\n",
        "  optimizer = \"Adam\"\n",
        "  optimimzer_kwargs = {}\n",
        "  scheduler = \"StepLR\"\n",
        "\n",
        "  scheduler_kwargs = {\"step_size\": 30, \"gamma\": 0.1}\n",
        "\n",
        "\n",
        "@dataclass\n",
        "class ModelParams:\n",
        "  architecture = \"SimpleCNN\"\n",
        "  input_channels = 3\n",
        "  output_channels = 2\n",
        "\n",
        "\n",
        "@dataclass\n",
        "class Params:\n",
        "  problem_type: str = \"binary_classification\"\n",
        "  dataset_params = DatasetParams()\n",
        "  training_params = TrainingParams()\n",
        "  model_params = ModelParams()\n",
        "\n",
        "\n",
        "\n",
        "\n",
        "class Sasha_Exp_1(Params):\n",
        "  def __init__(self):\n",
        "    super().__init__()\n",
        "    self.dataset_params.train_transforms = None\n",
        "\n",
        "class Sasha_Exp_2(Params):\n",
        "  def __init__(self):\n",
        "    super().__init__()\n",
        "    self.dataset_params.train_transforms = None\n",
        "    self.training_params.num_epochs = 5\n",
        "\n",
        "\n",
        "class Sasha_Exp_1_time_pred(Params):\n",
        "  def __init__(self):\n",
        "    super().__init__()\n",
        "    self.problem_type = \"time_prediction\"\n",
        "    self.dataset_params.train_transforms = None\n",
        "    self.training_params.criterion = nn.MSELoss()\n",
        "    self.model_params.output_channels = 1\n",
        "    self.training_params.num_epochs = 5\n"
      ]
    },
    {
      "cell_type": "markdown",
      "metadata": {
        "id": "Xi-eZb6aWO0p"
      },
      "source": [
        "## Model"
      ]
    },
    {
      "cell_type": "code",
      "execution_count": 4,
      "metadata": {
        "id": "nGWJ2LQAWPvs"
      },
      "outputs": [],
      "source": [
        "class SimpleCNN(nn.Module):\n",
        "    def __init__(self, params):\n",
        "        super(SimpleCNN, self).__init__()\n",
        "        self.conv1 = nn.Conv2d(params.model_params.input_channels, 16, kernel_size=3, padding=1)\n",
        "        self.conv2 = nn.Conv2d(16, 32, kernel_size=3, padding=1)\n",
        "        self.flatten_size = (32 * params.dataset_params.size[0] * params.dataset_params.size[1]) // (4 ** 2)\n",
        "        self.pool = nn.MaxPool2d(2, 2)\n",
        "        self.fc1 = nn.Linear(self.flatten_size, 512)\n",
        "        self.fc2 = nn.Linear(512, params.model_params.output_channels)\n",
        "\n",
        "    def forward(self, x):\n",
        "        x = self.pool(F.relu(self.conv1(x)))\n",
        "        x = self.pool(F.relu(self.conv2(x)))\n",
        "        x = x.view(-1, self.flatten_size)\n",
        "        x = F.relu(self.fc1(x))\n",
        "        x = self.fc2(x)\n",
        "        return x"
      ]
    },
    {
      "cell_type": "code",
      "execution_count": 5,
      "metadata": {
        "id": "IRwdqPJp183p"
      },
      "outputs": [],
      "source": [
        "from torch.optim.lr_scheduler import StepLR\n",
        "\n",
        "models_dict = {\"SimpleCNN\": SimpleCNN}\n",
        "\n",
        "optimizer_dict = {\"Adam\": torch.optim.Adam}\n",
        "\n",
        "scheduler_dict = {\"StepLR\": StepLR}\n",
        "\n",
        "def get_loaders(params, dataset_class):\n",
        "    \"\"\"Get dataloader for MandarinDataset.\"\"\"\n",
        "    dataset = dataset_class(\n",
        "        params.dataset_params.data_dir,\n",
        "        params.dataset_params.original_light,\n",
        "        params.dataset_params.IR_lamp_light,\n",
        "        train=True,\n",
        "        size=params.dataset_params.size,\n",
        "        transform=params.dataset_params.train_transforms)\n",
        "\n",
        "    val_size = int(params.dataset_params.val_ratio * len(dataset))\n",
        "    test_size = int(params.dataset_params.test_ratio * len(dataset))\n",
        "    train_size = len(dataset) - val_size - test_size\n",
        "    train_dataset, val_dataset, test_dataset = random_split(dataset, [train_size, val_size, test_size])\n",
        "    val_dataset.train = False\n",
        "    test_dataset.train = False\n",
        "\n",
        "    train_loader = DataLoader(train_dataset, batch_size=params.training_params.train_batch_size, shuffle=True)\n",
        "    val_loader = DataLoader(val_dataset, batch_size=params.training_params.val_batch_size, shuffle=False)\n",
        "    test_loader = DataLoader(test_dataset, batch_size=params.training_params.test_batch_size, shuffle=False)\n",
        "\n",
        "    return train_loader, val_loader, test_loader\n",
        "\n",
        "def get_model(params):\n",
        "  model = models_dict[params.model_params.architecture](params)\n",
        "  return model\n",
        "\n",
        "def get_optimizer(params, model):\n",
        "  return optimizer_dict[params.training_params.optimizer](\n",
        "      model.parameters(),\n",
        "      lr=params.training_params.l_rate,\n",
        "      **params.training_params.optimimzer_kwargs)\n",
        "\n",
        "def get_scheduler(params, optimizer):\n",
        "  scheduler = scheduler_dict[params.training_params.scheduler](optimizer, **params.training_params.scheduler_kwargs)\n",
        "  return scheduler"
      ]
    },
    {
      "cell_type": "code",
      "execution_count": 6,
      "metadata": {
        "id": "2ydwsbHH6Opg"
      },
      "outputs": [],
      "source": [
        "exp_param = Sasha_Exp_1_time_pred()"
      ]
    },
    {
      "cell_type": "code",
      "execution_count": 7,
      "metadata": {
        "colab": {
          "base_uri": "https://localhost:8080/"
        },
        "id": "HXO6OV28AwWC",
        "outputId": "7a79b95b-cbfc-4d12-88ae-140211352527"
      },
      "outputs": [
        {
          "name": "stderr",
          "output_type": "stream",
          "text": [
            "\u001b[34m\u001b[1mwandb\u001b[0m: Currently logged in as: \u001b[33msharshavin\u001b[0m. Use \u001b[1m`wandb login --relogin`\u001b[0m to force relogin\n"
          ]
        },
        {
          "data": {
            "text/plain": [
              "True"
            ]
          },
          "execution_count": 7,
          "metadata": {},
          "output_type": "execute_result"
        }
      ],
      "source": [
        "import wandb\n",
        "\n",
        "# 3a2e396ef1adf8592f1ff3729e4725f92f07d806\n",
        "\n",
        "wandb.login()"
      ]
    },
    {
      "cell_type": "code",
      "execution_count": 17,
      "metadata": {
        "id": "AHanWRYFAy38"
      },
      "outputs": [],
      "source": [
        "# from agroqualifier.trainer import Trainer\n",
        "import torch\n",
        "import torch.nn as nn\n",
        "import torch.optim as optim\n",
        "import torchvision\n",
        "from torchvision import transforms, datasets\n",
        "import tqdm\n",
        "import random\n",
        "\n",
        "import wandb\n",
        "\n",
        "\n",
        "class Trainer:\n",
        "    def __init__(\n",
        "        self,\n",
        "        model,\n",
        "        params,\n",
        "        train_loader,\n",
        "        val_loader,\n",
        "        criterion,\n",
        "        optimizer,\n",
        "        scheduler=None,\n",
        "        device: str = \"cuda\",\n",
        "        wandb_logging=False,\n",
        "    ):\n",
        "        self.model = model.to(device)\n",
        "        self.params = params\n",
        "        self.train_loader = train_loader\n",
        "        self.val_loader = val_loader\n",
        "        self.criterion = criterion\n",
        "        self.optimizer = optimizer\n",
        "        self.scheduler = scheduler\n",
        "        self.device = device\n",
        "        self.wandb_logging = wandb_logging\n",
        "\n",
        "        if wandb_logging:\n",
        "            wandb.init(\n",
        "                project=\"AgroQualifier\",\n",
        "                name=self.params.__class__.__name__,\n",
        "                config={\n",
        "                    \"learning_rate\": self.params.training_params.l_rate,\n",
        "                    \"architecture\": self.params.model_params.architecture,\n",
        "                    \"dataset\": (f\"Use original_light, \" if self.params.dataset_params.original_light else \"\")\n",
        "                    + (f\"Use IR_lamp_light\" if self.params.dataset_params.IR_lamp_light else \"\"),\n",
        "                    \"epochs\": self.params.training_params.num_epochs,\n",
        "                },\n",
        "            )\n",
        "\n",
        "    def set_global_seed(self, seed: int) -> None:\n",
        "        \"\"\"\n",
        "        Set global seed for reproducibility.\n",
        "        \"\"\"\n",
        "\n",
        "        random.seed(seed)\n",
        "        torch.manual_seed(seed)\n",
        "        torch.cuda.manual_seed_all(seed)\n",
        "        torch.backends.cudnn.benchmark = True\n",
        "        torch.backends.cudnn.deterministic = True\n",
        "\n",
        "    def train(self):\n",
        "        self.set_global_seed(42)\n",
        "        for epoch in range(self.params.training_params.num_epochs):\n",
        "            self.model.train()\n",
        "            running_loss = 0.0\n",
        "            correct = 0\n",
        "            total = 0\n",
        "            for inputs, labels in tqdm.tqdm(self.train_loader, desc=f\"Train loop, Epoch {epoch + 1}\"):\n",
        "                inputs, labels = inputs.to(self.device).float(), labels.to(self.device)\n",
        "\n",
        "                self.optimizer.zero_grad()\n",
        "                outputs = self.model(inputs)\n",
        "                if self.params.problem_type == \"time_prediction\":\n",
        "                  outputs = outputs.squeeze(-1)\n",
        "                loss = self.criterion(outputs, labels)\n",
        "                loss.backward()\n",
        "                self.optimizer.step()\n",
        "                running_loss += loss.item()\n",
        "\n",
        "                if self.params.problem_type == \"binary_classification\":\n",
        "                  _, predicted = torch.max(outputs, 1)\n",
        "                  correct += (predicted == labels).sum().item()\n",
        "                  total += labels.size(0)\n",
        "                else:\n",
        "                  total = 1\n",
        "\n",
        "            accuracy = correct / total\n",
        "            training_loss = running_loss / len(self.train_loader)\n",
        "            print(f\"Epoch {epoch+1}/{self.params.training_params.num_epochs}, Training Accuracy: {accuracy}, Training Loss: {training_loss}\")\n",
        "            if self.wandb_logging:\n",
        "                wandb.log({\"Train/loss\": training_loss, \"Train/accuracy\": accuracy, \"Learning rate\": self.get_lr()})\n",
        "\n",
        "            if self.scheduler is not None:\n",
        "                self.scheduler.step()\n",
        "\n",
        "            self.evaluate()\n",
        "\n",
        "    def evaluate(self):\n",
        "        self.model.eval()\n",
        "        correct = 0\n",
        "        total = 0\n",
        "        val_loss = 0.0\n",
        "        with torch.no_grad():\n",
        "            for inputs, labels in tqdm.tqdm(self.val_loader, desc=\"Validation loop\"):\n",
        "                inputs, labels = inputs.to(self.device).float(), labels.to(self.device)\n",
        "\n",
        "                outputs = self.model(inputs)\n",
        "                if self.params.problem_type == \"time_prediction\":\n",
        "                  outputs = outputs.squeeze(-1)\n",
        "                val_loss += self.criterion(outputs, labels).item()\n",
        "\n",
        "                if self.params.problem_type == \"binary_classification\":\n",
        "                  _, predicted = torch.max(outputs, 1)\n",
        "                  correct += (predicted == labels).sum().item()\n",
        "                  total += labels.size(0)\n",
        "                else:\n",
        "                  total = 1\n",
        "\n",
        "        accuracy = correct / total\n",
        "        val_loss = val_loss / len(self.val_loader)\n",
        "        if self.wandb_logging:\n",
        "            wandb.log({\"Validation/loss\": val_loss, \"Validation/accuracy\": accuracy})\n",
        "        print(f\"Validation Accuracy: {accuracy}, Validation loss: {val_loss}\")\n",
        "\n",
        "    def get_lr(self):\n",
        "        for param_group in self.optimizer.param_groups:\n",
        "            return param_group['lr']\n",
        "\n",
        "    def test(self, test_loader):\n",
        "        self.model.eval()\n",
        "        correct = 0\n",
        "        total = 0\n",
        "        test_loss = 0.0\n",
        "        y_preds = []\n",
        "        y_true = []\n",
        "        with torch.no_grad():\n",
        "            for inputs, labels in tqdm.tqdm(test_loader, desc=\"Validation loop\"):\n",
        "                inputs, labels = inputs.to(self.device).float(), labels.to(self.device)\n",
        "\n",
        "                outputs = self.model(inputs)\n",
        "                if self.params.problem_type == \"time_prediction\":\n",
        "                  outputs = outputs.squeeze(-1)\n",
        "                test_loss += self.criterion(outputs, labels).item()\n",
        "\n",
        "                if self.params.problem_type == \"binary_classification\":\n",
        "                  _, predicted = torch.max(outputs, 1)\n",
        "                  y_preds.extend(list(predicted.cpu().numpy()))\n",
        "                  y_true.extend(list(labels.cpu().numpy()))\n",
        "\n",
        "                  correct += (predicted == labels).sum().item()\n",
        "                  total += labels.size(0)\n",
        "                else:\n",
        "                  total = 1\n",
        "\n",
        "        accuracy = correct / total\n",
        "        test_loss = test_loss / len(test_loader)\n",
        "        if self.wandb_logging:\n",
        "            wandb.log({\"Test/loss\": test_loss, \"Test/accuracy\": accuracy})\n",
        "        print(f\"\\nTest Accuracy: {accuracy}, Test loss: {test_loss}\")\n",
        "        return y_preds, y_true\n"
      ]
    },
    {
      "cell_type": "code",
      "execution_count": 18,
      "metadata": {
        "id": "sr0WhDKef5NP"
      },
      "outputs": [],
      "source": [
        "set_global_seed(42)"
      ]
    },
    {
      "cell_type": "code",
      "execution_count": 19,
      "metadata": {
        "id": "nmp9BEp3123R"
      },
      "outputs": [],
      "source": [
        "train_loader, val_loader, test_loader = get_loaders(exp_param, dataset_class=MandarinDatasetTime)"
      ]
    },
    {
      "cell_type": "code",
      "execution_count": 20,
      "metadata": {
        "id": "2e_bOn1vBMLu"
      },
      "outputs": [],
      "source": [
        "model = get_model(exp_param)\n",
        "optimizer = get_optimizer(exp_param, model)\n",
        "scheduler = get_scheduler(exp_param, optimizer)"
      ]
    },
    {
      "cell_type": "code",
      "execution_count": 21,
      "metadata": {
        "colab": {
          "base_uri": "https://localhost:8080/",
          "height": 412,
          "referenced_widgets": [
            "d5de3a1044c24c628813ec7cb8b637e6",
            "50d91b4f919346189911b19315d1fe42",
            "d98de81ea007416990a6b28afa7e6335",
            "4d75e6eade6240fda9afd48af56feb97",
            "25c77817af614db896b3c0b1c222ac52",
            "7d0c10923b61488d8e6c7d649523c0d7",
            "15d30f610e324f8f97050c2493cd81ef",
            "9cb76d80e1f54cc5ae8fc7ac776e8324"
          ]
        },
        "id": "0xdxmU_TE2Vx",
        "outputId": "c50e1525-3330-4ea5-83ef-c452a28fd24d"
      },
      "outputs": [
        {
          "data": {
            "text/html": [
              "Finishing last run (ID:r82zpbxm) before initializing another..."
            ],
            "text/plain": [
              "<IPython.core.display.HTML object>"
            ]
          },
          "metadata": {},
          "output_type": "display_data"
        },
        {
          "data": {
            "application/vnd.jupyter.widget-view+json": {
              "model_id": "d5de3a1044c24c628813ec7cb8b637e6",
              "version_major": 2,
              "version_minor": 0
            },
            "text/plain": [
              "VBox(children=(Label(value='0.001 MB of 0.001 MB uploaded\\r'), FloatProgress(value=1.0, max=1.0)))"
            ]
          },
          "metadata": {},
          "output_type": "display_data"
        },
        {
          "data": {
            "text/html": [
              "<style>\n",
              "    table.wandb td:nth-child(1) { padding: 0 10px; text-align: left ; width: auto;} td:nth-child(2) {text-align: left ; width: 100%}\n",
              "    .wandb-row { display: flex; flex-direction: row; flex-wrap: wrap; justify-content: flex-start; width: 100% }\n",
              "    .wandb-col { display: flex; flex-direction: column; flex-basis: 100%; flex: 1; padding: 10px; }\n",
              "    </style>\n",
              "<div class=\"wandb-row\"><div class=\"wandb-col\"><h3>Run history:</h3><br/><table class=\"wandb\"><tr><td>Learning rate</td><td>▁▁▁▁▁</td></tr><tr><td>Train/accuracy</td><td>▁▁▁▁▁</td></tr><tr><td>Train/loss</td><td>█▁▁▁▁</td></tr><tr><td>Validation/accuracy</td><td>▁▁▁▁▁</td></tr><tr><td>Validation/loss</td><td>▃█▁▁▁</td></tr></table><br/></div><div class=\"wandb-col\"><h3>Run summary:</h3><br/><table class=\"wandb\"><tr><td>Learning rate</td><td>0.001</td></tr><tr><td>Train/accuracy</td><td>0.0</td></tr><tr><td>Train/loss</td><td>52.91667</td></tr><tr><td>Validation/accuracy</td><td>0.0</td></tr><tr><td>Validation/loss</td><td>51.61768</td></tr></table><br/></div></div>"
            ],
            "text/plain": [
              "<IPython.core.display.HTML object>"
            ]
          },
          "metadata": {},
          "output_type": "display_data"
        },
        {
          "data": {
            "text/html": [
              " View run <strong style=\"color:#cdcd00\">Sasha_Exp_1_time_pred</strong> at: <a href='https://wandb.ai/sharshavin/AgroQualifier/runs/r82zpbxm' target=\"_blank\">https://wandb.ai/sharshavin/AgroQualifier/runs/r82zpbxm</a><br/> View project at: <a href='https://wandb.ai/sharshavin/AgroQualifier' target=\"_blank\">https://wandb.ai/sharshavin/AgroQualifier</a><br/>Synced 5 W&B file(s), 0 media file(s), 0 artifact file(s) and 0 other file(s)"
            ],
            "text/plain": [
              "<IPython.core.display.HTML object>"
            ]
          },
          "metadata": {},
          "output_type": "display_data"
        },
        {
          "data": {
            "text/html": [
              "Find logs at: <code>./wandb/run-20240523_100008-r82zpbxm/logs</code>"
            ],
            "text/plain": [
              "<IPython.core.display.HTML object>"
            ]
          },
          "metadata": {},
          "output_type": "display_data"
        },
        {
          "data": {
            "text/html": [
              "Successfully finished last run (ID:r82zpbxm). Initializing new run:<br/>"
            ],
            "text/plain": [
              "<IPython.core.display.HTML object>"
            ]
          },
          "metadata": {},
          "output_type": "display_data"
        },
        {
          "data": {
            "text/html": [
              "Tracking run with wandb version 0.17.0"
            ],
            "text/plain": [
              "<IPython.core.display.HTML object>"
            ]
          },
          "metadata": {},
          "output_type": "display_data"
        },
        {
          "data": {
            "text/html": [
              "Run data is saved locally in <code>/content/wandb/run-20240523_100531-svw3gtgu</code>"
            ],
            "text/plain": [
              "<IPython.core.display.HTML object>"
            ]
          },
          "metadata": {},
          "output_type": "display_data"
        },
        {
          "data": {
            "text/html": [
              "Syncing run <strong><a href='https://wandb.ai/sharshavin/AgroQualifier/runs/svw3gtgu' target=\"_blank\">Sasha_Exp_1_time_pred</a></strong> to <a href='https://wandb.ai/sharshavin/AgroQualifier' target=\"_blank\">Weights & Biases</a> (<a href='https://wandb.me/run' target=\"_blank\">docs</a>)<br/>"
            ],
            "text/plain": [
              "<IPython.core.display.HTML object>"
            ]
          },
          "metadata": {},
          "output_type": "display_data"
        },
        {
          "data": {
            "text/html": [
              " View project at <a href='https://wandb.ai/sharshavin/AgroQualifier' target=\"_blank\">https://wandb.ai/sharshavin/AgroQualifier</a>"
            ],
            "text/plain": [
              "<IPython.core.display.HTML object>"
            ]
          },
          "metadata": {},
          "output_type": "display_data"
        },
        {
          "data": {
            "text/html": [
              " View run at <a href='https://wandb.ai/sharshavin/AgroQualifier/runs/svw3gtgu' target=\"_blank\">https://wandb.ai/sharshavin/AgroQualifier/runs/svw3gtgu</a>"
            ],
            "text/plain": [
              "<IPython.core.display.HTML object>"
            ]
          },
          "metadata": {},
          "output_type": "display_data"
        }
      ],
      "source": [
        "trainer = Trainer(model, exp_param, train_loader, val_loader, exp_param.training_params.criterion, optimizer, scheduler,\n",
        "                  device=\"cuda\",\n",
        "                  wandb_logging=True)"
      ]
    },
    {
      "cell_type": "code",
      "execution_count": 22,
      "metadata": {
        "colab": {
          "base_uri": "https://localhost:8080/"
        },
        "id": "KzBfOuGdGlvr",
        "outputId": "11ef467c-767d-4a16-d572-330850dee54c"
      },
      "outputs": [
        {
          "name": "stderr",
          "output_type": "stream",
          "text": [
            "Train loop, Epoch 1: 100%|██████████| 51/51 [00:27<00:00,  1.84it/s]\n"
          ]
        },
        {
          "name": "stdout",
          "output_type": "stream",
          "text": [
            "Epoch 1/5, Training Accuracy: 0.0, Training Loss: 746535.6001594767\n"
          ]
        },
        {
          "name": "stderr",
          "output_type": "stream",
          "text": [
            "Validation loop: 100%|██████████| 13/13 [00:02<00:00,  5.17it/s]\n"
          ]
        },
        {
          "name": "stdout",
          "output_type": "stream",
          "text": [
            "Validation Accuracy: 0.0, Validation loss: 49.49180661714994\n"
          ]
        },
        {
          "name": "stderr",
          "output_type": "stream",
          "text": [
            "Train loop, Epoch 2: 100%|██████████| 51/51 [00:22<00:00,  2.27it/s]\n"
          ]
        },
        {
          "name": "stdout",
          "output_type": "stream",
          "text": [
            "Epoch 2/5, Training Accuracy: 0.0, Training Loss: 58.73065376281738\n"
          ]
        },
        {
          "name": "stderr",
          "output_type": "stream",
          "text": [
            "Validation loop: 100%|██████████| 13/13 [00:02<00:00,  5.84it/s]\n"
          ]
        },
        {
          "name": "stdout",
          "output_type": "stream",
          "text": [
            "Validation Accuracy: 0.0, Validation loss: 50.918755751389725\n"
          ]
        },
        {
          "name": "stderr",
          "output_type": "stream",
          "text": [
            "Train loop, Epoch 3: 100%|██████████| 51/51 [00:23<00:00,  2.14it/s]\n"
          ]
        },
        {
          "name": "stdout",
          "output_type": "stream",
          "text": [
            "Epoch 3/5, Training Accuracy: 0.0, Training Loss: 34.3968599356857\n"
          ]
        },
        {
          "name": "stderr",
          "output_type": "stream",
          "text": [
            "Validation loop: 100%|██████████| 13/13 [00:02<00:00,  5.74it/s]\n"
          ]
        },
        {
          "name": "stdout",
          "output_type": "stream",
          "text": [
            "Validation Accuracy: 0.0, Validation loss: 34.39016386178824\n"
          ]
        },
        {
          "name": "stderr",
          "output_type": "stream",
          "text": [
            "Train loop, Epoch 4: 100%|██████████| 51/51 [00:22<00:00,  2.30it/s]\n"
          ]
        },
        {
          "name": "stdout",
          "output_type": "stream",
          "text": [
            "Epoch 4/5, Training Accuracy: 0.0, Training Loss: 29.63587833853329\n"
          ]
        },
        {
          "name": "stderr",
          "output_type": "stream",
          "text": [
            "Validation loop: 100%|██████████| 13/13 [00:02<00:00,  6.07it/s]\n"
          ]
        },
        {
          "name": "stdout",
          "output_type": "stream",
          "text": [
            "Validation Accuracy: 0.0, Validation loss: 35.32142844566932\n"
          ]
        },
        {
          "name": "stderr",
          "output_type": "stream",
          "text": [
            "Train loop, Epoch 5: 100%|██████████| 51/51 [00:21<00:00,  2.34it/s]\n"
          ]
        },
        {
          "name": "stdout",
          "output_type": "stream",
          "text": [
            "Epoch 5/5, Training Accuracy: 0.0, Training Loss: 31.831603405522365\n"
          ]
        },
        {
          "name": "stderr",
          "output_type": "stream",
          "text": [
            "Validation loop: 100%|██████████| 13/13 [00:02<00:00,  4.73it/s]"
          ]
        },
        {
          "name": "stdout",
          "output_type": "stream",
          "text": [
            "Validation Accuracy: 0.0, Validation loss: 29.093877205481895\n"
          ]
        },
        {
          "name": "stderr",
          "output_type": "stream",
          "text": [
            "\n"
          ]
        }
      ],
      "source": [
        "trainer.train()"
      ]
    },
    {
      "cell_type": "markdown",
      "metadata": {
        "id": "YAJ6IXMCywhZ"
      },
      "source": [
        "# Test"
      ]
    },
    {
      "cell_type": "markdown",
      "metadata": {
        "id": "H4r_W3777DTi"
      },
      "source": [
        "## Confusion matrix"
      ]
    },
    {
      "cell_type": "code",
      "execution_count": null,
      "metadata": {
        "id": "9Z8sIf4-gSMd"
      },
      "outputs": [],
      "source": [
        "from sklearn.metrics import confusion_matrix\n",
        "import matplotlib.pyplot as plt\n",
        "import seaborn as sns\n",
        "\n",
        "def display_confusion_matrix(y_true, y_pred, labels):\n",
        "    cm = confusion_matrix(y_true, y_pred, labels=labels)\n",
        "    plt.figure(figsize=(8, 6))\n",
        "    sns.heatmap(cm, annot=True, fmt=\"d\", cmap=\"Blues\", xticklabels=labels, yticklabels=labels)\n",
        "    plt.xlabel('Predicted')\n",
        "    plt.ylabel('Actual')\n",
        "    plt.title('Confusion Matrix')\n",
        "    plt.show()"
      ]
    },
    {
      "cell_type": "code",
      "execution_count": null,
      "metadata": {
        "colab": {
          "base_uri": "https://localhost:8080/"
        },
        "id": "Av7E4F1UgeKK",
        "outputId": "75002485-fd3c-401a-f121-e5222839f7c8"
      },
      "outputs": [
        {
          "name": "stderr",
          "output_type": "stream",
          "text": [
            "Validation loop: 100%|██████████| 13/13 [00:04<00:00,  2.90it/s]"
          ]
        },
        {
          "name": "stdout",
          "output_type": "stream",
          "text": [
            "Test Accuracy: 0.9603960396039604, Test loss: 0.4649033484210332\n"
          ]
        },
        {
          "name": "stderr",
          "output_type": "stream",
          "text": [
            "\n"
          ]
        }
      ],
      "source": [
        "y_preds, y_true = trainer.test(test_loader)"
      ]
    },
    {
      "cell_type": "code",
      "execution_count": null,
      "metadata": {
        "colab": {
          "base_uri": "https://localhost:8080/",
          "height": 564
        },
        "id": "G35cf58ggrUC",
        "outputId": "cf18b548-6ec9-45da-cbd3-b18bab40f151"
      },
      "outputs": [
        {
          "data": {
            "image/png": "[encoded data removed]",
            "text/plain": [
              "<Figure size 800x600 with 2 Axes>"
            ]
          },
          "metadata": {},
          "output_type": "display_data"
        }
      ],
      "source": [
        "display_confusion_matrix(y_true, y_preds, labels=[0, 1])"
      ]
    },
    {
      "cell_type": "code",
      "execution_count": null,
      "metadata": {
        "colab": {
          "base_uri": "https://localhost:8080/"
        },
        "id": "TW_hOQ27hJbk",
        "outputId": "12ba1b58-b12a-4f10-f808-a16b8f119c10"
      },
      "outputs": [
        {
          "data": {
            "text/plain": [
              "torch.Size([16, 3, 300, 300])"
            ]
          },
          "execution_count": 47,
          "metadata": {},
          "output_type": "execute_result"
        }
      ],
      "source": [
        "sample = next(iter(test_loader))\n",
        "img = sample[0]\n",
        "img.shape"
      ]
    },
    {
      "cell_type": "code",
      "execution_count": null,
      "metadata": {
        "id": "vhtmSvtMi424"
      },
      "outputs": [],
      "source": []
    },
    {
      "cell_type": "code",
      "execution_count": null,
      "metadata": {
        "id": "X9GbA7fAi449"
      },
      "outputs": [],
      "source": []
    },
    {
      "cell_type": "code",
      "execution_count": null,
      "metadata": {
        "id": "NWRD7qroi467"
      },
      "outputs": [],
      "source": []
    },
    {
      "cell_type": "code",
      "execution_count": null,
      "metadata": {
        "colab": {
          "base_uri": "https://localhost:8080/",
          "height": 453
        },
        "id": "qaEDaaX5iG8_",
        "outputId": "8c92ee35-092b-4e98-a601-ad285184a33a"
      },
      "outputs": [
        {
          "data": {
            "text/plain": [
              "<matplotlib.image.AxesImage at 0x786d5ae04b20>"
            ]
          },
          "execution_count": 48,
          "metadata": {},
          "output_type": "execute_result"
        },
        {
          "data": {
            "image/png": "[encoded data removed]",
            "text/plain": [
              "<Figure size 640x480 with 1 Axes>"
            ]
          },
          "metadata": {},
          "output_type": "display_data"
        }
      ],
      "source": [
        "plt.imshow(img[0].transpose(0,2))"
      ]
    },
    {
      "cell_type": "code",
      "execution_count": null,
      "metadata": {
        "id": "tHJLr7WejxqX"
      },
      "outputs": [],
      "source": []
    },
    {
      "cell_type": "markdown",
      "metadata": {
        "id": "4e7t_xdm7GF3"
      },
      "source": [
        "## look at preds"
      ]
    },
    {
      "cell_type": "code",
      "execution_count": 39,
      "metadata": {
        "colab": {
          "base_uri": "https://localhost:8080/"
        },
        "id": "uETcovGI7HuE",
        "outputId": "6ca9bbb5-c33e-4c58-9c27-92d46efdb5d7"
      },
      "outputs": [
        {
          "data": {
            "text/plain": [
              "tensor([12.4997,  0.0000,  0.0000,  5.3500,  0.0000,  1.6686, 17.4186, 13.8614,\n",
              "         0.0000,  0.0000,  0.0000, 16.3639,  0.0000,  1.6686,  0.0000,  4.6778])"
            ]
          },
          "execution_count": 39,
          "metadata": {},
          "output_type": "execute_result"
        }
      ],
      "source": [
        "c = 0\n",
        "for sample in iter(test_loader):\n",
        "  if c == 1:\n",
        "    break\n",
        "  c += 1\n",
        "\n",
        "sample[1]"
      ]
    },
    {
      "cell_type": "code",
      "execution_count": 40,
      "metadata": {
        "colab": {
          "base_uri": "https://localhost:8080/"
        },
        "collapsed": true,
        "id": "JD05JBg57SXr",
        "outputId": "1b9ee51c-d4aa-4afa-c4df-825f9c3294f9"
      },
      "outputs": [
        {
          "data": {
            "text/plain": [
              "tensor([[[[132., 132., 132.,  ..., 100., 100., 100.],\n",
              "          [131., 132., 132.,  ..., 101., 101., 100.],\n",
              "          [131., 132., 132.,  ..., 100., 101.,  99.],\n",
              "          ...,\n",
              "          [ 92.,  93.,  93.,  ...,  59.,  54.,  48.],\n",
              "          [ 92.,  92.,  93.,  ...,  59.,  54.,  49.],\n",
              "          [ 93.,  93.,  93.,  ...,  64.,  62.,  60.]],\n",
              "\n",
              "         [[146., 147., 147.,  ..., 100.,  98.,  96.],\n",
              "          [146., 147., 147.,  ..., 100.,  99.,  97.],\n",
              "          [147., 148., 148.,  ..., 101.,  99.,  98.],\n",
              "          ...,\n",
              "          [ 98.,  99., 100.,  ...,  52.,  48.,  43.],\n",
              "          [ 99.,  99.,  99.,  ...,  52.,  47.,  44.],\n",
              "          [ 99., 100., 100.,  ...,  58.,  56.,  56.]],\n",
              "\n",
              "         [[129., 129., 130.,  ...,  78.,  76.,  74.],\n",
              "          [129., 129., 130.,  ...,  78.,  77.,  75.],\n",
              "          [129., 130., 130.,  ...,  79.,  77.,  75.],\n",
              "          ...,\n",
              "          [ 83.,  84.,  84.,  ...,  39.,  39.,  38.],\n",
              "          [ 83.,  84.,  84.,  ...,  37.,  36.,  38.],\n",
              "          [ 84.,  84.,  85.,  ...,  40.,  43.,  47.]]],\n",
              "\n",
              "\n",
              "        [[[ 69.,  62.,  57.,  ..., 126., 125., 126.],\n",
              "          [ 62.,  61.,  56.,  ..., 124., 123., 124.],\n",
              "          [ 60.,  59.,  55.,  ..., 124., 124., 124.],\n",
              "          ...,\n",
              "          [ 46.,  43.,  43.,  ..., 109., 110., 110.],\n",
              "          [ 47.,  45.,  44.,  ..., 109., 109., 111.],\n",
              "          [ 46.,  46.,  44.,  ..., 108., 109., 110.]],\n",
              "\n",
              "         [[ 38.,  31.,  25.,  ...,  91.,  90.,  90.],\n",
              "          [ 32.,  31.,  26.,  ...,  89.,  88.,  88.],\n",
              "          [ 32.,  30.,  26.,  ...,  88.,  88.,  87.],\n",
              "          ...,\n",
              "          [ 21.,  19.,  20.,  ...,  78.,  79.,  79.],\n",
              "          [ 22.,  21.,  19.,  ...,  77.,  77.,  79.],\n",
              "          [ 21.,  21.,  19.,  ...,  76.,  77.,  79.]],\n",
              "\n",
              "         [[ 49.,  43.,  40.,  ...,  96.,  95.,  96.],\n",
              "          [ 43.,  44.,  41.,  ...,  95.,  94.,  94.],\n",
              "          [ 43.,  43.,  40.,  ...,  95.,  95.,  94.],\n",
              "          ...,\n",
              "          [ 25.,  26.,  27.,  ...,  74.,  76.,  76.],\n",
              "          [ 27.,  27.,  27.,  ...,  72.,  73.,  75.],\n",
              "          [ 26.,  28.,  27.,  ...,  71.,  72.,  74.]]],\n",
              "\n",
              "\n",
              "        [[[ 35.,  35.,  34.,  ...,  21.,  21.,  28.],\n",
              "          [ 34.,  35.,  36.,  ...,  22.,  24.,  29.],\n",
              "          [ 32.,  35.,  37.,  ...,  23.,  27.,  31.],\n",
              "          ...,\n",
              "          [ 49.,  50.,  49.,  ...,  51.,  62.,  68.],\n",
              "          [ 49.,  49.,  49.,  ...,  49.,  60.,  68.],\n",
              "          [ 49.,  49.,  49.,  ...,  48.,  58.,  68.]],\n",
              "\n",
              "         [[ 21.,  21.,  20.,  ...,  15.,  15.,  22.],\n",
              "          [ 20.,  20.,  21.,  ...,  16.,  19.,  24.],\n",
              "          [ 19.,  20.,  22.,  ...,  18.,  22.,  26.],\n",
              "          ...,\n",
              "          [ 42.,  42.,  42.,  ...,  45.,  56.,  61.],\n",
              "          [ 42.,  42.,  42.,  ...,  43.,  54.,  60.],\n",
              "          [ 42.,  41.,  41.,  ...,  41.,  51.,  60.]],\n",
              "\n",
              "         [[ 29.,  28.,  27.,  ...,  21.,  22.,  29.],\n",
              "          [ 27.,  27.,  28.,  ...,  21.,  24.,  29.],\n",
              "          [ 25.,  27.,  29.,  ...,  21.,  25.,  29.],\n",
              "          ...,\n",
              "          [ 39.,  39.,  39.,  ...,  47.,  57.,  60.],\n",
              "          [ 39.,  39.,  39.,  ...,  44.,  54.,  60.],\n",
              "          [ 40.,  39.,  39.,  ...,  43.,  52.,  60.]]],\n",
              "\n",
              "\n",
              "        ...,\n",
              "\n",
              "\n",
              "        [[[ 56.,  56.,  55.,  ...,  65.,  65.,  64.],\n",
              "          [ 55.,  56.,  56.,  ...,  65.,  65.,  65.],\n",
              "          [ 55.,  55.,  55.,  ...,  66.,  66.,  66.],\n",
              "          ...,\n",
              "          [ 33.,  35.,  36.,  ...,  25.,  19.,  17.],\n",
              "          [ 33.,  35.,  36.,  ...,  26.,  19.,  16.],\n",
              "          [ 38.,  37.,  36.,  ...,  26.,  19.,  16.]],\n",
              "\n",
              "         [[ 51.,  51.,  50.,  ...,  70.,  70.,  69.],\n",
              "          [ 50.,  51.,  51.,  ...,  70.,  70.,  70.],\n",
              "          [ 49.,  50.,  50.,  ...,  70.,  70.,  71.],\n",
              "          ...,\n",
              "          [ 26.,  26.,  26.,  ...,  22.,  15.,  12.],\n",
              "          [ 25.,  26.,  26.,  ...,  24.,  16.,  12.],\n",
              "          [ 28.,  27.,  25.,  ...,  23.,  15.,  12.]],\n",
              "\n",
              "         [[ 47.,  46.,  46.,  ...,  77.,  77.,  77.],\n",
              "          [ 47.,  47.,  46.,  ...,  78.,  78.,  78.],\n",
              "          [ 47.,  47.,  47.,  ...,  79.,  79.,  79.],\n",
              "          ...,\n",
              "          [ 35.,  35.,  36.,  ...,  25.,  20.,  19.],\n",
              "          [ 35.,  36.,  36.,  ...,  26.,  20.,  18.],\n",
              "          [ 40.,  39.,  38.,  ...,  26.,  20.,  18.]]],\n",
              "\n",
              "\n",
              "        [[[ 45.,  50.,  51.,  ...,  60.,  59.,  59.],\n",
              "          [ 43.,  49.,  52.,  ...,  61.,  60.,  60.],\n",
              "          [ 43.,  47.,  51.,  ...,  60.,  60.,  60.],\n",
              "          ...,\n",
              "          [ 65.,  62.,  62.,  ...,  63.,  63.,  63.],\n",
              "          [ 64.,  62.,  63.,  ...,  63.,  63.,  61.],\n",
              "          [ 67.,  64.,  62.,  ...,  64.,  62.,  62.]],\n",
              "\n",
              "         [[ 31.,  36.,  38.,  ...,  66.,  65.,  64.],\n",
              "          [ 30.,  35.,  38.,  ...,  66.,  65.,  65.],\n",
              "          [ 30.,  33.,  37.,  ...,  66.,  65.,  64.],\n",
              "          ...,\n",
              "          [ 59.,  56.,  56.,  ...,  70.,  70.,  69.],\n",
              "          [ 57.,  56.,  57.,  ...,  70.,  70.,  68.],\n",
              "          [ 60.,  58.,  56.,  ...,  71.,  69.,  69.]],\n",
              "\n",
              "         [[ 40.,  44.,  46.,  ...,  73.,  72.,  71.],\n",
              "          [ 40.,  44.,  48.,  ...,  74.,  73.,  71.],\n",
              "          [ 41.,  44.,  48.,  ...,  74.,  73.,  72.],\n",
              "          ...,\n",
              "          [ 61.,  59.,  60.,  ...,  80.,  79.,  77.],\n",
              "          [ 59.,  59.,  60.,  ...,  80.,  78.,  76.],\n",
              "          [ 61.,  61.,  58.,  ...,  79.,  77.,  77.]]],\n",
              "\n",
              "\n",
              "        [[[ 69.,  68.,  68.,  ...,  80.,  80.,  80.],\n",
              "          [ 70.,  69.,  68.,  ...,  79.,  79.,  80.],\n",
              "          [ 71.,  70.,  69.,  ...,  79.,  79.,  80.],\n",
              "          ...,\n",
              "          [ 66.,  67.,  67.,  ...,  38.,  40.,  40.],\n",
              "          [ 67.,  67.,  67.,  ...,  39.,  40.,  40.],\n",
              "          [ 66.,  67.,  67.,  ...,  40.,  41.,  38.]],\n",
              "\n",
              "         [[ 59.,  58.,  58.,  ...,  77.,  77.,  77.],\n",
              "          [ 60.,  59.,  58.,  ...,  76.,  76.,  77.],\n",
              "          [ 60.,  60.,  59.,  ...,  76.,  76.,  77.],\n",
              "          ...,\n",
              "          [ 58.,  59.,  60.,  ...,  27.,  29.,  28.],\n",
              "          [ 59.,  59.,  59.,  ...,  28.,  29.,  27.],\n",
              "          [ 58.,  59.,  59.,  ...,  28.,  28.,  25.]],\n",
              "\n",
              "         [[ 51.,  51.,  51.,  ...,  69.,  69.,  69.],\n",
              "          [ 52.,  52.,  52.,  ...,  68.,  68.,  69.],\n",
              "          [ 52.,  52.,  52.,  ...,  68.,  68.,  69.],\n",
              "          ...,\n",
              "          [ 55.,  56.,  57.,  ...,  33.,  35.,  34.],\n",
              "          [ 57.,  56.,  57.,  ...,  33.,  35.,  34.],\n",
              "          [ 56.,  57.,  57.,  ...,  34.,  35.,  32.]]]], device='cuda:0')"
            ]
          },
          "execution_count": 40,
          "metadata": {},
          "output_type": "execute_result"
        }
      ],
      "source": [
        "inputs = sample[0].to(\"cuda\").float()"
      ]
    },
    {
      "cell_type": "code",
      "execution_count": 41,
      "metadata": {
        "colab": {
          "base_uri": "https://localhost:8080/"
        },
        "id": "FHgeNP4R7amy",
        "outputId": "a711eeae-0c79-4376-b7b8-a70230cf0d36"
      },
      "outputs": [
        {
          "data": {
            "text/plain": [
              "tensor([14.6898, 10.0316,  0.8977,  8.8999,  8.5073,  3.6284, 10.1315,  6.4235,\n",
              "         3.2961,  0.6410, 10.1536,  8.6143,  0.1149,  2.7523,  0.7298,  2.8681],\n",
              "       device='cuda:0', grad_fn=<SqueezeBackward1>)"
            ]
          },
          "execution_count": 41,
          "metadata": {},
          "output_type": "execute_result"
        }
      ],
      "source": [
        "out = trainer.model(inputs).squeeze(-1)\n",
        "out"
      ]
    },
    {
      "cell_type": "code",
      "execution_count": null,
      "metadata": {
        "id": "2n3rqB9L89Fg"
      },
      "outputs": [],
      "source": []
    },
    {
      "cell_type": "code",
      "execution_count": 33,
      "metadata": {
        "colab": {
          "base_uri": "https://localhost:8080/"
        },
        "id": "WWew1Yul7t_V",
        "outputId": "76140621-40bf-4085-de76-9e8f2baa5e6a"
      },
      "outputs": [
        {
          "data": {
            "text/plain": [
              "tensor([ 9.4881,  9.6714,  0.0000,  0.0000,  0.0000, 18.4975, 11.4914,  0.0000,\n",
              "         0.0000,  0.0000,  0.0000,  0.0000,  0.0000,  0.0000, 24.9822,  0.0000])"
            ]
          },
          "execution_count": 33,
          "metadata": {},
          "output_type": "execute_result"
        }
      ],
      "source": [
        "target = sample[1]\n",
        "target"
      ]
    },
    {
      "cell_type": "code",
      "execution_count": 36,
      "metadata": {
        "colab": {
          "base_uri": "https://localhost:8080/"
        },
        "id": "8f0dfLuE75zM",
        "outputId": "aaccd37a-3a60-4089-be6e-ad5d5a800c13"
      },
      "outputs": [
        {
          "data": {
            "text/plain": [
              "tensor([ 9.7362,  8.6842,  8.5394,  0.8274,  0.5673, 11.5302, 14.7245,  4.2393,\n",
              "         0.2725,  1.9328,  2.4984,  1.0597,  2.6646,  0.6006, 11.0220,  0.9245],\n",
              "       device='cuda:0', grad_fn=<SqueezeBackward1>)"
            ]
          },
          "execution_count": 36,
          "metadata": {},
          "output_type": "execute_result"
        }
      ],
      "source": [
        "out = out.squeeze(-1)\n",
        "out"
      ]
    }
  ],
  "metadata": {
    "accelerator": "GPU",
    "colab": {
      "collapsed_sections": [
        "wEqAY5Z9yjdX",
        "cDiKlWaFyg3v",
        "pNNdpevHnZFG",
        "-bCPcqNWwr1x"
      ],
      "gpuType": "T4",
      "provenance": []
    },
    "kernelspec": {
      "display_name": "Python 3",
      "name": "python3"
    },
    "language_info": {
      "name": "python"
    },
    "widgets": {
      "application/vnd.jupyter.widget-state+json": {
        "08f5dd902166489da9f6f53a3a7e7998": {
          "model_module": "@jupyter-widgets/base",
          "model_module_version": "1.2.0",
          "model_name": "LayoutModel",
          "state": {
            "_model_module": "@jupyter-widgets/base",
            "_model_module_version": "1.2.0",
            "_model_name": "LayoutModel",
            "_view_count": null,
            "_view_module": "@jupyter-widgets/base",
            "_view_module_version": "1.2.0",
            "_view_name": "LayoutView",
            "align_content": null,
            "align_items": null,
            "align_self": null,
            "border": null,
            "bottom": null,
            "display": null,
            "flex": null,
            "flex_flow": null,
            "grid_area": null,
            "grid_auto_columns": null,
            "grid_auto_flow": null,
            "grid_auto_rows": null,
            "grid_column": null,
            "grid_gap": null,
            "grid_row": null,
            "grid_template_areas": null,
            "grid_template_columns": null,
            "grid_template_rows": null,
            "height": null,
            "justify_content": null,
            "justify_items": null,
            "left": null,
            "margin": null,
            "max_height": null,
            "max_width": null,
            "min_height": null,
            "min_width": null,
            "object_fit": null,
            "object_position": null,
            "order": null,
            "overflow": null,
            "overflow_x": null,
            "overflow_y": null,
            "padding": null,
            "right": null,
            "top": null,
            "visibility": null,
            "width": null
          }
        },
        "0e5b02b940e24f828a012fad2eabc416": {
          "model_module": "@jupyter-widgets/controls",
          "model_module_version": "1.5.0",
          "model_name": "DescriptionStyleModel",
          "state": {
            "_model_module": "@jupyter-widgets/controls",
            "_model_module_version": "1.5.0",
            "_model_name": "DescriptionStyleModel",
            "_view_count": null,
            "_view_module": "@jupyter-widgets/base",
            "_view_module_version": "1.2.0",
            "_view_name": "StyleView",
            "description_width": ""
          }
        },
        "0f569a01e4d44549beafbcd0819139c4": {
          "model_module": "@jupyter-widgets/base",
          "model_module_version": "1.2.0",
          "model_name": "LayoutModel",
          "state": {
            "_model_module": "@jupyter-widgets/base",
            "_model_module_version": "1.2.0",
            "_model_name": "LayoutModel",
            "_view_count": null,
            "_view_module": "@jupyter-widgets/base",
            "_view_module_version": "1.2.0",
            "_view_name": "LayoutView",
            "align_content": null,
            "align_items": null,
            "align_self": null,
            "border": null,
            "bottom": null,
            "display": null,
            "flex": null,
            "flex_flow": null,
            "grid_area": null,
            "grid_auto_columns": null,
            "grid_auto_flow": null,
            "grid_auto_rows": null,
            "grid_column": null,
            "grid_gap": null,
            "grid_row": null,
            "grid_template_areas": null,
            "grid_template_columns": null,
            "grid_template_rows": null,
            "height": null,
            "justify_content": null,
            "justify_items": null,
            "left": null,
            "margin": null,
            "max_height": null,
            "max_width": null,
            "min_height": null,
            "min_width": null,
            "object_fit": null,
            "object_position": null,
            "order": null,
            "overflow": null,
            "overflow_x": null,
            "overflow_y": null,
            "padding": null,
            "right": null,
            "top": null,
            "visibility": null,
            "width": null
          }
        },
        "13e2e01166d243e892aee7d2515f25c8": {
          "model_module": "@jupyter-widgets/base",
          "model_module_version": "1.2.0",
          "model_name": "LayoutModel",
          "state": {
            "_model_module": "@jupyter-widgets/base",
            "_model_module_version": "1.2.0",
            "_model_name": "LayoutModel",
            "_view_count": null,
            "_view_module": "@jupyter-widgets/base",
            "_view_module_version": "1.2.0",
            "_view_name": "LayoutView",
            "align_content": null,
            "align_items": null,
            "align_self": null,
            "border": null,
            "bottom": null,
            "display": null,
            "flex": null,
            "flex_flow": null,
            "grid_area": null,
            "grid_auto_columns": null,
            "grid_auto_flow": null,
            "grid_auto_rows": null,
            "grid_column": null,
            "grid_gap": null,
            "grid_row": null,
            "grid_template_areas": null,
            "grid_template_columns": null,
            "grid_template_rows": null,
            "height": null,
            "justify_content": null,
            "justify_items": null,
            "left": null,
            "margin": null,
            "max_height": null,
            "max_width": null,
            "min_height": null,
            "min_width": null,
            "object_fit": null,
            "object_position": null,
            "order": null,
            "overflow": null,
            "overflow_x": null,
            "overflow_y": null,
            "padding": null,
            "right": null,
            "top": null,
            "visibility": null,
            "width": null
          }
        },
        "15a14549049b472d9914f0b50f96c960": {
          "model_module": "@jupyter-widgets/controls",
          "model_module_version": "1.5.0",
          "model_name": "HBoxModel",
          "state": {
            "_dom_classes": [],
            "_model_module": "@jupyter-widgets/controls",
            "_model_module_version": "1.5.0",
            "_model_name": "HBoxModel",
            "_view_count": null,
            "_view_module": "@jupyter-widgets/controls",
            "_view_module_version": "1.5.0",
            "_view_name": "HBoxView",
            "box_style": "",
            "children": [
              "IPY_MODEL_497fb82eba48467b94608eb338ee2ad8",
              "IPY_MODEL_c206f3dc42d54352a0f85e8c8addf489",
              "IPY_MODEL_b4ae08ea90c84eafb0bd6b78541dac88"
            ],
            "layout": "IPY_MODEL_df4fd94e0dc74b96a2676033e7905d95"
          }
        },
        "15d30f610e324f8f97050c2493cd81ef": {
          "model_module": "@jupyter-widgets/base",
          "model_module_version": "1.2.0",
          "model_name": "LayoutModel",
          "state": {
            "_model_module": "@jupyter-widgets/base",
            "_model_module_version": "1.2.0",
            "_model_name": "LayoutModel",
            "_view_count": null,
            "_view_module": "@jupyter-widgets/base",
            "_view_module_version": "1.2.0",
            "_view_name": "LayoutView",
            "align_content": null,
            "align_items": null,
            "align_self": null,
            "border": null,
            "bottom": null,
            "display": null,
            "flex": null,
            "flex_flow": null,
            "grid_area": null,
            "grid_auto_columns": null,
            "grid_auto_flow": null,
            "grid_auto_rows": null,
            "grid_column": null,
            "grid_gap": null,
            "grid_row": null,
            "grid_template_areas": null,
            "grid_template_columns": null,
            "grid_template_rows": null,
            "height": null,
            "justify_content": null,
            "justify_items": null,
            "left": null,
            "margin": null,
            "max_height": null,
            "max_width": null,
            "min_height": null,
            "min_width": null,
            "object_fit": null,
            "object_position": null,
            "order": null,
            "overflow": null,
            "overflow_x": null,
            "overflow_y": null,
            "padding": null,
            "right": null,
            "top": null,
            "visibility": null,
            "width": null
          }
        },
        "1672c47004054eaab80ddcb4c46cdc12": {
          "model_module": "@jupyter-widgets/base",
          "model_module_version": "1.2.0",
          "model_name": "LayoutModel",
          "state": {
            "_model_module": "@jupyter-widgets/base",
            "_model_module_version": "1.2.0",
            "_model_name": "LayoutModel",
            "_view_count": null,
            "_view_module": "@jupyter-widgets/base",
            "_view_module_version": "1.2.0",
            "_view_name": "LayoutView",
            "align_content": null,
            "align_items": null,
            "align_self": null,
            "border": null,
            "bottom": null,
            "display": null,
            "flex": null,
            "flex_flow": null,
            "grid_area": null,
            "grid_auto_columns": null,
            "grid_auto_flow": null,
            "grid_auto_rows": null,
            "grid_column": null,
            "grid_gap": null,
            "grid_row": null,
            "grid_template_areas": null,
            "grid_template_columns": null,
            "grid_template_rows": null,
            "height": null,
            "justify_content": null,
            "justify_items": null,
            "left": null,
            "margin": null,
            "max_height": null,
            "max_width": null,
            "min_height": null,
            "min_width": null,
            "object_fit": null,
            "object_position": null,
            "order": null,
            "overflow": null,
            "overflow_x": null,
            "overflow_y": null,
            "padding": null,
            "right": null,
            "top": null,
            "visibility": null,
            "width": null
          }
        },
        "1713c918f55049998d2947df2a477fab": {
          "model_module": "@jupyter-widgets/base",
          "model_module_version": "1.2.0",
          "model_name": "LayoutModel",
          "state": {
            "_model_module": "@jupyter-widgets/base",
            "_model_module_version": "1.2.0",
            "_model_name": "LayoutModel",
            "_view_count": null,
            "_view_module": "@jupyter-widgets/base",
            "_view_module_version": "1.2.0",
            "_view_name": "LayoutView",
            "align_content": null,
            "align_items": null,
            "align_self": null,
            "border": null,
            "bottom": null,
            "display": null,
            "flex": null,
            "flex_flow": null,
            "grid_area": null,
            "grid_auto_columns": null,
            "grid_auto_flow": null,
            "grid_auto_rows": null,
            "grid_column": null,
            "grid_gap": null,
            "grid_row": null,
            "grid_template_areas": null,
            "grid_template_columns": null,
            "grid_template_rows": null,
            "height": null,
            "justify_content": null,
            "justify_items": null,
            "left": null,
            "margin": null,
            "max_height": null,
            "max_width": null,
            "min_height": null,
            "min_width": null,
            "object_fit": null,
            "object_position": null,
            "order": null,
            "overflow": null,
            "overflow_x": null,
            "overflow_y": null,
            "padding": null,
            "right": null,
            "top": null,
            "visibility": null,
            "width": null
          }
        },
        "1cf55da003654a9c96277acd5b6baa61": {
          "model_module": "@jupyter-widgets/controls",
          "model_module_version": "1.5.0",
          "model_name": "DescriptionStyleModel",
          "state": {
            "_model_module": "@jupyter-widgets/controls",
            "_model_module_version": "1.5.0",
            "_model_name": "DescriptionStyleModel",
            "_view_count": null,
            "_view_module": "@jupyter-widgets/base",
            "_view_module_version": "1.2.0",
            "_view_name": "StyleView",
            "description_width": ""
          }
        },
        "25c77817af614db896b3c0b1c222ac52": {
          "model_module": "@jupyter-widgets/base",
          "model_module_version": "1.2.0",
          "model_name": "LayoutModel",
          "state": {
            "_model_module": "@jupyter-widgets/base",
            "_model_module_version": "1.2.0",
            "_model_name": "LayoutModel",
            "_view_count": null,
            "_view_module": "@jupyter-widgets/base",
            "_view_module_version": "1.2.0",
            "_view_name": "LayoutView",
            "align_content": null,
            "align_items": null,
            "align_self": null,
            "border": null,
            "bottom": null,
            "display": null,
            "flex": null,
            "flex_flow": null,
            "grid_area": null,
            "grid_auto_columns": null,
            "grid_auto_flow": null,
            "grid_auto_rows": null,
            "grid_column": null,
            "grid_gap": null,
            "grid_row": null,
            "grid_template_areas": null,
            "grid_template_columns": null,
            "grid_template_rows": null,
            "height": null,
            "justify_content": null,
            "justify_items": null,
            "left": null,
            "margin": null,
            "max_height": null,
            "max_width": null,
            "min_height": null,
            "min_width": null,
            "object_fit": null,
            "object_position": null,
            "order": null,
            "overflow": null,
            "overflow_x": null,
            "overflow_y": null,
            "padding": null,
            "right": null,
            "top": null,
            "visibility": null,
            "width": null
          }
        },
        "2a19a78fd87f43be82a0c5eb1f7d336d": {
          "model_module": "@jupyter-widgets/controls",
          "model_module_version": "1.5.0",
          "model_name": "DescriptionStyleModel",
          "state": {
            "_model_module": "@jupyter-widgets/controls",
            "_model_module_version": "1.5.0",
            "_model_name": "DescriptionStyleModel",
            "_view_count": null,
            "_view_module": "@jupyter-widgets/base",
            "_view_module_version": "1.2.0",
            "_view_name": "StyleView",
            "description_width": ""
          }
        },
        "2aeebe3cb6704d18aceae448b8e6a5e4": {
          "model_module": "@jupyter-widgets/controls",
          "model_module_version": "1.5.0",
          "model_name": "ProgressStyleModel",
          "state": {
            "_model_module": "@jupyter-widgets/controls",
            "_model_module_version": "1.5.0",
            "_model_name": "ProgressStyleModel",
            "_view_count": null,
            "_view_module": "@jupyter-widgets/base",
            "_view_module_version": "1.2.0",
            "_view_name": "StyleView",
            "bar_color": null,
            "description_width": ""
          }
        },
        "2deb328156144b6aa4af572844306e5f": {
          "model_module": "@jupyter-widgets/base",
          "model_module_version": "1.2.0",
          "model_name": "LayoutModel",
          "state": {
            "_model_module": "@jupyter-widgets/base",
            "_model_module_version": "1.2.0",
            "_model_name": "LayoutModel",
            "_view_count": null,
            "_view_module": "@jupyter-widgets/base",
            "_view_module_version": "1.2.0",
            "_view_name": "LayoutView",
            "align_content": null,
            "align_items": null,
            "align_self": null,
            "border": null,
            "bottom": null,
            "display": null,
            "flex": null,
            "flex_flow": null,
            "grid_area": null,
            "grid_auto_columns": null,
            "grid_auto_flow": null,
            "grid_auto_rows": null,
            "grid_column": null,
            "grid_gap": null,
            "grid_row": null,
            "grid_template_areas": null,
            "grid_template_columns": null,
            "grid_template_rows": null,
            "height": null,
            "justify_content": null,
            "justify_items": null,
            "left": null,
            "margin": null,
            "max_height": null,
            "max_width": null,
            "min_height": null,
            "min_width": null,
            "object_fit": null,
            "object_position": null,
            "order": null,
            "overflow": null,
            "overflow_x": null,
            "overflow_y": null,
            "padding": null,
            "right": null,
            "top": null,
            "visibility": null,
            "width": null
          }
        },
        "3110bdaf7720454f87aa24f809f03170": {
          "model_module": "@jupyter-widgets/base",
          "model_module_version": "1.2.0",
          "model_name": "LayoutModel",
          "state": {
            "_model_module": "@jupyter-widgets/base",
            "_model_module_version": "1.2.0",
            "_model_name": "LayoutModel",
            "_view_count": null,
            "_view_module": "@jupyter-widgets/base",
            "_view_module_version": "1.2.0",
            "_view_name": "LayoutView",
            "align_content": null,
            "align_items": null,
            "align_self": null,
            "border": null,
            "bottom": null,
            "display": null,
            "flex": null,
            "flex_flow": null,
            "grid_area": null,
            "grid_auto_columns": null,
            "grid_auto_flow": null,
            "grid_auto_rows": null,
            "grid_column": null,
            "grid_gap": null,
            "grid_row": null,
            "grid_template_areas": null,
            "grid_template_columns": null,
            "grid_template_rows": null,
            "height": null,
            "justify_content": null,
            "justify_items": null,
            "left": null,
            "margin": null,
            "max_height": null,
            "max_width": null,
            "min_height": null,
            "min_width": null,
            "object_fit": null,
            "object_position": null,
            "order": null,
            "overflow": null,
            "overflow_x": null,
            "overflow_y": null,
            "padding": null,
            "right": null,
            "top": null,
            "visibility": null,
            "width": null
          }
        },
        "32434952a1054d93b2204d5157edfc15": {
          "model_module": "@jupyter-widgets/base",
          "model_module_version": "1.2.0",
          "model_name": "LayoutModel",
          "state": {
            "_model_module": "@jupyter-widgets/base",
            "_model_module_version": "1.2.0",
            "_model_name": "LayoutModel",
            "_view_count": null,
            "_view_module": "@jupyter-widgets/base",
            "_view_module_version": "1.2.0",
            "_view_name": "LayoutView",
            "align_content": null,
            "align_items": null,
            "align_self": null,
            "border": null,
            "bottom": null,
            "display": null,
            "flex": null,
            "flex_flow": null,
            "grid_area": null,
            "grid_auto_columns": null,
            "grid_auto_flow": null,
            "grid_auto_rows": null,
            "grid_column": null,
            "grid_gap": null,
            "grid_row": null,
            "grid_template_areas": null,
            "grid_template_columns": null,
            "grid_template_rows": null,
            "height": null,
            "justify_content": null,
            "justify_items": null,
            "left": null,
            "margin": null,
            "max_height": null,
            "max_width": null,
            "min_height": null,
            "min_width": null,
            "object_fit": null,
            "object_position": null,
            "order": null,
            "overflow": null,
            "overflow_x": null,
            "overflow_y": null,
            "padding": null,
            "right": null,
            "top": null,
            "visibility": null,
            "width": null
          }
        },
        "366e163dc31447948515359b1393bb38": {
          "model_module": "@jupyter-widgets/controls",
          "model_module_version": "1.5.0",
          "model_name": "HTMLModel",
          "state": {
            "_dom_classes": [],
            "_model_module": "@jupyter-widgets/controls",
            "_model_module_version": "1.5.0",
            "_model_name": "HTMLModel",
            "_view_count": null,
            "_view_module": "@jupyter-widgets/controls",
            "_view_module_version": "1.5.0",
            "_view_name": "HTMLView",
            "description": "",
            "description_tooltip": null,
            "layout": "IPY_MODEL_e5acc96389284cf19c6abadf119209db",
            "placeholder": "​",
            "style": "IPY_MODEL_d6475beb35834773bbf0600ef59ca74d",
            "value": "Downloading (…)no_swinb_cogcoor.pth: 100%"
          }
        },
        "3f899168848d4ae8aa68fcc7fe289229": {
          "model_module": "@jupyter-widgets/controls",
          "model_module_version": "1.5.0",
          "model_name": "DescriptionStyleModel",
          "state": {
            "_model_module": "@jupyter-widgets/controls",
            "_model_module_version": "1.5.0",
            "_model_name": "DescriptionStyleModel",
            "_view_count": null,
            "_view_module": "@jupyter-widgets/base",
            "_view_module_version": "1.2.0",
            "_view_name": "StyleView",
            "description_width": ""
          }
        },
        "4125f306450c4debad65dbf163cc5100": {
          "model_module": "@jupyter-widgets/base",
          "model_module_version": "1.2.0",
          "model_name": "LayoutModel",
          "state": {
            "_model_module": "@jupyter-widgets/base",
            "_model_module_version": "1.2.0",
            "_model_name": "LayoutModel",
            "_view_count": null,
            "_view_module": "@jupyter-widgets/base",
            "_view_module_version": "1.2.0",
            "_view_name": "LayoutView",
            "align_content": null,
            "align_items": null,
            "align_self": null,
            "border": null,
            "bottom": null,
            "display": null,
            "flex": null,
            "flex_flow": null,
            "grid_area": null,
            "grid_auto_columns": null,
            "grid_auto_flow": null,
            "grid_auto_rows": null,
            "grid_column": null,
            "grid_gap": null,
            "grid_row": null,
            "grid_template_areas": null,
            "grid_template_columns": null,
            "grid_template_rows": null,
            "height": null,
            "justify_content": null,
            "justify_items": null,
            "left": null,
            "margin": null,
            "max_height": null,
            "max_width": null,
            "min_height": null,
            "min_width": null,
            "object_fit": null,
            "object_position": null,
            "order": null,
            "overflow": null,
            "overflow_x": null,
            "overflow_y": null,
            "padding": null,
            "right": null,
            "top": null,
            "visibility": null,
            "width": null
          }
        },
        "497fb82eba48467b94608eb338ee2ad8": {
          "model_module": "@jupyter-widgets/controls",
          "model_module_version": "1.5.0",
          "model_name": "HTMLModel",
          "state": {
            "_dom_classes": [],
            "_model_module": "@jupyter-widgets/controls",
            "_model_module_version": "1.5.0",
            "_model_name": "HTMLModel",
            "_view_count": null,
            "_view_module": "@jupyter-widgets/controls",
            "_view_module_version": "1.5.0",
            "_view_name": "HTMLView",
            "description": "",
            "description_tooltip": null,
            "layout": "IPY_MODEL_13e2e01166d243e892aee7d2515f25c8",
            "placeholder": "​",
            "style": "IPY_MODEL_2a19a78fd87f43be82a0c5eb1f7d336d",
            "value": "Downloading config.json: 100%"
          }
        },
        "4d75e6eade6240fda9afd48af56feb97": {
          "model_module": "@jupyter-widgets/base",
          "model_module_version": "1.2.0",
          "model_name": "LayoutModel",
          "state": {
            "_model_module": "@jupyter-widgets/base",
            "_model_module_version": "1.2.0",
            "_model_name": "LayoutModel",
            "_view_count": null,
            "_view_module": "@jupyter-widgets/base",
            "_view_module_version": "1.2.0",
            "_view_name": "LayoutView",
            "align_content": null,
            "align_items": null,
            "align_self": null,
            "border": null,
            "bottom": null,
            "display": null,
            "flex": null,
            "flex_flow": null,
            "grid_area": null,
            "grid_auto_columns": null,
            "grid_auto_flow": null,
            "grid_auto_rows": null,
            "grid_column": null,
            "grid_gap": null,
            "grid_row": null,
            "grid_template_areas": null,
            "grid_template_columns": null,
            "grid_template_rows": null,
            "height": null,
            "justify_content": null,
            "justify_items": null,
            "left": null,
            "margin": null,
            "max_height": null,
            "max_width": null,
            "min_height": null,
            "min_width": null,
            "object_fit": null,
            "object_position": null,
            "order": null,
            "overflow": null,
            "overflow_x": null,
            "overflow_y": null,
            "padding": null,
            "right": null,
            "top": null,
            "visibility": null,
            "width": null
          }
        },
        "5099bd9dadc04cc9be3777f85980b8d6": {
          "model_module": "@jupyter-widgets/controls",
          "model_module_version": "1.5.0",
          "model_name": "FloatProgressModel",
          "state": {
            "_dom_classes": [],
            "_model_module": "@jupyter-widgets/controls",
            "_model_module_version": "1.5.0",
            "_model_name": "FloatProgressModel",
            "_view_count": null,
            "_view_module": "@jupyter-widgets/controls",
            "_view_module_version": "1.5.0",
            "_view_name": "ProgressView",
            "bar_style": "success",
            "description": "",
            "description_tooltip": null,
            "layout": "IPY_MODEL_744baef762154d4abe2ac07a4c9c45bc",
            "max": 231508,
            "min": 0,
            "orientation": "horizontal",
            "style": "IPY_MODEL_91699b8046d24f6eae4d0aaaf79f3fcd",
            "value": 231508
          }
        },
        "50d91b4f919346189911b19315d1fe42": {
          "model_module": "@jupyter-widgets/controls",
          "model_module_version": "1.5.0",
          "model_name": "LabelModel",
          "state": {
            "_dom_classes": [],
            "_model_module": "@jupyter-widgets/controls",
            "_model_module_version": "1.5.0",
            "_model_name": "LabelModel",
            "_view_count": null,
            "_view_module": "@jupyter-widgets/controls",
            "_view_module_version": "1.5.0",
            "_view_name": "LabelView",
            "description": "",
            "description_tooltip": null,
            "layout": "IPY_MODEL_25c77817af614db896b3c0b1c222ac52",
            "placeholder": "​",
            "style": "IPY_MODEL_7d0c10923b61488d8e6c7d649523c0d7",
            "value": "0.014 MB of 0.014 MB uploaded\r"
          }
        },
        "5494d740190f410da26d73319ded1141": {
          "model_module": "@jupyter-widgets/controls",
          "model_module_version": "1.5.0",
          "model_name": "ProgressStyleModel",
          "state": {
            "_model_module": "@jupyter-widgets/controls",
            "_model_module_version": "1.5.0",
            "_model_name": "ProgressStyleModel",
            "_view_count": null,
            "_view_module": "@jupyter-widgets/base",
            "_view_module_version": "1.2.0",
            "_view_name": "StyleView",
            "bar_color": null,
            "description_width": ""
          }
        },
        "56c0df414d69485d9eb79042e622e29e": {
          "model_module": "@jupyter-widgets/controls",
          "model_module_version": "1.5.0",
          "model_name": "ProgressStyleModel",
          "state": {
            "_model_module": "@jupyter-widgets/controls",
            "_model_module_version": "1.5.0",
            "_model_name": "ProgressStyleModel",
            "_view_count": null,
            "_view_module": "@jupyter-widgets/base",
            "_view_module_version": "1.2.0",
            "_view_name": "StyleView",
            "bar_color": null,
            "description_width": ""
          }
        },
        "56d9cc117db845348061c5a96dba1079": {
          "model_module": "@jupyter-widgets/controls",
          "model_module_version": "1.5.0",
          "model_name": "FloatProgressModel",
          "state": {
            "_dom_classes": [],
            "_model_module": "@jupyter-widgets/controls",
            "_model_module_version": "1.5.0",
            "_model_name": "FloatProgressModel",
            "_view_count": null,
            "_view_module": "@jupyter-widgets/controls",
            "_view_module_version": "1.5.0",
            "_view_name": "ProgressView",
            "bar_style": "success",
            "description": "",
            "description_tooltip": null,
            "layout": "IPY_MODEL_b564dc5293084445b5e29af16ddbfa41",
            "max": 466062,
            "min": 0,
            "orientation": "horizontal",
            "style": "IPY_MODEL_a9fd82db72f54eddb3f69cc317817a33",
            "value": 466062
          }
        },
        "5e15ff47a8a84348a44108bafbfcf4bf": {
          "model_module": "@jupyter-widgets/controls",
          "model_module_version": "1.5.0",
          "model_name": "DescriptionStyleModel",
          "state": {
            "_model_module": "@jupyter-widgets/controls",
            "_model_module_version": "1.5.0",
            "_model_name": "DescriptionStyleModel",
            "_view_count": null,
            "_view_module": "@jupyter-widgets/base",
            "_view_module_version": "1.2.0",
            "_view_name": "StyleView",
            "description_width": ""
          }
        },
        "5ec9a3ecba0a49f699f93c46aefea107": {
          "model_module": "@jupyter-widgets/base",
          "model_module_version": "1.2.0",
          "model_name": "LayoutModel",
          "state": {
            "_model_module": "@jupyter-widgets/base",
            "_model_module_version": "1.2.0",
            "_model_name": "LayoutModel",
            "_view_count": null,
            "_view_module": "@jupyter-widgets/base",
            "_view_module_version": "1.2.0",
            "_view_name": "LayoutView",
            "align_content": null,
            "align_items": null,
            "align_self": null,
            "border": null,
            "bottom": null,
            "display": null,
            "flex": null,
            "flex_flow": null,
            "grid_area": null,
            "grid_auto_columns": null,
            "grid_auto_flow": null,
            "grid_auto_rows": null,
            "grid_column": null,
            "grid_gap": null,
            "grid_row": null,
            "grid_template_areas": null,
            "grid_template_columns": null,
            "grid_template_rows": null,
            "height": null,
            "justify_content": null,
            "justify_items": null,
            "left": null,
            "margin": null,
            "max_height": null,
            "max_width": null,
            "min_height": null,
            "min_width": null,
            "object_fit": null,
            "object_position": null,
            "order": null,
            "overflow": null,
            "overflow_x": null,
            "overflow_y": null,
            "padding": null,
            "right": null,
            "top": null,
            "visibility": null,
            "width": null
          }
        },
        "61a027088c2b445c8d0e37258defc6fd": {
          "model_module": "@jupyter-widgets/base",
          "model_module_version": "1.2.0",
          "model_name": "LayoutModel",
          "state": {
            "_model_module": "@jupyter-widgets/base",
            "_model_module_version": "1.2.0",
            "_model_name": "LayoutModel",
            "_view_count": null,
            "_view_module": "@jupyter-widgets/base",
            "_view_module_version": "1.2.0",
            "_view_name": "LayoutView",
            "align_content": null,
            "align_items": null,
            "align_self": null,
            "border": null,
            "bottom": null,
            "display": null,
            "flex": null,
            "flex_flow": null,
            "grid_area": null,
            "grid_auto_columns": null,
            "grid_auto_flow": null,
            "grid_auto_rows": null,
            "grid_column": null,
            "grid_gap": null,
            "grid_row": null,
            "grid_template_areas": null,
            "grid_template_columns": null,
            "grid_template_rows": null,
            "height": null,
            "justify_content": null,
            "justify_items": null,
            "left": null,
            "margin": null,
            "max_height": null,
            "max_width": null,
            "min_height": null,
            "min_width": null,
            "object_fit": null,
            "object_position": null,
            "order": null,
            "overflow": null,
            "overflow_x": null,
            "overflow_y": null,
            "padding": null,
            "right": null,
            "top": null,
            "visibility": null,
            "width": null
          }
        },
        "62b4278f39f54eb3a1e042ee465ae1a1": {
          "model_module": "@jupyter-widgets/controls",
          "model_module_version": "1.5.0",
          "model_name": "HTMLModel",
          "state": {
            "_dom_classes": [],
            "_model_module": "@jupyter-widgets/controls",
            "_model_module_version": "1.5.0",
            "_model_name": "HTMLModel",
            "_view_count": null,
            "_view_module": "@jupyter-widgets/controls",
            "_view_module_version": "1.5.0",
            "_view_name": "HTMLView",
            "description": "",
            "description_tooltip": null,
            "layout": "IPY_MODEL_4125f306450c4debad65dbf163cc5100",
            "placeholder": "​",
            "style": "IPY_MODEL_bc10b10c91e841d789ca22e5d2b8355d",
            "value": "Downloading model.safetensors: 100%"
          }
        },
        "686bb7bdff51418ba6e5f3e6ba9d7621": {
          "model_module": "@jupyter-widgets/controls",
          "model_module_version": "1.5.0",
          "model_name": "ProgressStyleModel",
          "state": {
            "_model_module": "@jupyter-widgets/controls",
            "_model_module_version": "1.5.0",
            "_model_name": "ProgressStyleModel",
            "_view_count": null,
            "_view_module": "@jupyter-widgets/base",
            "_view_module_version": "1.2.0",
            "_view_name": "StyleView",
            "bar_color": null,
            "description_width": ""
          }
        },
        "6beff9146bf646ccbce842bfae09b88f": {
          "model_module": "@jupyter-widgets/controls",
          "model_module_version": "1.5.0",
          "model_name": "FloatProgressModel",
          "state": {
            "_dom_classes": [],
            "_model_module": "@jupyter-widgets/controls",
            "_model_module_version": "1.5.0",
            "_model_name": "FloatProgressModel",
            "_view_count": null,
            "_view_module": "@jupyter-widgets/controls",
            "_view_module_version": "1.5.0",
            "_view_name": "ProgressView",
            "bar_style": "success",
            "description": "",
            "description_tooltip": null,
            "layout": "IPY_MODEL_89bab6c56c18438281781b5d9cda98e8",
            "max": 48,
            "min": 0,
            "orientation": "horizontal",
            "style": "IPY_MODEL_56c0df414d69485d9eb79042e622e29e",
            "value": 48
          }
        },
        "7369a874be6b4ad4977fdddedf51b897": {
          "model_module": "@jupyter-widgets/controls",
          "model_module_version": "1.5.0",
          "model_name": "HTMLModel",
          "state": {
            "_dom_classes": [],
            "_model_module": "@jupyter-widgets/controls",
            "_model_module_version": "1.5.0",
            "_model_name": "HTMLModel",
            "_view_count": null,
            "_view_module": "@jupyter-widgets/controls",
            "_view_module_version": "1.5.0",
            "_view_name": "HTMLView",
            "description": "",
            "description_tooltip": null,
            "layout": "IPY_MODEL_1713c918f55049998d2947df2a477fab",
            "placeholder": "​",
            "style": "IPY_MODEL_e2012a2f6c8045a18d53ee6e9ec51e4a",
            "value": " 232k/232k [00:00&lt;00:00, 4.03MB/s]"
          }
        },
        "744baef762154d4abe2ac07a4c9c45bc": {
          "model_module": "@jupyter-widgets/base",
          "model_module_version": "1.2.0",
          "model_name": "LayoutModel",
          "state": {
            "_model_module": "@jupyter-widgets/base",
            "_model_module_version": "1.2.0",
            "_model_name": "LayoutModel",
            "_view_count": null,
            "_view_module": "@jupyter-widgets/base",
            "_view_module_version": "1.2.0",
            "_view_name": "LayoutView",
            "align_content": null,
            "align_items": null,
            "align_self": null,
            "border": null,
            "bottom": null,
            "display": null,
            "flex": null,
            "flex_flow": null,
            "grid_area": null,
            "grid_auto_columns": null,
            "grid_auto_flow": null,
            "grid_auto_rows": null,
            "grid_column": null,
            "grid_gap": null,
            "grid_row": null,
            "grid_template_areas": null,
            "grid_template_columns": null,
            "grid_template_rows": null,
            "height": null,
            "justify_content": null,
            "justify_items": null,
            "left": null,
            "margin": null,
            "max_height": null,
            "max_width": null,
            "min_height": null,
            "min_width": null,
            "object_fit": null,
            "object_position": null,
            "order": null,
            "overflow": null,
            "overflow_x": null,
            "overflow_y": null,
            "padding": null,
            "right": null,
            "top": null,
            "visibility": null,
            "width": null
          }
        },
        "7517d3e3025a4ee6a18172ba8df3b3ce": {
          "model_module": "@jupyter-widgets/base",
          "model_module_version": "1.2.0",
          "model_name": "LayoutModel",
          "state": {
            "_model_module": "@jupyter-widgets/base",
            "_model_module_version": "1.2.0",
            "_model_name": "LayoutModel",
            "_view_count": null,
            "_view_module": "@jupyter-widgets/base",
            "_view_module_version": "1.2.0",
            "_view_name": "LayoutView",
            "align_content": null,
            "align_items": null,
            "align_self": null,
            "border": null,
            "bottom": null,
            "display": null,
            "flex": null,
            "flex_flow": null,
            "grid_area": null,
            "grid_auto_columns": null,
            "grid_auto_flow": null,
            "grid_auto_rows": null,
            "grid_column": null,
            "grid_gap": null,
            "grid_row": null,
            "grid_template_areas": null,
            "grid_template_columns": null,
            "grid_template_rows": null,
            "height": null,
            "justify_content": null,
            "justify_items": null,
            "left": null,
            "margin": null,
            "max_height": null,
            "max_width": null,
            "min_height": null,
            "min_width": null,
            "object_fit": null,
            "object_position": null,
            "order": null,
            "overflow": null,
            "overflow_x": null,
            "overflow_y": null,
            "padding": null,
            "right": null,
            "top": null,
            "visibility": null,
            "width": null
          }
        },
        "786b26dc721840cdb88e4fb6bdab0247": {
          "model_module": "@jupyter-widgets/controls",
          "model_module_version": "1.5.0",
          "model_name": "HTMLModel",
          "state": {
            "_dom_classes": [],
            "_model_module": "@jupyter-widgets/controls",
            "_model_module_version": "1.5.0",
            "_model_name": "HTMLModel",
            "_view_count": null,
            "_view_module": "@jupyter-widgets/controls",
            "_view_module_version": "1.5.0",
            "_view_name": "HTMLView",
            "description": "",
            "description_tooltip": null,
            "layout": "IPY_MODEL_7a1d091165824b7787e3fdd5f8e661b3",
            "placeholder": "​",
            "style": "IPY_MODEL_3f899168848d4ae8aa68fcc7fe289229",
            "value": " 48.0/48.0 [00:00&lt;00:00, 1.24kB/s]"
          }
        },
        "7a1d091165824b7787e3fdd5f8e661b3": {
          "model_module": "@jupyter-widgets/base",
          "model_module_version": "1.2.0",
          "model_name": "LayoutModel",
          "state": {
            "_model_module": "@jupyter-widgets/base",
            "_model_module_version": "1.2.0",
            "_model_name": "LayoutModel",
            "_view_count": null,
            "_view_module": "@jupyter-widgets/base",
            "_view_module_version": "1.2.0",
            "_view_name": "LayoutView",
            "align_content": null,
            "align_items": null,
            "align_self": null,
            "border": null,
            "bottom": null,
            "display": null,
            "flex": null,
            "flex_flow": null,
            "grid_area": null,
            "grid_auto_columns": null,
            "grid_auto_flow": null,
            "grid_auto_rows": null,
            "grid_column": null,
            "grid_gap": null,
            "grid_row": null,
            "grid_template_areas": null,
            "grid_template_columns": null,
            "grid_template_rows": null,
            "height": null,
            "justify_content": null,
            "justify_items": null,
            "left": null,
            "margin": null,
            "max_height": null,
            "max_width": null,
            "min_height": null,
            "min_width": null,
            "object_fit": null,
            "object_position": null,
            "order": null,
            "overflow": null,
            "overflow_x": null,
            "overflow_y": null,
            "padding": null,
            "right": null,
            "top": null,
            "visibility": null,
            "width": null
          }
        },
        "7d0c10923b61488d8e6c7d649523c0d7": {
          "model_module": "@jupyter-widgets/controls",
          "model_module_version": "1.5.0",
          "model_name": "DescriptionStyleModel",
          "state": {
            "_model_module": "@jupyter-widgets/controls",
            "_model_module_version": "1.5.0",
            "_model_name": "DescriptionStyleModel",
            "_view_count": null,
            "_view_module": "@jupyter-widgets/base",
            "_view_module_version": "1.2.0",
            "_view_name": "StyleView",
            "description_width": ""
          }
        },
        "7df80f3da3734ac4b2147e6bdc4e4c46": {
          "model_module": "@jupyter-widgets/base",
          "model_module_version": "1.2.0",
          "model_name": "LayoutModel",
          "state": {
            "_model_module": "@jupyter-widgets/base",
            "_model_module_version": "1.2.0",
            "_model_name": "LayoutModel",
            "_view_count": null,
            "_view_module": "@jupyter-widgets/base",
            "_view_module_version": "1.2.0",
            "_view_name": "LayoutView",
            "align_content": null,
            "align_items": null,
            "align_self": null,
            "border": null,
            "bottom": null,
            "display": null,
            "flex": null,
            "flex_flow": null,
            "grid_area": null,
            "grid_auto_columns": null,
            "grid_auto_flow": null,
            "grid_auto_rows": null,
            "grid_column": null,
            "grid_gap": null,
            "grid_row": null,
            "grid_template_areas": null,
            "grid_template_columns": null,
            "grid_template_rows": null,
            "height": null,
            "justify_content": null,
            "justify_items": null,
            "left": null,
            "margin": null,
            "max_height": null,
            "max_width": null,
            "min_height": null,
            "min_width": null,
            "object_fit": null,
            "object_position": null,
            "order": null,
            "overflow": null,
            "overflow_x": null,
            "overflow_y": null,
            "padding": null,
            "right": null,
            "top": null,
            "visibility": null,
            "width": null
          }
        },
        "7ebfd2205fe3421d957d3ce096185172": {
          "model_module": "@jupyter-widgets/base",
          "model_module_version": "1.2.0",
          "model_name": "LayoutModel",
          "state": {
            "_model_module": "@jupyter-widgets/base",
            "_model_module_version": "1.2.0",
            "_model_name": "LayoutModel",
            "_view_count": null,
            "_view_module": "@jupyter-widgets/base",
            "_view_module_version": "1.2.0",
            "_view_name": "LayoutView",
            "align_content": null,
            "align_items": null,
            "align_self": null,
            "border": null,
            "bottom": null,
            "display": null,
            "flex": null,
            "flex_flow": null,
            "grid_area": null,
            "grid_auto_columns": null,
            "grid_auto_flow": null,
            "grid_auto_rows": null,
            "grid_column": null,
            "grid_gap": null,
            "grid_row": null,
            "grid_template_areas": null,
            "grid_template_columns": null,
            "grid_template_rows": null,
            "height": null,
            "justify_content": null,
            "justify_items": null,
            "left": null,
            "margin": null,
            "max_height": null,
            "max_width": null,
            "min_height": null,
            "min_width": null,
            "object_fit": null,
            "object_position": null,
            "order": null,
            "overflow": null,
            "overflow_x": null,
            "overflow_y": null,
            "padding": null,
            "right": null,
            "top": null,
            "visibility": null,
            "width": null
          }
        },
        "7fa957dc37124c02b9eda14bb9e8df4d": {
          "model_module": "@jupyter-widgets/base",
          "model_module_version": "1.2.0",
          "model_name": "LayoutModel",
          "state": {
            "_model_module": "@jupyter-widgets/base",
            "_model_module_version": "1.2.0",
            "_model_name": "LayoutModel",
            "_view_count": null,
            "_view_module": "@jupyter-widgets/base",
            "_view_module_version": "1.2.0",
            "_view_name": "LayoutView",
            "align_content": null,
            "align_items": null,
            "align_self": null,
            "border": null,
            "bottom": null,
            "display": null,
            "flex": null,
            "flex_flow": null,
            "grid_area": null,
            "grid_auto_columns": null,
            "grid_auto_flow": null,
            "grid_auto_rows": null,
            "grid_column": null,
            "grid_gap": null,
            "grid_row": null,
            "grid_template_areas": null,
            "grid_template_columns": null,
            "grid_template_rows": null,
            "height": null,
            "justify_content": null,
            "justify_items": null,
            "left": null,
            "margin": null,
            "max_height": null,
            "max_width": null,
            "min_height": null,
            "min_width": null,
            "object_fit": null,
            "object_position": null,
            "order": null,
            "overflow": null,
            "overflow_x": null,
            "overflow_y": null,
            "padding": null,
            "right": null,
            "top": null,
            "visibility": null,
            "width": null
          }
        },
        "7fc4f520a5214be1a645b364296d575e": {
          "model_module": "@jupyter-widgets/controls",
          "model_module_version": "1.5.0",
          "model_name": "HBoxModel",
          "state": {
            "_dom_classes": [],
            "_model_module": "@jupyter-widgets/controls",
            "_model_module_version": "1.5.0",
            "_model_name": "HBoxModel",
            "_view_count": null,
            "_view_module": "@jupyter-widgets/controls",
            "_view_module_version": "1.5.0",
            "_view_name": "HBoxView",
            "box_style": "",
            "children": [
              "IPY_MODEL_62b4278f39f54eb3a1e042ee465ae1a1",
              "IPY_MODEL_a0c5b775135b4de484b34c5e4701bd19",
              "IPY_MODEL_ba500c20bd9643fa98c654caf1640205"
            ],
            "layout": "IPY_MODEL_a7b547eb989b402ca6910210f3813576"
          }
        },
        "89bab6c56c18438281781b5d9cda98e8": {
          "model_module": "@jupyter-widgets/base",
          "model_module_version": "1.2.0",
          "model_name": "LayoutModel",
          "state": {
            "_model_module": "@jupyter-widgets/base",
            "_model_module_version": "1.2.0",
            "_model_name": "LayoutModel",
            "_view_count": null,
            "_view_module": "@jupyter-widgets/base",
            "_view_module_version": "1.2.0",
            "_view_name": "LayoutView",
            "align_content": null,
            "align_items": null,
            "align_self": null,
            "border": null,
            "bottom": null,
            "display": null,
            "flex": null,
            "flex_flow": null,
            "grid_area": null,
            "grid_auto_columns": null,
            "grid_auto_flow": null,
            "grid_auto_rows": null,
            "grid_column": null,
            "grid_gap": null,
            "grid_row": null,
            "grid_template_areas": null,
            "grid_template_columns": null,
            "grid_template_rows": null,
            "height": null,
            "justify_content": null,
            "justify_items": null,
            "left": null,
            "margin": null,
            "max_height": null,
            "max_width": null,
            "min_height": null,
            "min_width": null,
            "object_fit": null,
            "object_position": null,
            "order": null,
            "overflow": null,
            "overflow_x": null,
            "overflow_y": null,
            "padding": null,
            "right": null,
            "top": null,
            "visibility": null,
            "width": null
          }
        },
        "8f977b2ba5d8488a9cb34ee4c93e958b": {
          "model_module": "@jupyter-widgets/controls",
          "model_module_version": "1.5.0",
          "model_name": "DescriptionStyleModel",
          "state": {
            "_model_module": "@jupyter-widgets/controls",
            "_model_module_version": "1.5.0",
            "_model_name": "DescriptionStyleModel",
            "_view_count": null,
            "_view_module": "@jupyter-widgets/base",
            "_view_module_version": "1.2.0",
            "_view_name": "StyleView",
            "description_width": ""
          }
        },
        "9042cd4b44b8438281c7f6be18ecaf73": {
          "model_module": "@jupyter-widgets/controls",
          "model_module_version": "1.5.0",
          "model_name": "HBoxModel",
          "state": {
            "_dom_classes": [],
            "_model_module": "@jupyter-widgets/controls",
            "_model_module_version": "1.5.0",
            "_model_name": "HBoxModel",
            "_view_count": null,
            "_view_module": "@jupyter-widgets/controls",
            "_view_module_version": "1.5.0",
            "_view_name": "HBoxView",
            "box_style": "",
            "children": [
              "IPY_MODEL_ef987ed3bf7246648dbd37474afcb93c",
              "IPY_MODEL_5099bd9dadc04cc9be3777f85980b8d6",
              "IPY_MODEL_7369a874be6b4ad4977fdddedf51b897"
            ],
            "layout": "IPY_MODEL_3110bdaf7720454f87aa24f809f03170"
          }
        },
        "90e74a8c4e2745ceb2caee260d150277": {
          "model_module": "@jupyter-widgets/controls",
          "model_module_version": "1.5.0",
          "model_name": "HBoxModel",
          "state": {
            "_dom_classes": [],
            "_model_module": "@jupyter-widgets/controls",
            "_model_module_version": "1.5.0",
            "_model_name": "HBoxModel",
            "_view_count": null,
            "_view_module": "@jupyter-widgets/controls",
            "_view_module_version": "1.5.0",
            "_view_name": "HBoxView",
            "box_style": "",
            "children": [
              "IPY_MODEL_fb52f023784e4a018aad04c4bdaab092",
              "IPY_MODEL_6beff9146bf646ccbce842bfae09b88f",
              "IPY_MODEL_786b26dc721840cdb88e4fb6bdab0247"
            ],
            "layout": "IPY_MODEL_7517d3e3025a4ee6a18172ba8df3b3ce"
          }
        },
        "91699b8046d24f6eae4d0aaaf79f3fcd": {
          "model_module": "@jupyter-widgets/controls",
          "model_module_version": "1.5.0",
          "model_name": "ProgressStyleModel",
          "state": {
            "_model_module": "@jupyter-widgets/controls",
            "_model_module_version": "1.5.0",
            "_model_name": "ProgressStyleModel",
            "_view_count": null,
            "_view_module": "@jupyter-widgets/base",
            "_view_module_version": "1.2.0",
            "_view_name": "StyleView",
            "bar_color": null,
            "description_width": ""
          }
        },
        "9713be1011be49cd80fee8b54fefb635": {
          "model_module": "@jupyter-widgets/controls",
          "model_module_version": "1.5.0",
          "model_name": "ProgressStyleModel",
          "state": {
            "_model_module": "@jupyter-widgets/controls",
            "_model_module_version": "1.5.0",
            "_model_name": "ProgressStyleModel",
            "_view_count": null,
            "_view_module": "@jupyter-widgets/base",
            "_view_module_version": "1.2.0",
            "_view_name": "StyleView",
            "bar_color": null,
            "description_width": ""
          }
        },
        "9cb76d80e1f54cc5ae8fc7ac776e8324": {
          "model_module": "@jupyter-widgets/controls",
          "model_module_version": "1.5.0",
          "model_name": "ProgressStyleModel",
          "state": {
            "_model_module": "@jupyter-widgets/controls",
            "_model_module_version": "1.5.0",
            "_model_name": "ProgressStyleModel",
            "_view_count": null,
            "_view_module": "@jupyter-widgets/base",
            "_view_module_version": "1.2.0",
            "_view_name": "StyleView",
            "bar_color": null,
            "description_width": ""
          }
        },
        "9f4c07d66d1a4aafabfeee82a0b243a5": {
          "model_module": "@jupyter-widgets/controls",
          "model_module_version": "1.5.0",
          "model_name": "DescriptionStyleModel",
          "state": {
            "_model_module": "@jupyter-widgets/controls",
            "_model_module_version": "1.5.0",
            "_model_name": "DescriptionStyleModel",
            "_view_count": null,
            "_view_module": "@jupyter-widgets/base",
            "_view_module_version": "1.2.0",
            "_view_name": "StyleView",
            "description_width": ""
          }
        },
        "a0c5b775135b4de484b34c5e4701bd19": {
          "model_module": "@jupyter-widgets/controls",
          "model_module_version": "1.5.0",
          "model_name": "FloatProgressModel",
          "state": {
            "_dom_classes": [],
            "_model_module": "@jupyter-widgets/controls",
            "_model_module_version": "1.5.0",
            "_model_name": "FloatProgressModel",
            "_view_count": null,
            "_view_module": "@jupyter-widgets/controls",
            "_view_module_version": "1.5.0",
            "_view_name": "ProgressView",
            "bar_style": "success",
            "description": "",
            "description_tooltip": null,
            "layout": "IPY_MODEL_0f569a01e4d44549beafbcd0819139c4",
            "max": 440449768,
            "min": 0,
            "orientation": "horizontal",
            "style": "IPY_MODEL_686bb7bdff51418ba6e5f3e6ba9d7621",
            "value": 440449768
          }
        },
        "a2cb271e59414dc49555063dfbb6f08d": {
          "model_module": "@jupyter-widgets/controls",
          "model_module_version": "1.5.0",
          "model_name": "FloatProgressModel",
          "state": {
            "_dom_classes": [],
            "_model_module": "@jupyter-widgets/controls",
            "_model_module_version": "1.5.0",
            "_model_name": "FloatProgressModel",
            "_view_count": null,
            "_view_module": "@jupyter-widgets/controls",
            "_view_module_version": "1.5.0",
            "_view_name": "ProgressView",
            "bar_style": "success",
            "description": "",
            "description_tooltip": null,
            "layout": "IPY_MODEL_b68df3e3387d40c3928c0b56f8de4238",
            "max": 1007,
            "min": 0,
            "orientation": "horizontal",
            "style": "IPY_MODEL_2aeebe3cb6704d18aceae448b8e6a5e4",
            "value": 1007
          }
        },
        "a354a0d29f454e2eaf34a76df2aaf074": {
          "model_module": "@jupyter-widgets/controls",
          "model_module_version": "1.5.0",
          "model_name": "HTMLModel",
          "state": {
            "_dom_classes": [],
            "_model_module": "@jupyter-widgets/controls",
            "_model_module_version": "1.5.0",
            "_model_name": "HTMLModel",
            "_view_count": null,
            "_view_module": "@jupyter-widgets/controls",
            "_view_module_version": "1.5.0",
            "_view_name": "HTMLView",
            "description": "",
            "description_tooltip": null,
            "layout": "IPY_MODEL_dc8fac21b56b4345894f32bcf1a2a49d",
            "placeholder": "​",
            "style": "IPY_MODEL_5e15ff47a8a84348a44108bafbfcf4bf",
            "value": " 1.01k/1.01k [00:00&lt;00:00, 42.3kB/s]"
          }
        },
        "a7b547eb989b402ca6910210f3813576": {
          "model_module": "@jupyter-widgets/base",
          "model_module_version": "1.2.0",
          "model_name": "LayoutModel",
          "state": {
            "_model_module": "@jupyter-widgets/base",
            "_model_module_version": "1.2.0",
            "_model_name": "LayoutModel",
            "_view_count": null,
            "_view_module": "@jupyter-widgets/base",
            "_view_module_version": "1.2.0",
            "_view_name": "LayoutView",
            "align_content": null,
            "align_items": null,
            "align_self": null,
            "border": null,
            "bottom": null,
            "display": null,
            "flex": null,
            "flex_flow": null,
            "grid_area": null,
            "grid_auto_columns": null,
            "grid_auto_flow": null,
            "grid_auto_rows": null,
            "grid_column": null,
            "grid_gap": null,
            "grid_row": null,
            "grid_template_areas": null,
            "grid_template_columns": null,
            "grid_template_rows": null,
            "height": null,
            "justify_content": null,
            "justify_items": null,
            "left": null,
            "margin": null,
            "max_height": null,
            "max_width": null,
            "min_height": null,
            "min_width": null,
            "object_fit": null,
            "object_position": null,
            "order": null,
            "overflow": null,
            "overflow_x": null,
            "overflow_y": null,
            "padding": null,
            "right": null,
            "top": null,
            "visibility": null,
            "width": null
          }
        },
        "a9fd82db72f54eddb3f69cc317817a33": {
          "model_module": "@jupyter-widgets/controls",
          "model_module_version": "1.5.0",
          "model_name": "ProgressStyleModel",
          "state": {
            "_model_module": "@jupyter-widgets/controls",
            "_model_module_version": "1.5.0",
            "_model_name": "ProgressStyleModel",
            "_view_count": null,
            "_view_module": "@jupyter-widgets/base",
            "_view_module_version": "1.2.0",
            "_view_name": "StyleView",
            "bar_color": null,
            "description_width": ""
          }
        },
        "b4ae08ea90c84eafb0bd6b78541dac88": {
          "model_module": "@jupyter-widgets/controls",
          "model_module_version": "1.5.0",
          "model_name": "HTMLModel",
          "state": {
            "_dom_classes": [],
            "_model_module": "@jupyter-widgets/controls",
            "_model_module_version": "1.5.0",
            "_model_name": "HTMLModel",
            "_view_count": null,
            "_view_module": "@jupyter-widgets/controls",
            "_view_module_version": "1.5.0",
            "_view_name": "HTMLView",
            "description": "",
            "description_tooltip": null,
            "layout": "IPY_MODEL_61a027088c2b445c8d0e37258defc6fd",
            "placeholder": "​",
            "style": "IPY_MODEL_ec3ea8e97f0248ac97dbb6bc6c4a2121",
            "value": " 570/570 [00:00&lt;00:00, 17.0kB/s]"
          }
        },
        "b564dc5293084445b5e29af16ddbfa41": {
          "model_module": "@jupyter-widgets/base",
          "model_module_version": "1.2.0",
          "model_name": "LayoutModel",
          "state": {
            "_model_module": "@jupyter-widgets/base",
            "_model_module_version": "1.2.0",
            "_model_name": "LayoutModel",
            "_view_count": null,
            "_view_module": "@jupyter-widgets/base",
            "_view_module_version": "1.2.0",
            "_view_name": "LayoutView",
            "align_content": null,
            "align_items": null,
            "align_self": null,
            "border": null,
            "bottom": null,
            "display": null,
            "flex": null,
            "flex_flow": null,
            "grid_area": null,
            "grid_auto_columns": null,
            "grid_auto_flow": null,
            "grid_auto_rows": null,
            "grid_column": null,
            "grid_gap": null,
            "grid_row": null,
            "grid_template_areas": null,
            "grid_template_columns": null,
            "grid_template_rows": null,
            "height": null,
            "justify_content": null,
            "justify_items": null,
            "left": null,
            "margin": null,
            "max_height": null,
            "max_width": null,
            "min_height": null,
            "min_width": null,
            "object_fit": null,
            "object_position": null,
            "order": null,
            "overflow": null,
            "overflow_x": null,
            "overflow_y": null,
            "padding": null,
            "right": null,
            "top": null,
            "visibility": null,
            "width": null
          }
        },
        "b68df3e3387d40c3928c0b56f8de4238": {
          "model_module": "@jupyter-widgets/base",
          "model_module_version": "1.2.0",
          "model_name": "LayoutModel",
          "state": {
            "_model_module": "@jupyter-widgets/base",
            "_model_module_version": "1.2.0",
            "_model_name": "LayoutModel",
            "_view_count": null,
            "_view_module": "@jupyter-widgets/base",
            "_view_module_version": "1.2.0",
            "_view_name": "LayoutView",
            "align_content": null,
            "align_items": null,
            "align_self": null,
            "border": null,
            "bottom": null,
            "display": null,
            "flex": null,
            "flex_flow": null,
            "grid_area": null,
            "grid_auto_columns": null,
            "grid_auto_flow": null,
            "grid_auto_rows": null,
            "grid_column": null,
            "grid_gap": null,
            "grid_row": null,
            "grid_template_areas": null,
            "grid_template_columns": null,
            "grid_template_rows": null,
            "height": null,
            "justify_content": null,
            "justify_items": null,
            "left": null,
            "margin": null,
            "max_height": null,
            "max_width": null,
            "min_height": null,
            "min_width": null,
            "object_fit": null,
            "object_position": null,
            "order": null,
            "overflow": null,
            "overflow_x": null,
            "overflow_y": null,
            "padding": null,
            "right": null,
            "top": null,
            "visibility": null,
            "width": null
          }
        },
        "b86c5296e9e143b9903073e7ef233bed": {
          "model_module": "@jupyter-widgets/controls",
          "model_module_version": "1.5.0",
          "model_name": "DescriptionStyleModel",
          "state": {
            "_model_module": "@jupyter-widgets/controls",
            "_model_module_version": "1.5.0",
            "_model_name": "DescriptionStyleModel",
            "_view_count": null,
            "_view_module": "@jupyter-widgets/base",
            "_view_module_version": "1.2.0",
            "_view_name": "StyleView",
            "description_width": ""
          }
        },
        "ba500c20bd9643fa98c654caf1640205": {
          "model_module": "@jupyter-widgets/controls",
          "model_module_version": "1.5.0",
          "model_name": "HTMLModel",
          "state": {
            "_dom_classes": [],
            "_model_module": "@jupyter-widgets/controls",
            "_model_module_version": "1.5.0",
            "_model_name": "HTMLModel",
            "_view_count": null,
            "_view_module": "@jupyter-widgets/controls",
            "_view_module_version": "1.5.0",
            "_view_name": "HTMLView",
            "description": "",
            "description_tooltip": null,
            "layout": "IPY_MODEL_2deb328156144b6aa4af572844306e5f",
            "placeholder": "​",
            "style": "IPY_MODEL_d0f69d2616b34cd09c029a8da94a6f0f",
            "value": " 440M/440M [00:02&lt;00:00, 147MB/s]"
          }
        },
        "bc10b10c91e841d789ca22e5d2b8355d": {
          "model_module": "@jupyter-widgets/controls",
          "model_module_version": "1.5.0",
          "model_name": "DescriptionStyleModel",
          "state": {
            "_model_module": "@jupyter-widgets/controls",
            "_model_module_version": "1.5.0",
            "_model_name": "DescriptionStyleModel",
            "_view_count": null,
            "_view_module": "@jupyter-widgets/base",
            "_view_module_version": "1.2.0",
            "_view_name": "StyleView",
            "description_width": ""
          }
        },
        "be5b2b7d17624cc3a18bc2f32a1cd2a1": {
          "model_module": "@jupyter-widgets/controls",
          "model_module_version": "1.5.0",
          "model_name": "DescriptionStyleModel",
          "state": {
            "_model_module": "@jupyter-widgets/controls",
            "_model_module_version": "1.5.0",
            "_model_name": "DescriptionStyleModel",
            "_view_count": null,
            "_view_module": "@jupyter-widgets/base",
            "_view_module_version": "1.2.0",
            "_view_name": "StyleView",
            "description_width": ""
          }
        },
        "bfb16cc04bd748da83009f47425bcb53": {
          "model_module": "@jupyter-widgets/controls",
          "model_module_version": "1.5.0",
          "model_name": "HTMLModel",
          "state": {
            "_dom_classes": [],
            "_model_module": "@jupyter-widgets/controls",
            "_model_module_version": "1.5.0",
            "_model_name": "HTMLModel",
            "_view_count": null,
            "_view_module": "@jupyter-widgets/controls",
            "_view_module_version": "1.5.0",
            "_view_name": "HTMLView",
            "description": "",
            "description_tooltip": null,
            "layout": "IPY_MODEL_7fa957dc37124c02b9eda14bb9e8df4d",
            "placeholder": "​",
            "style": "IPY_MODEL_be5b2b7d17624cc3a18bc2f32a1cd2a1",
            "value": "Downloading (…)ingDINO_SwinB.cfg.py: 100%"
          }
        },
        "c206f3dc42d54352a0f85e8c8addf489": {
          "model_module": "@jupyter-widgets/controls",
          "model_module_version": "1.5.0",
          "model_name": "FloatProgressModel",
          "state": {
            "_dom_classes": [],
            "_model_module": "@jupyter-widgets/controls",
            "_model_module_version": "1.5.0",
            "_model_name": "FloatProgressModel",
            "_view_count": null,
            "_view_module": "@jupyter-widgets/controls",
            "_view_module_version": "1.5.0",
            "_view_name": "ProgressView",
            "bar_style": "success",
            "description": "",
            "description_tooltip": null,
            "layout": "IPY_MODEL_5ec9a3ecba0a49f699f93c46aefea107",
            "max": 570,
            "min": 0,
            "orientation": "horizontal",
            "style": "IPY_MODEL_5494d740190f410da26d73319ded1141",
            "value": 570
          }
        },
        "c265275c247847569a0044c32794a5a1": {
          "model_module": "@jupyter-widgets/controls",
          "model_module_version": "1.5.0",
          "model_name": "HTMLModel",
          "state": {
            "_dom_classes": [],
            "_model_module": "@jupyter-widgets/controls",
            "_model_module_version": "1.5.0",
            "_model_name": "HTMLModel",
            "_view_count": null,
            "_view_module": "@jupyter-widgets/controls",
            "_view_module_version": "1.5.0",
            "_view_name": "HTMLView",
            "description": "",
            "description_tooltip": null,
            "layout": "IPY_MODEL_08f5dd902166489da9f6f53a3a7e7998",
            "placeholder": "​",
            "style": "IPY_MODEL_0e5b02b940e24f828a012fad2eabc416",
            "value": " 938M/938M [00:10&lt;00:00, 20.0MB/s]"
          }
        },
        "d0f69d2616b34cd09c029a8da94a6f0f": {
          "model_module": "@jupyter-widgets/controls",
          "model_module_version": "1.5.0",
          "model_name": "DescriptionStyleModel",
          "state": {
            "_model_module": "@jupyter-widgets/controls",
            "_model_module_version": "1.5.0",
            "_model_name": "DescriptionStyleModel",
            "_view_count": null,
            "_view_module": "@jupyter-widgets/base",
            "_view_module_version": "1.2.0",
            "_view_name": "StyleView",
            "description_width": ""
          }
        },
        "d2df08c2c0a144e7a63809a2b674eb19": {
          "model_module": "@jupyter-widgets/base",
          "model_module_version": "1.2.0",
          "model_name": "LayoutModel",
          "state": {
            "_model_module": "@jupyter-widgets/base",
            "_model_module_version": "1.2.0",
            "_model_name": "LayoutModel",
            "_view_count": null,
            "_view_module": "@jupyter-widgets/base",
            "_view_module_version": "1.2.0",
            "_view_name": "LayoutView",
            "align_content": null,
            "align_items": null,
            "align_self": null,
            "border": null,
            "bottom": null,
            "display": null,
            "flex": null,
            "flex_flow": null,
            "grid_area": null,
            "grid_auto_columns": null,
            "grid_auto_flow": null,
            "grid_auto_rows": null,
            "grid_column": null,
            "grid_gap": null,
            "grid_row": null,
            "grid_template_areas": null,
            "grid_template_columns": null,
            "grid_template_rows": null,
            "height": null,
            "justify_content": null,
            "justify_items": null,
            "left": null,
            "margin": null,
            "max_height": null,
            "max_width": null,
            "min_height": null,
            "min_width": null,
            "object_fit": null,
            "object_position": null,
            "order": null,
            "overflow": null,
            "overflow_x": null,
            "overflow_y": null,
            "padding": null,
            "right": null,
            "top": null,
            "visibility": null,
            "width": null
          }
        },
        "d4bddf4c37394bd388e5ffd120704989": {
          "model_module": "@jupyter-widgets/controls",
          "model_module_version": "1.5.0",
          "model_name": "HBoxModel",
          "state": {
            "_dom_classes": [],
            "_model_module": "@jupyter-widgets/controls",
            "_model_module_version": "1.5.0",
            "_model_name": "HBoxModel",
            "_view_count": null,
            "_view_module": "@jupyter-widgets/controls",
            "_view_module_version": "1.5.0",
            "_view_name": "HBoxView",
            "box_style": "",
            "children": [
              "IPY_MODEL_ffd32e73a8b24908914579b7a1553f18",
              "IPY_MODEL_56d9cc117db845348061c5a96dba1079",
              "IPY_MODEL_e7d4646547c941d59bb6fc9714fb7a76"
            ],
            "layout": "IPY_MODEL_eda6a48cbb0b420e92943e08a23d9706"
          }
        },
        "d5de3a1044c24c628813ec7cb8b637e6": {
          "model_module": "@jupyter-widgets/controls",
          "model_module_version": "1.5.0",
          "model_name": "VBoxModel",
          "state": {
            "_dom_classes": [],
            "_model_module": "@jupyter-widgets/controls",
            "_model_module_version": "1.5.0",
            "_model_name": "VBoxModel",
            "_view_count": null,
            "_view_module": "@jupyter-widgets/controls",
            "_view_module_version": "1.5.0",
            "_view_name": "VBoxView",
            "box_style": "",
            "children": [
              "IPY_MODEL_50d91b4f919346189911b19315d1fe42",
              "IPY_MODEL_d98de81ea007416990a6b28afa7e6335"
            ],
            "layout": "IPY_MODEL_4d75e6eade6240fda9afd48af56feb97"
          }
        },
        "d6475beb35834773bbf0600ef59ca74d": {
          "model_module": "@jupyter-widgets/controls",
          "model_module_version": "1.5.0",
          "model_name": "DescriptionStyleModel",
          "state": {
            "_model_module": "@jupyter-widgets/controls",
            "_model_module_version": "1.5.0",
            "_model_name": "DescriptionStyleModel",
            "_view_count": null,
            "_view_module": "@jupyter-widgets/base",
            "_view_module_version": "1.2.0",
            "_view_name": "StyleView",
            "description_width": ""
          }
        },
        "d98de81ea007416990a6b28afa7e6335": {
          "model_module": "@jupyter-widgets/controls",
          "model_module_version": "1.5.0",
          "model_name": "FloatProgressModel",
          "state": {
            "_dom_classes": [],
            "_model_module": "@jupyter-widgets/controls",
            "_model_module_version": "1.5.0",
            "_model_name": "FloatProgressModel",
            "_view_count": null,
            "_view_module": "@jupyter-widgets/controls",
            "_view_module_version": "1.5.0",
            "_view_name": "ProgressView",
            "bar_style": "",
            "description": "",
            "description_tooltip": null,
            "layout": "IPY_MODEL_15d30f610e324f8f97050c2493cd81ef",
            "max": 1,
            "min": 0,
            "orientation": "horizontal",
            "style": "IPY_MODEL_9cb76d80e1f54cc5ae8fc7ac776e8324",
            "value": 1
          }
        },
        "dc8fac21b56b4345894f32bcf1a2a49d": {
          "model_module": "@jupyter-widgets/base",
          "model_module_version": "1.2.0",
          "model_name": "LayoutModel",
          "state": {
            "_model_module": "@jupyter-widgets/base",
            "_model_module_version": "1.2.0",
            "_model_name": "LayoutModel",
            "_view_count": null,
            "_view_module": "@jupyter-widgets/base",
            "_view_module_version": "1.2.0",
            "_view_name": "LayoutView",
            "align_content": null,
            "align_items": null,
            "align_self": null,
            "border": null,
            "bottom": null,
            "display": null,
            "flex": null,
            "flex_flow": null,
            "grid_area": null,
            "grid_auto_columns": null,
            "grid_auto_flow": null,
            "grid_auto_rows": null,
            "grid_column": null,
            "grid_gap": null,
            "grid_row": null,
            "grid_template_areas": null,
            "grid_template_columns": null,
            "grid_template_rows": null,
            "height": null,
            "justify_content": null,
            "justify_items": null,
            "left": null,
            "margin": null,
            "max_height": null,
            "max_width": null,
            "min_height": null,
            "min_width": null,
            "object_fit": null,
            "object_position": null,
            "order": null,
            "overflow": null,
            "overflow_x": null,
            "overflow_y": null,
            "padding": null,
            "right": null,
            "top": null,
            "visibility": null,
            "width": null
          }
        },
        "df4fd94e0dc74b96a2676033e7905d95": {
          "model_module": "@jupyter-widgets/base",
          "model_module_version": "1.2.0",
          "model_name": "LayoutModel",
          "state": {
            "_model_module": "@jupyter-widgets/base",
            "_model_module_version": "1.2.0",
            "_model_name": "LayoutModel",
            "_view_count": null,
            "_view_module": "@jupyter-widgets/base",
            "_view_module_version": "1.2.0",
            "_view_name": "LayoutView",
            "align_content": null,
            "align_items": null,
            "align_self": null,
            "border": null,
            "bottom": null,
            "display": null,
            "flex": null,
            "flex_flow": null,
            "grid_area": null,
            "grid_auto_columns": null,
            "grid_auto_flow": null,
            "grid_auto_rows": null,
            "grid_column": null,
            "grid_gap": null,
            "grid_row": null,
            "grid_template_areas": null,
            "grid_template_columns": null,
            "grid_template_rows": null,
            "height": null,
            "justify_content": null,
            "justify_items": null,
            "left": null,
            "margin": null,
            "max_height": null,
            "max_width": null,
            "min_height": null,
            "min_width": null,
            "object_fit": null,
            "object_position": null,
            "order": null,
            "overflow": null,
            "overflow_x": null,
            "overflow_y": null,
            "padding": null,
            "right": null,
            "top": null,
            "visibility": null,
            "width": null
          }
        },
        "e08da01f3ce4456ba74f575359b3e6c7": {
          "model_module": "@jupyter-widgets/base",
          "model_module_version": "1.2.0",
          "model_name": "LayoutModel",
          "state": {
            "_model_module": "@jupyter-widgets/base",
            "_model_module_version": "1.2.0",
            "_model_name": "LayoutModel",
            "_view_count": null,
            "_view_module": "@jupyter-widgets/base",
            "_view_module_version": "1.2.0",
            "_view_name": "LayoutView",
            "align_content": null,
            "align_items": null,
            "align_self": null,
            "border": null,
            "bottom": null,
            "display": null,
            "flex": null,
            "flex_flow": null,
            "grid_area": null,
            "grid_auto_columns": null,
            "grid_auto_flow": null,
            "grid_auto_rows": null,
            "grid_column": null,
            "grid_gap": null,
            "grid_row": null,
            "grid_template_areas": null,
            "grid_template_columns": null,
            "grid_template_rows": null,
            "height": null,
            "justify_content": null,
            "justify_items": null,
            "left": null,
            "margin": null,
            "max_height": null,
            "max_width": null,
            "min_height": null,
            "min_width": null,
            "object_fit": null,
            "object_position": null,
            "order": null,
            "overflow": null,
            "overflow_x": null,
            "overflow_y": null,
            "padding": null,
            "right": null,
            "top": null,
            "visibility": null,
            "width": null
          }
        },
        "e2012a2f6c8045a18d53ee6e9ec51e4a": {
          "model_module": "@jupyter-widgets/controls",
          "model_module_version": "1.5.0",
          "model_name": "DescriptionStyleModel",
          "state": {
            "_model_module": "@jupyter-widgets/controls",
            "_model_module_version": "1.5.0",
            "_model_name": "DescriptionStyleModel",
            "_view_count": null,
            "_view_module": "@jupyter-widgets/base",
            "_view_module_version": "1.2.0",
            "_view_name": "StyleView",
            "description_width": ""
          }
        },
        "e5acc96389284cf19c6abadf119209db": {
          "model_module": "@jupyter-widgets/base",
          "model_module_version": "1.2.0",
          "model_name": "LayoutModel",
          "state": {
            "_model_module": "@jupyter-widgets/base",
            "_model_module_version": "1.2.0",
            "_model_name": "LayoutModel",
            "_view_count": null,
            "_view_module": "@jupyter-widgets/base",
            "_view_module_version": "1.2.0",
            "_view_name": "LayoutView",
            "align_content": null,
            "align_items": null,
            "align_self": null,
            "border": null,
            "bottom": null,
            "display": null,
            "flex": null,
            "flex_flow": null,
            "grid_area": null,
            "grid_auto_columns": null,
            "grid_auto_flow": null,
            "grid_auto_rows": null,
            "grid_column": null,
            "grid_gap": null,
            "grid_row": null,
            "grid_template_areas": null,
            "grid_template_columns": null,
            "grid_template_rows": null,
            "height": null,
            "justify_content": null,
            "justify_items": null,
            "left": null,
            "margin": null,
            "max_height": null,
            "max_width": null,
            "min_height": null,
            "min_width": null,
            "object_fit": null,
            "object_position": null,
            "order": null,
            "overflow": null,
            "overflow_x": null,
            "overflow_y": null,
            "padding": null,
            "right": null,
            "top": null,
            "visibility": null,
            "width": null
          }
        },
        "e7d4646547c941d59bb6fc9714fb7a76": {
          "model_module": "@jupyter-widgets/controls",
          "model_module_version": "1.5.0",
          "model_name": "HTMLModel",
          "state": {
            "_dom_classes": [],
            "_model_module": "@jupyter-widgets/controls",
            "_model_module_version": "1.5.0",
            "_model_name": "HTMLModel",
            "_view_count": null,
            "_view_module": "@jupyter-widgets/controls",
            "_view_module_version": "1.5.0",
            "_view_name": "HTMLView",
            "description": "",
            "description_tooltip": null,
            "layout": "IPY_MODEL_e08da01f3ce4456ba74f575359b3e6c7",
            "placeholder": "​",
            "style": "IPY_MODEL_b86c5296e9e143b9903073e7ef233bed",
            "value": " 466k/466k [00:00&lt;00:00, 6.70MB/s]"
          }
        },
        "ec3ea8e97f0248ac97dbb6bc6c4a2121": {
          "model_module": "@jupyter-widgets/controls",
          "model_module_version": "1.5.0",
          "model_name": "DescriptionStyleModel",
          "state": {
            "_model_module": "@jupyter-widgets/controls",
            "_model_module_version": "1.5.0",
            "_model_name": "DescriptionStyleModel",
            "_view_count": null,
            "_view_module": "@jupyter-widgets/base",
            "_view_module_version": "1.2.0",
            "_view_name": "StyleView",
            "description_width": ""
          }
        },
        "eda6a48cbb0b420e92943e08a23d9706": {
          "model_module": "@jupyter-widgets/base",
          "model_module_version": "1.2.0",
          "model_name": "LayoutModel",
          "state": {
            "_model_module": "@jupyter-widgets/base",
            "_model_module_version": "1.2.0",
            "_model_name": "LayoutModel",
            "_view_count": null,
            "_view_module": "@jupyter-widgets/base",
            "_view_module_version": "1.2.0",
            "_view_name": "LayoutView",
            "align_content": null,
            "align_items": null,
            "align_self": null,
            "border": null,
            "bottom": null,
            "display": null,
            "flex": null,
            "flex_flow": null,
            "grid_area": null,
            "grid_auto_columns": null,
            "grid_auto_flow": null,
            "grid_auto_rows": null,
            "grid_column": null,
            "grid_gap": null,
            "grid_row": null,
            "grid_template_areas": null,
            "grid_template_columns": null,
            "grid_template_rows": null,
            "height": null,
            "justify_content": null,
            "justify_items": null,
            "left": null,
            "margin": null,
            "max_height": null,
            "max_width": null,
            "min_height": null,
            "min_width": null,
            "object_fit": null,
            "object_position": null,
            "order": null,
            "overflow": null,
            "overflow_x": null,
            "overflow_y": null,
            "padding": null,
            "right": null,
            "top": null,
            "visibility": null,
            "width": null
          }
        },
        "ef987ed3bf7246648dbd37474afcb93c": {
          "model_module": "@jupyter-widgets/controls",
          "model_module_version": "1.5.0",
          "model_name": "HTMLModel",
          "state": {
            "_dom_classes": [],
            "_model_module": "@jupyter-widgets/controls",
            "_model_module_version": "1.5.0",
            "_model_name": "HTMLModel",
            "_view_count": null,
            "_view_module": "@jupyter-widgets/controls",
            "_view_module_version": "1.5.0",
            "_view_name": "HTMLView",
            "description": "",
            "description_tooltip": null,
            "layout": "IPY_MODEL_7ebfd2205fe3421d957d3ce096185172",
            "placeholder": "​",
            "style": "IPY_MODEL_8f977b2ba5d8488a9cb34ee4c93e958b",
            "value": "Downloading vocab.txt: 100%"
          }
        },
        "f19e7b432082464a91bee00d9fb79f66": {
          "model_module": "@jupyter-widgets/controls",
          "model_module_version": "1.5.0",
          "model_name": "HBoxModel",
          "state": {
            "_dom_classes": [],
            "_model_module": "@jupyter-widgets/controls",
            "_model_module_version": "1.5.0",
            "_model_name": "HBoxModel",
            "_view_count": null,
            "_view_module": "@jupyter-widgets/controls",
            "_view_module_version": "1.5.0",
            "_view_name": "HBoxView",
            "box_style": "",
            "children": [
              "IPY_MODEL_366e163dc31447948515359b1393bb38",
              "IPY_MODEL_f1a42e795c074afd8ca3deb7b58142bc",
              "IPY_MODEL_c265275c247847569a0044c32794a5a1"
            ],
            "layout": "IPY_MODEL_f3b1a2a48418480e9756aa1dd1111811"
          }
        },
        "f1a42e795c074afd8ca3deb7b58142bc": {
          "model_module": "@jupyter-widgets/controls",
          "model_module_version": "1.5.0",
          "model_name": "FloatProgressModel",
          "state": {
            "_dom_classes": [],
            "_model_module": "@jupyter-widgets/controls",
            "_model_module_version": "1.5.0",
            "_model_name": "FloatProgressModel",
            "_view_count": null,
            "_view_module": "@jupyter-widgets/controls",
            "_view_module_version": "1.5.0",
            "_view_name": "ProgressView",
            "bar_style": "success",
            "description": "",
            "description_tooltip": null,
            "layout": "IPY_MODEL_7df80f3da3734ac4b2147e6bdc4e4c46",
            "max": 938057991,
            "min": 0,
            "orientation": "horizontal",
            "style": "IPY_MODEL_9713be1011be49cd80fee8b54fefb635",
            "value": 938057991
          }
        },
        "f3483b0eeea34a998408fa7aecb5f9b4": {
          "model_module": "@jupyter-widgets/controls",
          "model_module_version": "1.5.0",
          "model_name": "HBoxModel",
          "state": {
            "_dom_classes": [],
            "_model_module": "@jupyter-widgets/controls",
            "_model_module_version": "1.5.0",
            "_model_name": "HBoxModel",
            "_view_count": null,
            "_view_module": "@jupyter-widgets/controls",
            "_view_module_version": "1.5.0",
            "_view_name": "HBoxView",
            "box_style": "",
            "children": [
              "IPY_MODEL_bfb16cc04bd748da83009f47425bcb53",
              "IPY_MODEL_a2cb271e59414dc49555063dfbb6f08d",
              "IPY_MODEL_a354a0d29f454e2eaf34a76df2aaf074"
            ],
            "layout": "IPY_MODEL_32434952a1054d93b2204d5157edfc15"
          }
        },
        "f3b1a2a48418480e9756aa1dd1111811": {
          "model_module": "@jupyter-widgets/base",
          "model_module_version": "1.2.0",
          "model_name": "LayoutModel",
          "state": {
            "_model_module": "@jupyter-widgets/base",
            "_model_module_version": "1.2.0",
            "_model_name": "LayoutModel",
            "_view_count": null,
            "_view_module": "@jupyter-widgets/base",
            "_view_module_version": "1.2.0",
            "_view_name": "LayoutView",
            "align_content": null,
            "align_items": null,
            "align_self": null,
            "border": null,
            "bottom": null,
            "display": null,
            "flex": null,
            "flex_flow": null,
            "grid_area": null,
            "grid_auto_columns": null,
            "grid_auto_flow": null,
            "grid_auto_rows": null,
            "grid_column": null,
            "grid_gap": null,
            "grid_row": null,
            "grid_template_areas": null,
            "grid_template_columns": null,
            "grid_template_rows": null,
            "height": null,
            "justify_content": null,
            "justify_items": null,
            "left": null,
            "margin": null,
            "max_height": null,
            "max_width": null,
            "min_height": null,
            "min_width": null,
            "object_fit": null,
            "object_position": null,
            "order": null,
            "overflow": null,
            "overflow_x": null,
            "overflow_y": null,
            "padding": null,
            "right": null,
            "top": null,
            "visibility": null,
            "width": null
          }
        },
        "fb52f023784e4a018aad04c4bdaab092": {
          "model_module": "@jupyter-widgets/controls",
          "model_module_version": "1.5.0",
          "model_name": "HTMLModel",
          "state": {
            "_dom_classes": [],
            "_model_module": "@jupyter-widgets/controls",
            "_model_module_version": "1.5.0",
            "_model_name": "HTMLModel",
            "_view_count": null,
            "_view_module": "@jupyter-widgets/controls",
            "_view_module_version": "1.5.0",
            "_view_name": "HTMLView",
            "description": "",
            "description_tooltip": null,
            "layout": "IPY_MODEL_d2df08c2c0a144e7a63809a2b674eb19",
            "placeholder": "​",
            "style": "IPY_MODEL_1cf55da003654a9c96277acd5b6baa61",
            "value": "Downloading tokenizer_config.json: 100%"
          }
        },
        "ffd32e73a8b24908914579b7a1553f18": {
          "model_module": "@jupyter-widgets/controls",
          "model_module_version": "1.5.0",
          "model_name": "HTMLModel",
          "state": {
            "_dom_classes": [],
            "_model_module": "@jupyter-widgets/controls",
            "_model_module_version": "1.5.0",
            "_model_name": "HTMLModel",
            "_view_count": null,
            "_view_module": "@jupyter-widgets/controls",
            "_view_module_version": "1.5.0",
            "_view_name": "HTMLView",
            "description": "",
            "description_tooltip": null,
            "layout": "IPY_MODEL_1672c47004054eaab80ddcb4c46cdc12",
            "placeholder": "​",
            "style": "IPY_MODEL_9f4c07d66d1a4aafabfeee82a0b243a5",
            "value": "Downloading tokenizer.json: 100%"
          }
        }
      }
    }
  },
  "nbformat": 4,
  "nbformat_minor": 0
}
